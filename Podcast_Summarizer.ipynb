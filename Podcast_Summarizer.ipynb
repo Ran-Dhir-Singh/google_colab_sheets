{
  "nbformat": 4,
  "nbformat_minor": 0,
  "metadata": {
    "colab": {
      "provenance": [],
      "authorship_tag": "ABX9TyPoy+9bfO7fYlGYC2ipE7iZ",
      "include_colab_link": true
    },
    "kernelspec": {
      "name": "python3",
      "display_name": "Python 3"
    },
    "language_info": {
      "name": "python"
    }
  },
  "cells": [
    {
      "cell_type": "markdown",
      "metadata": {
        "id": "view-in-github",
        "colab_type": "text"
      },
      "source": [
        "<a href=\"https://colab.research.google.com/github/Ran-Dhir-Singh/google_colab_sheets/blob/main/Podcast_Summarizer.ipynb\" target=\"_parent\"><img src=\"https://colab.research.google.com/assets/colab-badge.svg\" alt=\"Open In Colab\"/></a>"
      ]
    },
    {
      "cell_type": "markdown",
      "source": [
        "# Transcribe, Summarize and Highlight Podcasts"
      ],
      "metadata": {
        "id": "2PuaCMVTM1_d"
      }
    },
    {
      "cell_type": "markdown",
      "source": [
        "In this Project we have 2 main to do items:\n",
        "\n",
        "1. Transcribe the audio file of the podcast\n",
        "2. Summarize and highlight the podcast content in a short format for users."
      ],
      "metadata": {
        "id": "BwbY-h2WR_Bf"
      }
    },
    {
      "cell_type": "markdown",
      "source": [
        "We will build a LLM app using openAI api and will use gpt3.5+ turbo model."
      ],
      "metadata": {
        "id": "oxg_ZnMCSVnp"
      }
    },
    {
      "cell_type": "markdown",
      "source": [
        "#The Problem\n",
        "\n",
        "I'm a huge fan of podcasts and love the format as a way to gain deep insights into different industries & technologies and learn from the lived experience of people all over the world. But there is limited time and I end up listening to only some of them! I'm subscribed to several interesting podcasts that release 1-2 episodes a week and the problem is that it's hard to identify an episode that would appeal to me. While many episodes provide show notes, additional links and timestamps, I don't find them very helpful in truly understanding the unique aspects and making me want to listen to it! How can I make this discovery process more interesting and efficient?"
      ],
      "metadata": {
        "id": "nnX1j2djShuh"
      }
    },
    {
      "cell_type": "markdown",
      "source": [
        "#Solution\n",
        "We would like to generate a personalized newsletter every week that summarizes each podcast episode released in that week. It would include information about the guest on the episode, the main topics discussed as well as some highlights. It would work by collecting a list of RSS feeds from the user and on a periodic basis, process the latest episodes and generate the newsletter. This acts as a round-up of the week, provides the user with the right level of detail that allows them to decide which of the episodes are appealing and must be listened to."
      ],
      "metadata": {
        "id": "rZ94fV1YSrBq"
      }
    }
  ]
}