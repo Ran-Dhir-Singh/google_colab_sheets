{
  "nbformat": 4,
  "nbformat_minor": 0,
  "metadata": {
    "colab": {
      "provenance": []
    },
    "kernelspec": {
      "name": "python3",
      "display_name": "Python 3"
    },
    "language_info": {
      "name": "python"
    },
    "accelerator": "GPU",
    "gpuClass": "standard"
  },
  "cells": [
    {
      "cell_type": "markdown",
      "source": [
        "# Bitcoin Predict Using Time Series Forecasting\n"
      ],
      "metadata": {
        "id": "oPsQUoq6zxKw"
      }
    },
    {
      "cell_type": "markdown",
      "source": [
        "Data - https://finance.yahoo.com/quote/BTC-USD/history/"
      ],
      "metadata": {
        "id": "eBmxY8w_z-0t"
      }
    },
    {
      "cell_type": "code",
      "source": [
        "import numpy as np\n",
        "import pandas as pd"
      ],
      "metadata": {
        "id": "3W6_UibR0DV-"
      },
      "execution_count": 3,
      "outputs": []
    },
    {
      "cell_type": "code",
      "source": [
        "df = pd.read_csv(\"/content/BTC-USD.csv\",\n",
        "                 parse_dates=[\"Date\"],\n",
        "                 index_col=[\"Date\"])\n",
        "df.head()"
      ],
      "metadata": {
        "colab": {
          "base_uri": "https://localhost:8080/",
          "height": 237
        },
        "id": "9_OyQzaj0HLI",
        "outputId": "579c8d96-4ba2-4f93-f463-19cf1ef5d3ae"
      },
      "execution_count": 4,
      "outputs": [
        {
          "output_type": "execute_result",
          "data": {
            "text/plain": [
              "                  Open        High         Low       Close   Adj Close  \\\n",
              "Date                                                                     \n",
              "2014-09-17  465.864014  468.174011  452.421997  457.334015  457.334015   \n",
              "2014-09-18  456.859985  456.859985  413.104004  424.440002  424.440002   \n",
              "2014-09-19  424.102997  427.834991  384.532013  394.795990  394.795990   \n",
              "2014-09-20  394.673004  423.295990  389.882996  408.903992  408.903992   \n",
              "2014-09-21  408.084991  412.425995  393.181000  398.821014  398.821014   \n",
              "\n",
              "              Volume  \n",
              "Date                  \n",
              "2014-09-17  21056800  \n",
              "2014-09-18  34483200  \n",
              "2014-09-19  37919700  \n",
              "2014-09-20  36863600  \n",
              "2014-09-21  26580100  "
            ],
            "text/html": [
              "\n",
              "  <div id=\"df-c04d4f1f-ffb2-497b-b2bf-19da01b696df\">\n",
              "    <div class=\"colab-df-container\">\n",
              "      <div>\n",
              "<style scoped>\n",
              "    .dataframe tbody tr th:only-of-type {\n",
              "        vertical-align: middle;\n",
              "    }\n",
              "\n",
              "    .dataframe tbody tr th {\n",
              "        vertical-align: top;\n",
              "    }\n",
              "\n",
              "    .dataframe thead th {\n",
              "        text-align: right;\n",
              "    }\n",
              "</style>\n",
              "<table border=\"1\" class=\"dataframe\">\n",
              "  <thead>\n",
              "    <tr style=\"text-align: right;\">\n",
              "      <th></th>\n",
              "      <th>Open</th>\n",
              "      <th>High</th>\n",
              "      <th>Low</th>\n",
              "      <th>Close</th>\n",
              "      <th>Adj Close</th>\n",
              "      <th>Volume</th>\n",
              "    </tr>\n",
              "    <tr>\n",
              "      <th>Date</th>\n",
              "      <th></th>\n",
              "      <th></th>\n",
              "      <th></th>\n",
              "      <th></th>\n",
              "      <th></th>\n",
              "      <th></th>\n",
              "    </tr>\n",
              "  </thead>\n",
              "  <tbody>\n",
              "    <tr>\n",
              "      <th>2014-09-17</th>\n",
              "      <td>465.864014</td>\n",
              "      <td>468.174011</td>\n",
              "      <td>452.421997</td>\n",
              "      <td>457.334015</td>\n",
              "      <td>457.334015</td>\n",
              "      <td>21056800</td>\n",
              "    </tr>\n",
              "    <tr>\n",
              "      <th>2014-09-18</th>\n",
              "      <td>456.859985</td>\n",
              "      <td>456.859985</td>\n",
              "      <td>413.104004</td>\n",
              "      <td>424.440002</td>\n",
              "      <td>424.440002</td>\n",
              "      <td>34483200</td>\n",
              "    </tr>\n",
              "    <tr>\n",
              "      <th>2014-09-19</th>\n",
              "      <td>424.102997</td>\n",
              "      <td>427.834991</td>\n",
              "      <td>384.532013</td>\n",
              "      <td>394.795990</td>\n",
              "      <td>394.795990</td>\n",
              "      <td>37919700</td>\n",
              "    </tr>\n",
              "    <tr>\n",
              "      <th>2014-09-20</th>\n",
              "      <td>394.673004</td>\n",
              "      <td>423.295990</td>\n",
              "      <td>389.882996</td>\n",
              "      <td>408.903992</td>\n",
              "      <td>408.903992</td>\n",
              "      <td>36863600</td>\n",
              "    </tr>\n",
              "    <tr>\n",
              "      <th>2014-09-21</th>\n",
              "      <td>408.084991</td>\n",
              "      <td>412.425995</td>\n",
              "      <td>393.181000</td>\n",
              "      <td>398.821014</td>\n",
              "      <td>398.821014</td>\n",
              "      <td>26580100</td>\n",
              "    </tr>\n",
              "  </tbody>\n",
              "</table>\n",
              "</div>\n",
              "      <button class=\"colab-df-convert\" onclick=\"convertToInteractive('df-c04d4f1f-ffb2-497b-b2bf-19da01b696df')\"\n",
              "              title=\"Convert this dataframe to an interactive table.\"\n",
              "              style=\"display:none;\">\n",
              "        \n",
              "  <svg xmlns=\"http://www.w3.org/2000/svg\" height=\"24px\"viewBox=\"0 0 24 24\"\n",
              "       width=\"24px\">\n",
              "    <path d=\"M0 0h24v24H0V0z\" fill=\"none\"/>\n",
              "    <path d=\"M18.56 5.44l.94 2.06.94-2.06 2.06-.94-2.06-.94-.94-2.06-.94 2.06-2.06.94zm-11 1L8.5 8.5l.94-2.06 2.06-.94-2.06-.94L8.5 2.5l-.94 2.06-2.06.94zm10 10l.94 2.06.94-2.06 2.06-.94-2.06-.94-.94-2.06-.94 2.06-2.06.94z\"/><path d=\"M17.41 7.96l-1.37-1.37c-.4-.4-.92-.59-1.43-.59-.52 0-1.04.2-1.43.59L10.3 9.45l-7.72 7.72c-.78.78-.78 2.05 0 2.83L4 21.41c.39.39.9.59 1.41.59.51 0 1.02-.2 1.41-.59l7.78-7.78 2.81-2.81c.8-.78.8-2.07 0-2.86zM5.41 20L4 18.59l7.72-7.72 1.47 1.35L5.41 20z\"/>\n",
              "  </svg>\n",
              "      </button>\n",
              "      \n",
              "  <style>\n",
              "    .colab-df-container {\n",
              "      display:flex;\n",
              "      flex-wrap:wrap;\n",
              "      gap: 12px;\n",
              "    }\n",
              "\n",
              "    .colab-df-convert {\n",
              "      background-color: #E8F0FE;\n",
              "      border: none;\n",
              "      border-radius: 50%;\n",
              "      cursor: pointer;\n",
              "      display: none;\n",
              "      fill: #1967D2;\n",
              "      height: 32px;\n",
              "      padding: 0 0 0 0;\n",
              "      width: 32px;\n",
              "    }\n",
              "\n",
              "    .colab-df-convert:hover {\n",
              "      background-color: #E2EBFA;\n",
              "      box-shadow: 0px 1px 2px rgba(60, 64, 67, 0.3), 0px 1px 3px 1px rgba(60, 64, 67, 0.15);\n",
              "      fill: #174EA6;\n",
              "    }\n",
              "\n",
              "    [theme=dark] .colab-df-convert {\n",
              "      background-color: #3B4455;\n",
              "      fill: #D2E3FC;\n",
              "    }\n",
              "\n",
              "    [theme=dark] .colab-df-convert:hover {\n",
              "      background-color: #434B5C;\n",
              "      box-shadow: 0px 1px 3px 1px rgba(0, 0, 0, 0.15);\n",
              "      filter: drop-shadow(0px 1px 2px rgba(0, 0, 0, 0.3));\n",
              "      fill: #FFFFFF;\n",
              "    }\n",
              "  </style>\n",
              "\n",
              "      <script>\n",
              "        const buttonEl =\n",
              "          document.querySelector('#df-c04d4f1f-ffb2-497b-b2bf-19da01b696df button.colab-df-convert');\n",
              "        buttonEl.style.display =\n",
              "          google.colab.kernel.accessAllowed ? 'block' : 'none';\n",
              "\n",
              "        async function convertToInteractive(key) {\n",
              "          const element = document.querySelector('#df-c04d4f1f-ffb2-497b-b2bf-19da01b696df');\n",
              "          const dataTable =\n",
              "            await google.colab.kernel.invokeFunction('convertToInteractive',\n",
              "                                                     [key], {});\n",
              "          if (!dataTable) return;\n",
              "\n",
              "          const docLinkHtml = 'Like what you see? Visit the ' +\n",
              "            '<a target=\"_blank\" href=https://colab.research.google.com/notebooks/data_table.ipynb>data table notebook</a>'\n",
              "            + ' to learn more about interactive tables.';\n",
              "          element.innerHTML = '';\n",
              "          dataTable['output_type'] = 'display_data';\n",
              "          await google.colab.output.renderOutput(dataTable, element);\n",
              "          const docLink = document.createElement('div');\n",
              "          docLink.innerHTML = docLinkHtml;\n",
              "          element.appendChild(docLink);\n",
              "        }\n",
              "      </script>\n",
              "    </div>\n",
              "  </div>\n",
              "  "
            ]
          },
          "metadata": {},
          "execution_count": 4
        }
      ]
    },
    {
      "cell_type": "code",
      "source": [
        "df.info()"
      ],
      "metadata": {
        "colab": {
          "base_uri": "https://localhost:8080/"
        },
        "id": "lqTq0Z200unl",
        "outputId": "5d423a55-3e0a-4b8d-ec13-582098a11787"
      },
      "execution_count": 5,
      "outputs": [
        {
          "output_type": "stream",
          "name": "stdout",
          "text": [
            "<class 'pandas.core.frame.DataFrame'>\n",
            "DatetimeIndex: 3108 entries, 2014-09-17 to 2023-03-21\n",
            "Data columns (total 6 columns):\n",
            " #   Column     Non-Null Count  Dtype  \n",
            "---  ------     --------------  -----  \n",
            " 0   Open       3108 non-null   float64\n",
            " 1   High       3108 non-null   float64\n",
            " 2   Low        3108 non-null   float64\n",
            " 3   Close      3108 non-null   float64\n",
            " 4   Adj Close  3108 non-null   float64\n",
            " 5   Volume     3108 non-null   int64  \n",
            "dtypes: float64(5), int64(1)\n",
            "memory usage: 170.0 KB\n"
          ]
        }
      ]
    },
    {
      "cell_type": "code",
      "source": [
        "len(df)"
      ],
      "metadata": {
        "colab": {
          "base_uri": "https://localhost:8080/"
        },
        "id": "NdcSCTm31Qah",
        "outputId": "3376aee7-6b53-432f-e925-f4727de313fb"
      },
      "execution_count": 6,
      "outputs": [
        {
          "output_type": "execute_result",
          "data": {
            "text/plain": [
              "3108"
            ]
          },
          "metadata": {},
          "execution_count": 6
        }
      ]
    },
    {
      "cell_type": "code",
      "source": [
        "df.tail()"
      ],
      "metadata": {
        "colab": {
          "base_uri": "https://localhost:8080/",
          "height": 237
        },
        "id": "98-Dnk9d1Tjp",
        "outputId": "eb7af725-a303-4f15-ac92-0cd240400719"
      },
      "execution_count": 7,
      "outputs": [
        {
          "output_type": "execute_result",
          "data": {
            "text/plain": [
              "                    Open          High           Low         Close  \\\n",
              "Date                                                                 \n",
              "2023-03-17  25055.123047  27787.812500  24955.169922  27423.929688   \n",
              "2023-03-18  27448.117188  27725.953125  26636.261719  26965.878906   \n",
              "2023-03-19  26969.503906  28440.560547  26907.716797  28038.675781   \n",
              "2023-03-20  28041.601563  28527.724609  27242.880859  27767.236328   \n",
              "2023-03-21  27784.175781  28005.699219  27737.007813  27783.144531   \n",
              "\n",
              "               Adj Close       Volume  \n",
              "Date                                   \n",
              "2023-03-17  27423.929688  50730261335  \n",
              "2023-03-18  26965.878906  35723036817  \n",
              "2023-03-19  28038.675781  37769448859  \n",
              "2023-03-20  27767.236328  44774027664  \n",
              "2023-03-21  27783.144531  41398906880  "
            ],
            "text/html": [
              "\n",
              "  <div id=\"df-42c29f0c-7668-4c8a-9e8e-43e11dd18bee\">\n",
              "    <div class=\"colab-df-container\">\n",
              "      <div>\n",
              "<style scoped>\n",
              "    .dataframe tbody tr th:only-of-type {\n",
              "        vertical-align: middle;\n",
              "    }\n",
              "\n",
              "    .dataframe tbody tr th {\n",
              "        vertical-align: top;\n",
              "    }\n",
              "\n",
              "    .dataframe thead th {\n",
              "        text-align: right;\n",
              "    }\n",
              "</style>\n",
              "<table border=\"1\" class=\"dataframe\">\n",
              "  <thead>\n",
              "    <tr style=\"text-align: right;\">\n",
              "      <th></th>\n",
              "      <th>Open</th>\n",
              "      <th>High</th>\n",
              "      <th>Low</th>\n",
              "      <th>Close</th>\n",
              "      <th>Adj Close</th>\n",
              "      <th>Volume</th>\n",
              "    </tr>\n",
              "    <tr>\n",
              "      <th>Date</th>\n",
              "      <th></th>\n",
              "      <th></th>\n",
              "      <th></th>\n",
              "      <th></th>\n",
              "      <th></th>\n",
              "      <th></th>\n",
              "    </tr>\n",
              "  </thead>\n",
              "  <tbody>\n",
              "    <tr>\n",
              "      <th>2023-03-17</th>\n",
              "      <td>25055.123047</td>\n",
              "      <td>27787.812500</td>\n",
              "      <td>24955.169922</td>\n",
              "      <td>27423.929688</td>\n",
              "      <td>27423.929688</td>\n",
              "      <td>50730261335</td>\n",
              "    </tr>\n",
              "    <tr>\n",
              "      <th>2023-03-18</th>\n",
              "      <td>27448.117188</td>\n",
              "      <td>27725.953125</td>\n",
              "      <td>26636.261719</td>\n",
              "      <td>26965.878906</td>\n",
              "      <td>26965.878906</td>\n",
              "      <td>35723036817</td>\n",
              "    </tr>\n",
              "    <tr>\n",
              "      <th>2023-03-19</th>\n",
              "      <td>26969.503906</td>\n",
              "      <td>28440.560547</td>\n",
              "      <td>26907.716797</td>\n",
              "      <td>28038.675781</td>\n",
              "      <td>28038.675781</td>\n",
              "      <td>37769448859</td>\n",
              "    </tr>\n",
              "    <tr>\n",
              "      <th>2023-03-20</th>\n",
              "      <td>28041.601563</td>\n",
              "      <td>28527.724609</td>\n",
              "      <td>27242.880859</td>\n",
              "      <td>27767.236328</td>\n",
              "      <td>27767.236328</td>\n",
              "      <td>44774027664</td>\n",
              "    </tr>\n",
              "    <tr>\n",
              "      <th>2023-03-21</th>\n",
              "      <td>27784.175781</td>\n",
              "      <td>28005.699219</td>\n",
              "      <td>27737.007813</td>\n",
              "      <td>27783.144531</td>\n",
              "      <td>27783.144531</td>\n",
              "      <td>41398906880</td>\n",
              "    </tr>\n",
              "  </tbody>\n",
              "</table>\n",
              "</div>\n",
              "      <button class=\"colab-df-convert\" onclick=\"convertToInteractive('df-42c29f0c-7668-4c8a-9e8e-43e11dd18bee')\"\n",
              "              title=\"Convert this dataframe to an interactive table.\"\n",
              "              style=\"display:none;\">\n",
              "        \n",
              "  <svg xmlns=\"http://www.w3.org/2000/svg\" height=\"24px\"viewBox=\"0 0 24 24\"\n",
              "       width=\"24px\">\n",
              "    <path d=\"M0 0h24v24H0V0z\" fill=\"none\"/>\n",
              "    <path d=\"M18.56 5.44l.94 2.06.94-2.06 2.06-.94-2.06-.94-.94-2.06-.94 2.06-2.06.94zm-11 1L8.5 8.5l.94-2.06 2.06-.94-2.06-.94L8.5 2.5l-.94 2.06-2.06.94zm10 10l.94 2.06.94-2.06 2.06-.94-2.06-.94-.94-2.06-.94 2.06-2.06.94z\"/><path d=\"M17.41 7.96l-1.37-1.37c-.4-.4-.92-.59-1.43-.59-.52 0-1.04.2-1.43.59L10.3 9.45l-7.72 7.72c-.78.78-.78 2.05 0 2.83L4 21.41c.39.39.9.59 1.41.59.51 0 1.02-.2 1.41-.59l7.78-7.78 2.81-2.81c.8-.78.8-2.07 0-2.86zM5.41 20L4 18.59l7.72-7.72 1.47 1.35L5.41 20z\"/>\n",
              "  </svg>\n",
              "      </button>\n",
              "      \n",
              "  <style>\n",
              "    .colab-df-container {\n",
              "      display:flex;\n",
              "      flex-wrap:wrap;\n",
              "      gap: 12px;\n",
              "    }\n",
              "\n",
              "    .colab-df-convert {\n",
              "      background-color: #E8F0FE;\n",
              "      border: none;\n",
              "      border-radius: 50%;\n",
              "      cursor: pointer;\n",
              "      display: none;\n",
              "      fill: #1967D2;\n",
              "      height: 32px;\n",
              "      padding: 0 0 0 0;\n",
              "      width: 32px;\n",
              "    }\n",
              "\n",
              "    .colab-df-convert:hover {\n",
              "      background-color: #E2EBFA;\n",
              "      box-shadow: 0px 1px 2px rgba(60, 64, 67, 0.3), 0px 1px 3px 1px rgba(60, 64, 67, 0.15);\n",
              "      fill: #174EA6;\n",
              "    }\n",
              "\n",
              "    [theme=dark] .colab-df-convert {\n",
              "      background-color: #3B4455;\n",
              "      fill: #D2E3FC;\n",
              "    }\n",
              "\n",
              "    [theme=dark] .colab-df-convert:hover {\n",
              "      background-color: #434B5C;\n",
              "      box-shadow: 0px 1px 3px 1px rgba(0, 0, 0, 0.15);\n",
              "      filter: drop-shadow(0px 1px 2px rgba(0, 0, 0, 0.3));\n",
              "      fill: #FFFFFF;\n",
              "    }\n",
              "  </style>\n",
              "\n",
              "      <script>\n",
              "        const buttonEl =\n",
              "          document.querySelector('#df-42c29f0c-7668-4c8a-9e8e-43e11dd18bee button.colab-df-convert');\n",
              "        buttonEl.style.display =\n",
              "          google.colab.kernel.accessAllowed ? 'block' : 'none';\n",
              "\n",
              "        async function convertToInteractive(key) {\n",
              "          const element = document.querySelector('#df-42c29f0c-7668-4c8a-9e8e-43e11dd18bee');\n",
              "          const dataTable =\n",
              "            await google.colab.kernel.invokeFunction('convertToInteractive',\n",
              "                                                     [key], {});\n",
              "          if (!dataTable) return;\n",
              "\n",
              "          const docLinkHtml = 'Like what you see? Visit the ' +\n",
              "            '<a target=\"_blank\" href=https://colab.research.google.com/notebooks/data_table.ipynb>data table notebook</a>'\n",
              "            + ' to learn more about interactive tables.';\n",
              "          element.innerHTML = '';\n",
              "          dataTable['output_type'] = 'display_data';\n",
              "          await google.colab.output.renderOutput(dataTable, element);\n",
              "          const docLink = document.createElement('div');\n",
              "          docLink.innerHTML = docLinkHtml;\n",
              "          element.appendChild(docLink);\n",
              "        }\n",
              "      </script>\n",
              "    </div>\n",
              "  </div>\n",
              "  "
            ]
          },
          "metadata": {},
          "execution_count": 7
        }
      ]
    },
    {
      "cell_type": "code",
      "source": [
        "bitcoin_prices = pd.DataFrame(df[\"Close\"]).rename(columns={\"Close\":\"Price\"})\n",
        "bitcoin_prices.head()"
      ],
      "metadata": {
        "colab": {
          "base_uri": "https://localhost:8080/",
          "height": 237
        },
        "id": "Jpjbwh3-1hJE",
        "outputId": "1fec927f-79a0-4bbd-c5c0-4a08a4b50788"
      },
      "execution_count": 8,
      "outputs": [
        {
          "output_type": "execute_result",
          "data": {
            "text/plain": [
              "                 Price\n",
              "Date                  \n",
              "2014-09-17  457.334015\n",
              "2014-09-18  424.440002\n",
              "2014-09-19  394.795990\n",
              "2014-09-20  408.903992\n",
              "2014-09-21  398.821014"
            ],
            "text/html": [
              "\n",
              "  <div id=\"df-6e47318d-e954-4dcc-82bb-3bd73ac1abf8\">\n",
              "    <div class=\"colab-df-container\">\n",
              "      <div>\n",
              "<style scoped>\n",
              "    .dataframe tbody tr th:only-of-type {\n",
              "        vertical-align: middle;\n",
              "    }\n",
              "\n",
              "    .dataframe tbody tr th {\n",
              "        vertical-align: top;\n",
              "    }\n",
              "\n",
              "    .dataframe thead th {\n",
              "        text-align: right;\n",
              "    }\n",
              "</style>\n",
              "<table border=\"1\" class=\"dataframe\">\n",
              "  <thead>\n",
              "    <tr style=\"text-align: right;\">\n",
              "      <th></th>\n",
              "      <th>Price</th>\n",
              "    </tr>\n",
              "    <tr>\n",
              "      <th>Date</th>\n",
              "      <th></th>\n",
              "    </tr>\n",
              "  </thead>\n",
              "  <tbody>\n",
              "    <tr>\n",
              "      <th>2014-09-17</th>\n",
              "      <td>457.334015</td>\n",
              "    </tr>\n",
              "    <tr>\n",
              "      <th>2014-09-18</th>\n",
              "      <td>424.440002</td>\n",
              "    </tr>\n",
              "    <tr>\n",
              "      <th>2014-09-19</th>\n",
              "      <td>394.795990</td>\n",
              "    </tr>\n",
              "    <tr>\n",
              "      <th>2014-09-20</th>\n",
              "      <td>408.903992</td>\n",
              "    </tr>\n",
              "    <tr>\n",
              "      <th>2014-09-21</th>\n",
              "      <td>398.821014</td>\n",
              "    </tr>\n",
              "  </tbody>\n",
              "</table>\n",
              "</div>\n",
              "      <button class=\"colab-df-convert\" onclick=\"convertToInteractive('df-6e47318d-e954-4dcc-82bb-3bd73ac1abf8')\"\n",
              "              title=\"Convert this dataframe to an interactive table.\"\n",
              "              style=\"display:none;\">\n",
              "        \n",
              "  <svg xmlns=\"http://www.w3.org/2000/svg\" height=\"24px\"viewBox=\"0 0 24 24\"\n",
              "       width=\"24px\">\n",
              "    <path d=\"M0 0h24v24H0V0z\" fill=\"none\"/>\n",
              "    <path d=\"M18.56 5.44l.94 2.06.94-2.06 2.06-.94-2.06-.94-.94-2.06-.94 2.06-2.06.94zm-11 1L8.5 8.5l.94-2.06 2.06-.94-2.06-.94L8.5 2.5l-.94 2.06-2.06.94zm10 10l.94 2.06.94-2.06 2.06-.94-2.06-.94-.94-2.06-.94 2.06-2.06.94z\"/><path d=\"M17.41 7.96l-1.37-1.37c-.4-.4-.92-.59-1.43-.59-.52 0-1.04.2-1.43.59L10.3 9.45l-7.72 7.72c-.78.78-.78 2.05 0 2.83L4 21.41c.39.39.9.59 1.41.59.51 0 1.02-.2 1.41-.59l7.78-7.78 2.81-2.81c.8-.78.8-2.07 0-2.86zM5.41 20L4 18.59l7.72-7.72 1.47 1.35L5.41 20z\"/>\n",
              "  </svg>\n",
              "      </button>\n",
              "      \n",
              "  <style>\n",
              "    .colab-df-container {\n",
              "      display:flex;\n",
              "      flex-wrap:wrap;\n",
              "      gap: 12px;\n",
              "    }\n",
              "\n",
              "    .colab-df-convert {\n",
              "      background-color: #E8F0FE;\n",
              "      border: none;\n",
              "      border-radius: 50%;\n",
              "      cursor: pointer;\n",
              "      display: none;\n",
              "      fill: #1967D2;\n",
              "      height: 32px;\n",
              "      padding: 0 0 0 0;\n",
              "      width: 32px;\n",
              "    }\n",
              "\n",
              "    .colab-df-convert:hover {\n",
              "      background-color: #E2EBFA;\n",
              "      box-shadow: 0px 1px 2px rgba(60, 64, 67, 0.3), 0px 1px 3px 1px rgba(60, 64, 67, 0.15);\n",
              "      fill: #174EA6;\n",
              "    }\n",
              "\n",
              "    [theme=dark] .colab-df-convert {\n",
              "      background-color: #3B4455;\n",
              "      fill: #D2E3FC;\n",
              "    }\n",
              "\n",
              "    [theme=dark] .colab-df-convert:hover {\n",
              "      background-color: #434B5C;\n",
              "      box-shadow: 0px 1px 3px 1px rgba(0, 0, 0, 0.15);\n",
              "      filter: drop-shadow(0px 1px 2px rgba(0, 0, 0, 0.3));\n",
              "      fill: #FFFFFF;\n",
              "    }\n",
              "  </style>\n",
              "\n",
              "      <script>\n",
              "        const buttonEl =\n",
              "          document.querySelector('#df-6e47318d-e954-4dcc-82bb-3bd73ac1abf8 button.colab-df-convert');\n",
              "        buttonEl.style.display =\n",
              "          google.colab.kernel.accessAllowed ? 'block' : 'none';\n",
              "\n",
              "        async function convertToInteractive(key) {\n",
              "          const element = document.querySelector('#df-6e47318d-e954-4dcc-82bb-3bd73ac1abf8');\n",
              "          const dataTable =\n",
              "            await google.colab.kernel.invokeFunction('convertToInteractive',\n",
              "                                                     [key], {});\n",
              "          if (!dataTable) return;\n",
              "\n",
              "          const docLinkHtml = 'Like what you see? Visit the ' +\n",
              "            '<a target=\"_blank\" href=https://colab.research.google.com/notebooks/data_table.ipynb>data table notebook</a>'\n",
              "            + ' to learn more about interactive tables.';\n",
              "          element.innerHTML = '';\n",
              "          dataTable['output_type'] = 'display_data';\n",
              "          await google.colab.output.renderOutput(dataTable, element);\n",
              "          const docLink = document.createElement('div');\n",
              "          docLink.innerHTML = docLinkHtml;\n",
              "          element.appendChild(docLink);\n",
              "        }\n",
              "      </script>\n",
              "    </div>\n",
              "  </div>\n",
              "  "
            ]
          },
          "metadata": {},
          "execution_count": 8
        }
      ]
    },
    {
      "cell_type": "code",
      "source": [
        "import matplotlib.pyplot as plt\n",
        "\n",
        "bitcoin_prices.plot(figsize=(16,10))\n",
        "plt.ylabel(\"BTC Price\")\n",
        "plt.title(\"Price of bitcoin from 17 Sept 2014 to 17 March 2023\");"
      ],
      "metadata": {
        "colab": {
          "base_uri": "https://localhost:8080/",
          "height": 611
        },
        "id": "z1TbcgHT31wa",
        "outputId": "a6b844d8-d042-40d8-87c5-57a4653e98e2"
      },
      "execution_count": 9,
      "outputs": [
        {
          "output_type": "display_data",
          "data": {
            "text/plain": [
              "<Figure size 1152x720 with 1 Axes>"
            ],
            "image/png": "[encoded data removed]"
          },
          "metadata": {
            "needs_background": "light"
          }
        }
      ]
    },
    {
      "cell_type": "markdown",
      "source": [
        "## Importing Time Series Data with Python CSV module"
      ],
      "metadata": {
        "id": "vyJ552JJCZ-V"
      }
    },
    {
      "cell_type": "code",
      "source": [
        "import csv\n",
        "from datetime import datetime\n",
        "\n",
        "timesteps = []\n",
        "btc_price = []\n",
        "with open(\"/content/BTC-USD.csv\", \"r\") as f:\n",
        "  csv_reader = csv.reader(f, delimiter=\",\") # read in the target CSV\n",
        "  next(csv_reader) # skip first line (this gets rid of the column titles)\n",
        "  for line in csv_reader:\n",
        "    timesteps.append(datetime.strptime(line[0], \"%Y-%m-%d\")) # get the dates as dates (not strings), strptime = string parse time\n",
        "    btc_price.append(float(line[4])) # get the closing price as float\n",
        "\n",
        "# View first 10 of each\n",
        "timesteps[:10], btc_price[:10]"
      ],
      "metadata": {
        "colab": {
          "base_uri": "https://localhost:8080/"
        },
        "id": "zpdpTBORCp-r",
        "outputId": "7e87ec6c-0113-4100-ac9a-c5d29d5ae35f"
      },
      "execution_count": 10,
      "outputs": [
        {
          "output_type": "execute_result",
          "data": {
            "text/plain": [
              "([datetime.datetime(2014, 9, 17, 0, 0),\n",
              "  datetime.datetime(2014, 9, 18, 0, 0),\n",
              "  datetime.datetime(2014, 9, 19, 0, 0),\n",
              "  datetime.datetime(2014, 9, 20, 0, 0),\n",
              "  datetime.datetime(2014, 9, 21, 0, 0),\n",
              "  datetime.datetime(2014, 9, 22, 0, 0),\n",
              "  datetime.datetime(2014, 9, 23, 0, 0),\n",
              "  datetime.datetime(2014, 9, 24, 0, 0),\n",
              "  datetime.datetime(2014, 9, 25, 0, 0),\n",
              "  datetime.datetime(2014, 9, 26, 0, 0)],\n",
              " [457.334015,\n",
              "  424.440002,\n",
              "  394.79599,\n",
              "  408.903992,\n",
              "  398.821014,\n",
              "  402.152008,\n",
              "  435.790985,\n",
              "  423.204987,\n",
              "  411.574005,\n",
              "  404.424988])"
            ]
          },
          "metadata": {},
          "execution_count": 10
        }
      ]
    },
    {
      "cell_type": "code",
      "source": [
        "\n",
        "# Get bitcoin date array\n",
        "timesteps = bitcoin_prices.index.to_numpy()\n",
        "prices = bitcoin_prices[\"Price\"].to_numpy()\n",
        "\n",
        "timesteps[:10], prices[:10]"
      ],
      "metadata": {
        "colab": {
          "base_uri": "https://localhost:8080/"
        },
        "id": "NwRtYe6uDcqB",
        "outputId": "909616e4-73b5-447b-ce43-c32687241d1e"
      },
      "execution_count": 11,
      "outputs": [
        {
          "output_type": "execute_result",
          "data": {
            "text/plain": [
              "(array(['2014-09-17T00:00:00.000000000', '2014-09-18T00:00:00.000000000',\n",
              "        '2014-09-19T00:00:00.000000000', '2014-09-20T00:00:00.000000000',\n",
              "        '2014-09-21T00:00:00.000000000', '2014-09-22T00:00:00.000000000',\n",
              "        '2014-09-23T00:00:00.000000000', '2014-09-24T00:00:00.000000000',\n",
              "        '2014-09-25T00:00:00.000000000', '2014-09-26T00:00:00.000000000'],\n",
              "       dtype='datetime64[ns]'),\n",
              " array([457.334015, 424.440002, 394.79599 , 408.903992, 398.821014,\n",
              "        402.152008, 435.790985, 423.204987, 411.574005, 404.424988]))"
            ]
          },
          "metadata": {},
          "execution_count": 11
        }
      ]
    },
    {
      "cell_type": "markdown",
      "source": [
        "## Creating Train and Test Sets For Time Series"
      ],
      "metadata": {
        "id": "gifoHp1g4f7w"
      }
    },
    {
      "cell_type": "code",
      "source": [
        "split_size = int(0.8 * len(prices))\n",
        "\n",
        "X_train, y_train= timesteps[:split_size], prices[:split_size]\n",
        "X_test, y_test = timesteps[split_size:], prices[split_size:]\n",
        "\n",
        "len(X_train), len(X_test), len(y_train), len(y_test)"
      ],
      "metadata": {
        "colab": {
          "base_uri": "https://localhost:8080/"
        },
        "id": "Vq6eIGKcDDCt",
        "outputId": "4171f8a1-5f1a-40ef-d150-cac87425b10e"
      },
      "execution_count": 12,
      "outputs": [
        {
          "output_type": "execute_result",
          "data": {
            "text/plain": [
              "(2486, 622, 2486, 622)"
            ]
          },
          "metadata": {},
          "execution_count": 12
        }
      ]
    },
    {
      "cell_type": "code",
      "source": [
        "plt.figure(figsize=(16,10))\n",
        "plt.scatter(X_train, y_train, s=5, label=\"Train data\")\n",
        "plt.scatter(X_test, y_test, s=5, label=\"Test data\")\n",
        "plt.xlabel(\"Date\")\n",
        "plt.ylabel(\"Price\")\n",
        "plt.legend(fontsize=14)\n",
        "plt.show();"
      ],
      "metadata": {
        "colab": {
          "base_uri": "https://localhost:8080/",
          "height": 596
        },
        "id": "emqaGuvsD4Cq",
        "outputId": "e704319e-c6ee-4683-8f6e-f306d8611c97"
      },
      "execution_count": 13,
      "outputs": [
        {
          "output_type": "display_data",
          "data": {
            "text/plain": [
              "<Figure size 1152x720 with 1 Axes>"
            ],
            "image/png": "[encoded data removed]"
          },
          "metadata": {
            "needs_background": "light"
          }
        }
      ]
    },
    {
      "cell_type": "markdown",
      "source": [
        "### Creating a Plotting Function"
      ],
      "metadata": {
        "id": "fZJ2Z8R6ET1v"
      }
    },
    {
      "cell_type": "code",
      "source": [
        "def plot_time_series(timesteps, values, format=\".\", start=0, end=None, label=None):\n",
        "  \"\"\"\n",
        "   Plots a timesteps (a series of points in time) against values (a series of values across timesteps).\n",
        "  \n",
        "  Parameters\n",
        "  ---------\n",
        "  timesteps : array of timesteps\n",
        "  values : array of values across time\n",
        "  format : style of plot, default \".\"\n",
        "  start : where to start the plot (setting a value will index from start of timesteps & values)\n",
        "  end : where to end the plot (setting a value will index from end of timesteps & values)\n",
        "  label : label to show on plot of values\n",
        "  \"\"\"\n",
        "  plt.plot(timesteps[start:end], values[start:end], format, label=label)\n",
        "  plt.xlabel(\"Time\")\n",
        "  plt.ylabel(\"Price\")\n",
        "  if label:\n",
        "    plt.legend(fontsize=14)\n",
        "  plt.grid(True)"
      ],
      "metadata": {
        "id": "oxCpWMc0GHTP"
      },
      "execution_count": 14,
      "outputs": []
    },
    {
      "cell_type": "code",
      "source": [
        "plt.figure(figsize=(16,10))\n",
        "plot_time_series(timesteps=X_train, values=y_train, label=\"Train data\")\n",
        "plot_time_series(timesteps=X_test, values=y_test, label=\"Test data\")"
      ],
      "metadata": {
        "colab": {
          "base_uri": "https://localhost:8080/",
          "height": 596
        },
        "id": "js_4xg-4Gt_8",
        "outputId": "aab66d83-b11d-47a3-e0ec-6571b3db462c"
      },
      "execution_count": 15,
      "outputs": [
        {
          "output_type": "display_data",
          "data": {
            "text/plain": [
              "<Figure size 1152x720 with 1 Axes>"
            ],
            "image/png": "[encoded data removed]"
          },
          "metadata": {
            "needs_background": "light"
          }
        }
      ]
    },
    {
      "cell_type": "markdown",
      "source": [
        "## Modelling Experiments"
      ],
      "metadata": {
        "id": "NhbQtJRrG4eW"
      }
    },
    {
      "cell_type": "markdown",
      "source": [
        "### Model 0 : Naive Forecast - Baseline"
      ],
      "metadata": {
        "id": "dGDKiAbxG8kf"
      }
    },
    {
      "cell_type": "code",
      "source": [
        "naive_forecast = y_test[:-1]\n",
        "naive_forecast[:10], naive_forecast[-10:]"
      ],
      "metadata": {
        "colab": {
          "base_uri": "https://localhost:8080/"
        },
        "id": "6ZYyjGJcI9hZ",
        "outputId": "e5957402-dc2c-4746-f3b1-21e01c6f217b"
      },
      "execution_count": 16,
      "outputs": [
        {
          "output_type": "execute_result",
          "data": {
            "text/plain": [
              "(array([32877.371094, 33798.011719, 33520.519531, 34240.1875  ,\n",
              "        33155.847656, 32702.025391, 32822.347656, 31780.730469,\n",
              "        31421.539063, 31533.068359]),\n",
              " array([20632.410156, 22163.949219, 24197.533203, 24746.074219,\n",
              "        24375.960938, 25052.789063, 27423.929688, 26965.878906,\n",
              "        28038.675781, 27767.236328]))"
            ]
          },
          "metadata": {},
          "execution_count": 16
        }
      ]
    },
    {
      "cell_type": "code",
      "source": [
        "# Plot naive forecast\n",
        "plt.figure(figsize=(16,10))\n",
        "plot_time_series(timesteps=X_train, values=y_train, label=\"Train data\")\n",
        "plot_time_series(timesteps=X_test, values=y_test, label=\"Test data\")\n",
        "plot_time_series(timesteps=X_test[1:], values=naive_forecast, format=\"-\", label=\"Naive forecast\");"
      ],
      "metadata": {
        "colab": {
          "base_uri": "https://localhost:8080/",
          "height": 596
        },
        "id": "M2hQj3qmJXo9",
        "outputId": "14b361b0-a14d-4a13-8679-9a9d7b1d269d"
      },
      "execution_count": 17,
      "outputs": [
        {
          "output_type": "display_data",
          "data": {
            "text/plain": [
              "<Figure size 1152x720 with 1 Axes>"
            ],
            "image/png": "[encoded data removed]"
          },
          "metadata": {
            "needs_background": "light"
          }
        }
      ]
    },
    {
      "cell_type": "code",
      "source": [
        "plt.figure(figsize=(16,10))\n",
        "offset = 300 # offset the values by 300 timesteps \n",
        "plot_time_series(timesteps=X_test, values=y_test, start=offset, label=\"Test data\")\n",
        "plot_time_series(timesteps=X_test[1:], values=naive_forecast, format=\"-\", start=offset, label=\"Naive forecast\");"
      ],
      "metadata": {
        "colab": {
          "base_uri": "https://localhost:8080/",
          "height": 591
        },
        "id": "gDmEXaTUJlR3",
        "outputId": "177b053b-46c6-457e-bd58-7750ace6209f"
      },
      "execution_count": 18,
      "outputs": [
        {
          "output_type": "display_data",
          "data": {
            "text/plain": [
              "<Figure size 1152x720 with 1 Axes>"
            ],
            "image/png": "[encoded data removed]"
          },
          "metadata": {
            "needs_background": "light"
          }
        }
      ]
    },
    {
      "cell_type": "markdown",
      "source": [
        "## Evaluating a Time Series Model"
      ],
      "metadata": {
        "id": "_50qPq-mJom7"
      }
    },
    {
      "cell_type": "code",
      "source": [
        "import tensorflow as tf\n"
      ],
      "metadata": {
        "id": "R1qhUg-zLLfX"
      },
      "execution_count": 19,
      "outputs": []
    },
    {
      "cell_type": "code",
      "source": [
        "# MASE implemented courtesy of sktime - https://github.com/alan-turing-institute/sktime/blob/ee7a06843a44f4aaec7582d847e36073a9ab0566/sktime/performance_metrics/forecasting/_functions.py#L16\n",
        "def mean_absolute_scaled_error(y_true, y_pred):\n",
        "  \"\"\"\n",
        "  Implement MASE (assuming no seasonality of data).\n",
        "  \"\"\"\n",
        "  mae = tf.reduce_mean(tf.abs(y_true - y_pred))\n",
        "\n",
        "  # Find MAE of naive forecast (no seasonality)\n",
        "  mae_naive_no_season = tf.reduce_mean(tf.abs(y_true[1:] - y_true[:-1])) # our seasonality is 1 day (hence the shifting of 1 day)\n",
        "\n",
        "  return mae / mae_naive_no_season"
      ],
      "metadata": {
        "id": "S7DhhKLdp_P-"
      },
      "execution_count": 20,
      "outputs": []
    },
    {
      "cell_type": "code",
      "source": [
        "def evaluate_preds(y_true, y_pred):\n",
        "  # Make sure float32 (for metric calculations)\n",
        "  y_true = tf.cast(y_true, dtype=tf.float32)\n",
        "  y_pred = tf.cast(y_pred, dtype=tf.float32)\n",
        "\n",
        "  # Calculate various metrics\n",
        "  mae = tf.keras.metrics.mean_absolute_error(y_true, y_pred)\n",
        "  mse = tf.keras.metrics.mean_squared_error(y_true, y_pred) # puts and emphasis on outliers (all errors get squared)\n",
        "  rmse = tf.sqrt(mse)\n",
        "  mape = tf.keras.metrics.mean_absolute_percentage_error(y_true, y_pred)\n",
        "  mase = mean_absolute_scaled_error(y_true, y_pred)\n",
        "  \n",
        "  return {\"mae\": mae.numpy(),\n",
        "          \"mse\": mse.numpy(),\n",
        "          \"rmse\": rmse.numpy(),\n",
        "          \"mape\": mape.numpy(),\n",
        "          \"mase\": mase.numpy()}"
      ],
      "metadata": {
        "id": "RbKJKJBxqDE-"
      },
      "execution_count": 21,
      "outputs": []
    },
    {
      "cell_type": "code",
      "source": [
        "naive_results = evaluate_preds(y_true=y_test[1:],\n",
        "                               y_pred=naive_forecast)\n",
        "naive_results"
      ],
      "metadata": {
        "colab": {
          "base_uri": "https://localhost:8080/"
        },
        "id": "rNSis5UbqIgH",
        "outputId": "1aaca586-b8fa-4a57-cb51-bb84d4d51183"
      },
      "execution_count": 22,
      "outputs": [
        {
          "output_type": "execute_result",
          "data": {
            "text/plain": [
              "{'mae': 806.97797,\n",
              " 'mse': 1472673.6,\n",
              " 'rmse': 1213.5377,\n",
              " 'mape': 2.3301265,\n",
              " 'mase': 1.0002272}"
            ]
          },
          "metadata": {},
          "execution_count": 22
        }
      ]
    },
    {
      "cell_type": "code",
      "source": [
        "# Find average price of Bitcoin in test dataset\n",
        "tf.reduce_mean(y_test).numpy()"
      ],
      "metadata": {
        "colab": {
          "base_uri": "https://localhost:8080/"
        },
        "id": "PDt__dqlqSrZ",
        "outputId": "06033e83-6acb-4ef2-9022-4b21cade2f83"
      },
      "execution_count": 23,
      "outputs": [
        {
          "output_type": "execute_result",
          "data": {
            "text/plain": [
              "33500.962783948555"
            ]
          },
          "metadata": {},
          "execution_count": 23
        }
      ]
    },
    {
      "cell_type": "markdown",
      "source": [
        "## Format Data - Part 2 - Windowing Dataset"
      ],
      "metadata": {
        "id": "t4XNdXv3qWyx"
      }
    },
    {
      "cell_type": "code",
      "source": [
        "HORIZON = 1\n",
        "WINDOW_SIZE = 7"
      ],
      "metadata": {
        "id": "IFUU4gsO2w39"
      },
      "execution_count": 24,
      "outputs": []
    },
    {
      "cell_type": "code",
      "source": [
        "def get_labelled_windows(x, horizon=1):\n",
        "  \"\"\"\n",
        "  Creates labels for windowed dataset\n",
        "  eg - \n",
        "  Input : [1,2,3,4,5,6,7] -> Output : ([1,2,3,4,5,6], [7])\n",
        "  \"\"\"\n",
        "  return(x[:, :-horizon], x[:, -horizon:])"
      ],
      "metadata": {
        "id": "aTnxMuOs27Cv"
      },
      "execution_count": 25,
      "outputs": []
    },
    {
      "cell_type": "code",
      "source": [
        "test_window, test_label = get_labelled_windows(tf.expand_dims(tf.range(8)+1, axis=0), horizon=HORIZON)\n",
        "print(f\"Window : {tf.squeeze(test_window).numpy()} -> Label : {tf.squeeze(test_label).numpy()}\")"
      ],
      "metadata": {
        "colab": {
          "base_uri": "https://localhost:8080/"
        },
        "id": "K8tUXYrV3f7F",
        "outputId": "3599b526-1721-4c52-b586-8dc2693837f5"
      },
      "execution_count": 29,
      "outputs": [
        {
          "output_type": "stream",
          "name": "stdout",
          "text": [
            "Window : [1 2 3 4 5 6 7] -> Label : 8\n"
          ]
        }
      ]
    },
    {
      "cell_type": "code",
      "source": [
        "# Create function to view Numpy arrays as windows\n",
        "def make_windows(x, window_size=7, horizon=1):\n",
        "  \"\"\"\n",
        "  Turns 1D array into 2D array of sequential windows of window_size\n",
        "  \"\"\"\n",
        "  # 1. Create a window of specific window_size (add the horizon on the end for later labelling)\n",
        "  window_step = np.expand_dims(np.arange(window_size+horizon), axis=0)\n",
        "  # print(f\"Window step:\\n {window_step}\")\n",
        "\n",
        "  # 2. Create a 2D array of multiple window steps (minus 1 to account for 0 indexing)\n",
        "  window_indexes = window_step + np.expand_dims(np.arange(len(x)-(window_size+horizon-1)), axis=0).T # create 2D array of windows of size window_size\n",
        "  # print(f\"Window indexes:\\n {window_indexes[:3], window_indexes[-3:], window_indexes.shape}\")\n",
        "\n",
        "  # 3. Index on the target array (time series) with 2D array of multiple window steps\n",
        "  windowed_array = x[window_indexes]\n",
        "\n",
        "  # 4. Get the labelled windows\n",
        "  windows, labels = get_labelled_windows(windowed_array, horizon=horizon)\n",
        "\n",
        "  return windows, labels"
      ],
      "metadata": {
        "id": "9X6DZUPV3sAG"
      },
      "execution_count": 34,
      "outputs": []
    },
    {
      "cell_type": "code",
      "source": [
        "full_windows, full_labels = make_windows(prices, window_size=WINDOW_SIZE, horizon=HORIZON)\n",
        "len(full_windows), len(full_labels)"
      ],
      "metadata": {
        "colab": {
          "base_uri": "https://localhost:8080/"
        },
        "id": "jsCzMk1S5XH4",
        "outputId": "df56dee8-cfc9-4f8c-8aad-ac473eef13ae"
      },
      "execution_count": 35,
      "outputs": [
        {
          "output_type": "execute_result",
          "data": {
            "text/plain": [
              "(3101, 3101)"
            ]
          },
          "metadata": {},
          "execution_count": 35
        }
      ]
    },
    {
      "cell_type": "code",
      "source": [
        "for i in range(3):\n",
        "  print(f\"Window: {full_windows[i-3]} -> Label: {full_labels[i-3]}\")\n",
        "     "
      ],
      "metadata": {
        "colab": {
          "base_uri": "https://localhost:8080/"
        },
        "id": "TyyvdYDE7MSw",
        "outputId": "d3baf0cc-8bcd-4c2d-b22a-f7ee192d2227"
      },
      "execution_count": 36,
      "outputs": [
        {
          "output_type": "stream",
          "name": "stdout",
          "text": [
            "Window: [22163.949219 24197.533203 24746.074219 24375.960938 25052.789063\n",
            " 27423.929688 26965.878906] -> Label: [28038.675781]\n",
            "Window: [24197.533203 24746.074219 24375.960938 25052.789063 27423.929688\n",
            " 26965.878906 28038.675781] -> Label: [27767.236328]\n",
            "Window: [24746.074219 24375.960938 25052.789063 27423.929688 26965.878906\n",
            " 28038.675781 27767.236328] -> Label: [27783.144531]\n"
          ]
        }
      ]
    },
    {
      "cell_type": "markdown",
      "source": [
        "## Turning windows into training and testing datasets"
      ],
      "metadata": {
        "id": "6RpCJD_a7ZcZ"
      }
    },
    {
      "cell_type": "code",
      "source": [
        "# Make the train/test splits\n",
        "def make_train_test_splits(windows, labels, test_split=0.2):\n",
        "  \"\"\"\n",
        "  Splits matching pairs of windows and labels into train and test splits.\n",
        "  \"\"\"\n",
        "  split_size = int(len(windows) * (1-test_split)) # this will default to 80% train/20% test\n",
        "  train_windows = windows[:split_size]\n",
        "  train_labels = labels[:split_size]\n",
        "  test_windows = windows[split_size:]\n",
        "  test_labels = labels[split_size:]\n",
        "  return train_windows, test_windows, train_labels, test_labels"
      ],
      "metadata": {
        "id": "rguM-lV-7gDS"
      },
      "execution_count": 37,
      "outputs": []
    },
    {
      "cell_type": "code",
      "source": [
        "train_windows, test_windows, train_labels, test_labels = make_train_test_splits(full_windows, full_labels)\n",
        "len(train_windows), len(test_windows), len(train_labels), len(test_labels)\n"
      ],
      "metadata": {
        "colab": {
          "base_uri": "https://localhost:8080/"
        },
        "id": "myyYfjLg7i6r",
        "outputId": "efa942da-be97-43cb-fb60-ced2e4bb733b"
      },
      "execution_count": 38,
      "outputs": [
        {
          "output_type": "execute_result",
          "data": {
            "text/plain": [
              "(2480, 621, 2480, 621)"
            ]
          },
          "metadata": {},
          "execution_count": 38
        }
      ]
    },
    {
      "cell_type": "code",
      "source": [
        "train_windows[:5], train_labels[:5]"
      ],
      "metadata": {
        "colab": {
          "base_uri": "https://localhost:8080/"
        },
        "id": "YWqR2-TP7loD",
        "outputId": "de86861b-df0f-4337-85f7-0c3ab5197a09"
      },
      "execution_count": 39,
      "outputs": [
        {
          "output_type": "execute_result",
          "data": {
            "text/plain": [
              "(array([[457.334015, 424.440002, 394.79599 , 408.903992, 398.821014,\n",
              "         402.152008, 435.790985],\n",
              "        [424.440002, 394.79599 , 408.903992, 398.821014, 402.152008,\n",
              "         435.790985, 423.204987],\n",
              "        [394.79599 , 408.903992, 398.821014, 402.152008, 435.790985,\n",
              "         423.204987, 411.574005],\n",
              "        [408.903992, 398.821014, 402.152008, 435.790985, 423.204987,\n",
              "         411.574005, 404.424988],\n",
              "        [398.821014, 402.152008, 435.790985, 423.204987, 411.574005,\n",
              "         404.424988, 399.519989]]), array([[423.204987],\n",
              "        [411.574005],\n",
              "        [404.424988],\n",
              "        [399.519989],\n",
              "        [377.181   ]]))"
            ]
          },
          "metadata": {},
          "execution_count": 39
        }
      ]
    },
    {
      "cell_type": "code",
      "source": [
        "# Check to see if same (accounting for horizon and window size)\n",
        "np.array_equal(np.squeeze(train_labels[:-HORIZON-1]), y_train[WINDOW_SIZE:])"
      ],
      "metadata": {
        "colab": {
          "base_uri": "https://localhost:8080/"
        },
        "id": "x85oXRYF7neO",
        "outputId": "70b3c0af-fff0-4bb7-c180-c4b0d9582daf"
      },
      "execution_count": 40,
      "outputs": [
        {
          "output_type": "execute_result",
          "data": {
            "text/plain": [
              "False"
            ]
          },
          "metadata": {},
          "execution_count": 40
        }
      ]
    },
    {
      "cell_type": "markdown",
      "source": [
        "## Make a Modelling Checkpoint"
      ],
      "metadata": {
        "id": "ePL-N7UV7pz8"
      }
    },
    {
      "cell_type": "code",
      "source": [
        "import os\n",
        "\n",
        "# Create a function to implement a ModelCheckpoint callback with a specific filename \n",
        "def create_model_checkpoint(model_name, save_path=\"model_experiments\"):\n",
        "  return tf.keras.callbacks.ModelCheckpoint(filepath=os.path.join(save_path, model_name), # create filepath to save model\n",
        "                                            verbose=0, # only output a limited amount of text\n",
        "                                            save_best_only=True) # save only the best model to file\n",
        "     "
      ],
      "metadata": {
        "id": "Ep4W0DOC7sMM"
      },
      "execution_count": 42,
      "outputs": []
    },
    {
      "cell_type": "markdown",
      "source": [
        "### Model 1: Dense Model (window = 7, horizon = 1)"
      ],
      "metadata": {
        "id": "3bUw1a-B73z2"
      }
    },
    {
      "cell_type": "code",
      "source": [
        "import tensorflow as tf\n",
        "from tensorflow.keras import layers\n",
        "\n",
        "# Set random seed for as reproducible results as possible\n",
        "tf.random.set_seed(42)\n",
        "\n",
        "# Construct model\n",
        "model_1 = tf.keras.Sequential([\n",
        "  layers.Dense(128, activation=\"relu\"),\n",
        "  layers.Dense(HORIZON, activation=\"linear\") # linear activation is the same as having no activation                        \n",
        "], name=\"model_1_dense\") # give the model a name so we can save it\n",
        "\n",
        "# Compile model\n",
        "model_1.compile(loss=\"mae\",\n",
        "                optimizer=tf.keras.optimizers.Adam(),\n",
        "                metrics=[\"mae\"]) # we don't necessarily need this when the loss function is already MAE\n",
        "\n",
        "# Fit model\n",
        "model_1.fit(x=train_windows, # train windows of 7 timesteps of Bitcoin prices\n",
        "            y=train_labels, # horizon value of 1 (using the previous 7 timesteps to predict next day)\n",
        "            epochs=100,\n",
        "            verbose=1,\n",
        "            batch_size=128,\n",
        "            validation_data=(test_windows, test_labels),\n",
        "            callbacks=[create_model_checkpoint(model_name=model_1.name)]) # create ModelCheckpoint callback to save best model"
      ],
      "metadata": {
        "colab": {
          "base_uri": "https://localhost:8080/"
        },
        "id": "dUuUaFZz8Bso",
        "outputId": "8dd880c6-8641-4102-e6a1-ec1b63293081"
      },
      "execution_count": 43,
      "outputs": [
        {
          "output_type": "stream",
          "name": "stdout",
          "text": [
            "Epoch 1/100\n",
            "19/20 [===========================>..] - ETA: 0s - loss: 4138.1440 - mae: 4138.1440  "
          ]
        },
        {
          "output_type": "stream",
          "name": "stderr",
          "text": [
            "WARNING:absl:Found untraced functions such as _update_step_xla while saving (showing 1 of 1). These functions will not be directly callable after loading.\n"
          ]
        },
        {
          "output_type": "stream",
          "name": "stdout",
          "text": [
            "\b\b\b\b\b\b\b\b\b\b\b\b\b\b\b\b\b\b\b\b\b\b\b\b\b\b\b\b\b\b\b\b\b\b\b\b\b\b\b\b\b\b\b\b\b\b\b\b\b\b\b\b\b\b\b\b\b\b\b\b\b\b\b\b\b\b\b\b\b\b\b\b\b\b\b\b\b\b\b\b\b\b\b\r20/20 [==============================] - 6s 37ms/step - loss: 4094.6455 - mae: 4094.6455 - val_loss: 6840.3188 - val_mae: 6840.3188\n",
            "Epoch 2/100\n",
            " 1/20 [>.............................] - ETA: 0s - loss: 1750.1831 - mae: 1750.1831"
          ]
        },
        {
          "output_type": "stream",
          "name": "stderr",
          "text": [
            "WARNING:absl:Found untraced functions such as _update_step_xla while saving (showing 1 of 1). These functions will not be directly callable after loading.\n"
          ]
        },
        {
          "output_type": "stream",
          "name": "stdout",
          "text": [
            "\b\b\b\b\b\b\b\b\b\b\b\b\b\b\b\b\b\b\b\b\b\b\b\b\b\b\b\b\b\b\b\b\b\b\b\b\b\b\b\b\b\b\b\b\b\b\b\b\b\b\b\b\b\b\b\b\b\b\b\b\b\b\b\b\b\b\b\b\b\b\b\b\b\b\b\b\b\b\b\b\b\b\b\r20/20 [==============================] - 1s 32ms/step - loss: 860.9243 - mae: 860.9243 - val_loss: 1768.5927 - val_mae: 1768.5927\n",
            "Epoch 3/100\n",
            " 1/20 [>.............................] - ETA: 0s - loss: 528.8853 - mae: 528.8853"
          ]
        },
        {
          "output_type": "stream",
          "name": "stderr",
          "text": [
            "WARNING:absl:Found untraced functions such as _update_step_xla while saving (showing 1 of 1). These functions will not be directly callable after loading.\n"
          ]
        },
        {
          "output_type": "stream",
          "name": "stdout",
          "text": [
            "\b\b\b\b\b\b\b\b\b\b\b\b\b\b\b\b\b\b\b\b\b\b\b\b\b\b\b\b\b\b\b\b\b\b\b\b\b\b\b\b\b\b\b\b\b\b\b\b\b\b\b\b\b\b\b\b\b\b\b\b\b\b\b\b\b\b\b\b\b\b\b\b\b\b\b\b\b\b\b\b\b\r20/20 [==============================] - 0s 24ms/step - loss: 413.9468 - mae: 413.9468 - val_loss: 1746.9166 - val_mae: 1746.9166\n",
            "Epoch 4/100\n",
            " 1/20 [>.............................] - ETA: 0s - loss: 293.7779 - mae: 293.7779"
          ]
        },
        {
          "output_type": "stream",
          "name": "stderr",
          "text": [
            "WARNING:absl:Found untraced functions such as _update_step_xla while saving (showing 1 of 1). These functions will not be directly callable after loading.\n"
          ]
        },
        {
          "output_type": "stream",
          "name": "stdout",
          "text": [
            "\b\b\b\b\b\b\b\b\b\b\b\b\b\b\b\b\b\b\b\b\b\b\b\b\b\b\b\b\b\b\b\b\b\b\b\b\b\b\b\b\b\b\b\b\b\b\b\b\b\b\b\b\b\b\b\b\b\b\b\b\b\b\b\b\b\b\b\b\b\b\b\b\b\b\b\b\b\b\b\b\b\r20/20 [==============================] - 0s 23ms/step - loss: 387.7740 - mae: 387.7740 - val_loss: 1119.1021 - val_mae: 1119.1021\n",
            "Epoch 5/100\n",
            " 1/20 [>.............................] - ETA: 0s - loss: 366.3313 - mae: 366.3313"
          ]
        },
        {
          "output_type": "stream",
          "name": "stderr",
          "text": [
            "WARNING:absl:Found untraced functions such as _update_step_xla while saving (showing 1 of 1). These functions will not be directly callable after loading.\n"
          ]
        },
        {
          "output_type": "stream",
          "name": "stdout",
          "text": [
            "\b\b\b\b\b\b\b\b\b\b\b\b\b\b\b\b\b\b\b\b\b\b\b\b\b\b\b\b\b\b\b\b\b\b\b\b\b\b\b\b\b\b\b\b\b\b\b\b\b\b\b\b\b\b\b\b\b\b\b\b\b\b\b\b\b\b\b\b\b\b\b\b\b\b\b\b\b\b\b\b\b\r20/20 [==============================] - 0s 24ms/step - loss: 347.6038 - mae: 347.6038 - val_loss: 1098.9391 - val_mae: 1098.9391\n",
            "Epoch 6/100\n",
            "20/20 [==============================] - 0s 5ms/step - loss: 334.3660 - mae: 334.3660 - val_loss: 1116.4215 - val_mae: 1116.4215\n",
            "Epoch 7/100\n",
            " 1/20 [>.............................] - ETA: 0s - loss: 375.3865 - mae: 375.3865"
          ]
        },
        {
          "output_type": "stream",
          "name": "stderr",
          "text": [
            "WARNING:absl:Found untraced functions such as _update_step_xla while saving (showing 1 of 1). These functions will not be directly callable after loading.\n"
          ]
        },
        {
          "output_type": "stream",
          "name": "stdout",
          "text": [
            "\b\b\b\b\b\b\b\b\b\b\b\b\b\b\b\b\b\b\b\b\b\b\b\b\b\b\b\b\b\b\b\b\b\b\b\b\b\b\b\b\b\b\b\b\b\b\b\b\b\b\b\b\b\b\b\b\b\b\b\b\b\b\b\b\b\b\b\b\b\b\b\b\b\b\b\b\b\b\b\b\b\r20/20 [==============================] - 0s 24ms/step - loss: 342.3104 - mae: 342.3104 - val_loss: 1088.9004 - val_mae: 1088.9004\n",
            "Epoch 8/100\n",
            "12/20 [=================>............] - ETA: 0s - loss: 322.1342 - mae: 322.1342"
          ]
        },
        {
          "output_type": "stream",
          "name": "stderr",
          "text": [
            "WARNING:absl:Found untraced functions such as _update_step_xla while saving (showing 1 of 1). These functions will not be directly callable after loading.\n"
          ]
        },
        {
          "output_type": "stream",
          "name": "stdout",
          "text": [
            "\b\b\b\b\b\b\b\b\b\b\b\b\b\b\b\b\b\b\b\b\b\b\b\b\b\b\b\b\b\b\b\b\b\b\b\b\b\b\b\b\b\b\b\b\b\b\b\b\b\b\b\b\b\b\b\b\b\b\b\b\b\b\b\b\b\b\b\b\b\b\b\b\b\b\b\b\b\b\b\b\b\r20/20 [==============================] - 1s 35ms/step - loss: 328.3993 - mae: 328.3993 - val_loss: 1088.6687 - val_mae: 1088.6687\n",
            "Epoch 9/100\n",
            "14/20 [====================>.........] - ETA: 0s - loss: 335.3023 - mae: 335.3023"
          ]
        },
        {
          "output_type": "stream",
          "name": "stderr",
          "text": [
            "WARNING:absl:Found untraced functions such as _update_step_xla while saving (showing 1 of 1). These functions will not be directly callable after loading.\n"
          ]
        },
        {
          "output_type": "stream",
          "name": "stdout",
          "text": [
            "\b\b\b\b\b\b\b\b\b\b\b\b\b\b\b\b\b\b\b\b\b\b\b\b\b\b\b\b\b\b\b\b\b\b\b\b\b\b\b\b\b\b\b\b\b\b\b\b\b\b\b\b\b\b\b\b\b\b\b\b\b\b\b\b\b\b\b\b\b\b\b\b\b\b\b\b\b\b\b\b\b\r20/20 [==============================] - 1s 34ms/step - loss: 336.9918 - mae: 336.9918 - val_loss: 1048.9030 - val_mae: 1048.9030\n",
            "Epoch 10/100\n",
            "20/20 [==============================] - 0s 6ms/step - loss: 326.9657 - mae: 326.9657 - val_loss: 1116.0504 - val_mae: 1116.0504\n",
            "Epoch 11/100\n",
            "14/20 [====================>.........] - ETA: 0s - loss: 322.4525 - mae: 322.4525"
          ]
        },
        {
          "output_type": "stream",
          "name": "stderr",
          "text": [
            "WARNING:absl:Found untraced functions such as _update_step_xla while saving (showing 1 of 1). These functions will not be directly callable after loading.\n"
          ]
        },
        {
          "output_type": "stream",
          "name": "stdout",
          "text": [
            "\b\b\b\b\b\b\b\b\b\b\b\b\b\b\b\b\b\b\b\b\b\b\b\b\b\b\b\b\b\b\b\b\b\b\b\b\b\b\b\b\b\b\b\b\b\b\b\b\b\b\b\b\b\b\b\b\b\b\b\b\b\b\b\b\b\b\b\b\b\b\b\b\b\b\b\b\b\b\b\b\b\r20/20 [==============================] - 1s 33ms/step - loss: 314.8500 - mae: 314.8500 - val_loss: 1029.0154 - val_mae: 1029.0154\n",
            "Epoch 12/100\n",
            "20/20 [==============================] - 0s 5ms/step - loss: 310.1833 - mae: 310.1833 - val_loss: 1062.0116 - val_mae: 1062.0116\n",
            "Epoch 13/100\n",
            "20/20 [==============================] - 0s 5ms/step - loss: 310.5691 - mae: 310.5691 - val_loss: 1038.2428 - val_mae: 1038.2428\n",
            "Epoch 14/100\n",
            "20/20 [==============================] - 0s 4ms/step - loss: 322.3878 - mae: 322.3878 - val_loss: 1142.0804 - val_mae: 1142.0804\n",
            "Epoch 15/100\n",
            " 1/20 [>.............................] - ETA: 0s - loss: 327.3477 - mae: 327.3477"
          ]
        },
        {
          "output_type": "stream",
          "name": "stderr",
          "text": [
            "WARNING:absl:Found untraced functions such as _update_step_xla while saving (showing 1 of 1). These functions will not be directly callable after loading.\n"
          ]
        },
        {
          "output_type": "stream",
          "name": "stdout",
          "text": [
            "\b\b\b\b\b\b\b\b\b\b\b\b\b\b\b\b\b\b\b\b\b\b\b\b\b\b\b\b\b\b\b\b\b\b\b\b\b\b\b\b\b\b\b\b\b\b\b\b\b\b\b\b\b\b\b\b\b\b\b\b\b\b\b\b\b\b\b\b\b\b\b\b\b\b\b\b\b\b\b\b\b\r20/20 [==============================] - 0s 23ms/step - loss: 306.4186 - mae: 306.4186 - val_loss: 999.8272 - val_mae: 999.8272\n",
            "Epoch 16/100\n",
            "20/20 [==============================] - 0s 5ms/step - loss: 304.9862 - mae: 304.9862 - val_loss: 1034.0195 - val_mae: 1034.0195\n",
            "Epoch 17/100\n",
            "20/20 [==============================] - 0s 4ms/step - loss: 298.5652 - mae: 298.5652 - val_loss: 1005.4181 - val_mae: 1005.4181\n",
            "Epoch 18/100\n",
            "20/20 [==============================] - 0s 4ms/step - loss: 309.8922 - mae: 309.8922 - val_loss: 1024.7189 - val_mae: 1024.7189\n",
            "Epoch 19/100\n",
            "20/20 [==============================] - ETA: 0s - loss: 293.1437 - mae: 293.1437"
          ]
        },
        {
          "output_type": "stream",
          "name": "stderr",
          "text": [
            "WARNING:absl:Found untraced functions such as _update_step_xla while saving (showing 1 of 1). These functions will not be directly callable after loading.\n"
          ]
        },
        {
          "output_type": "stream",
          "name": "stdout",
          "text": [
            "\b\b\b\b\b\b\b\b\b\b\b\b\b\b\b\b\b\b\b\b\b\b\b\b\b\b\b\b\b\b\b\b\b\b\b\b\b\b\b\b\b\b\b\b\b\b\b\b\b\b\b\b\b\b\b\b\b\b\b\b\b\b\b\b\b\b\b\b\b\b\b\b\b\b\b\b\b\b\b\b\b\r20/20 [==============================] - 0s 24ms/step - loss: 293.1437 - mae: 293.1437 - val_loss: 975.9866 - val_mae: 975.9866\n",
            "Epoch 20/100\n",
            "20/20 [==============================] - 0s 4ms/step - loss: 294.5239 - mae: 294.5239 - val_loss: 1319.1392 - val_mae: 1319.1392\n",
            "Epoch 21/100\n",
            "20/20 [==============================] - 0s 5ms/step - loss: 296.2839 - mae: 296.2839 - val_loss: 1033.5232 - val_mae: 1033.5232\n",
            "Epoch 22/100\n",
            "20/20 [==============================] - 0s 5ms/step - loss: 286.1403 - mae: 286.1403 - val_loss: 1000.4386 - val_mae: 1000.4386\n",
            "Epoch 23/100\n",
            "20/20 [==============================] - 0s 5ms/step - loss: 290.5469 - mae: 290.5469 - val_loss: 1191.0096 - val_mae: 1191.0096\n",
            "Epoch 24/100\n",
            " 1/20 [>.............................] - ETA: 0s - loss: 298.6850 - mae: 298.6850"
          ]
        },
        {
          "output_type": "stream",
          "name": "stderr",
          "text": [
            "WARNING:absl:Found untraced functions such as _update_step_xla while saving (showing 1 of 1). These functions will not be directly callable after loading.\n"
          ]
        },
        {
          "output_type": "stream",
          "name": "stdout",
          "text": [
            "\b\b\b\b\b\b\b\b\b\b\b\b\b\b\b\b\b\b\b\b\b\b\b\b\b\b\b\b\b\b\b\b\b\b\b\b\b\b\b\b\b\b\b\b\b\b\b\b\b\b\b\b\b\b\b\b\b\b\b\b\b\b\b\b\b\b\b\b\b\b\b\b\b\b\b\b\b\b\b\b\b\r20/20 [==============================] - 0s 23ms/step - loss: 291.5385 - mae: 291.5385 - val_loss: 955.2833 - val_mae: 955.2833\n",
            "Epoch 25/100\n",
            "20/20 [==============================] - 0s 5ms/step - loss: 281.6673 - mae: 281.6673 - val_loss: 1008.6128 - val_mae: 1008.6128\n",
            "Epoch 26/100\n",
            "20/20 [==============================] - 0s 4ms/step - loss: 286.2762 - mae: 286.2762 - val_loss: 1023.5755 - val_mae: 1023.5755\n",
            "Epoch 27/100\n",
            "20/20 [==============================] - 0s 5ms/step - loss: 288.9106 - mae: 288.9106 - val_loss: 995.1561 - val_mae: 995.1561\n",
            "Epoch 28/100\n",
            "20/20 [==============================] - 0s 4ms/step - loss: 294.7404 - mae: 294.7404 - val_loss: 966.2031 - val_mae: 966.2031\n",
            "Epoch 29/100\n",
            "20/20 [==============================] - 0s 4ms/step - loss: 284.6428 - mae: 284.6428 - val_loss: 1001.1143 - val_mae: 1001.1143\n",
            "Epoch 30/100\n",
            " 1/20 [>.............................] - ETA: 0s - loss: 271.5643 - mae: 271.5643"
          ]
        },
        {
          "output_type": "stream",
          "name": "stderr",
          "text": [
            "WARNING:absl:Found untraced functions such as _update_step_xla while saving (showing 1 of 1). These functions will not be directly callable after loading.\n"
          ]
        },
        {
          "output_type": "stream",
          "name": "stdout",
          "text": [
            "\b\b\b\b\b\b\b\b\b\b\b\b\b\b\b\b\b\b\b\b\b\b\b\b\b\b\b\b\b\b\b\b\b\b\b\b\b\b\b\b\b\b\b\b\b\b\b\b\b\b\b\b\b\b\b\b\b\b\b\b\b\b\b\b\b\b\b\b\b\b\b\b\b\b\b\b\b\b\b\b\b\r20/20 [==============================] - 0s 24ms/step - loss: 306.6197 - mae: 306.6197 - val_loss: 929.4657 - val_mae: 929.4657\n",
            "Epoch 31/100\n",
            "20/20 [==============================] - 0s 5ms/step - loss: 286.7848 - mae: 286.7848 - val_loss: 996.0674 - val_mae: 996.0674\n",
            "Epoch 32/100\n",
            " 1/20 [>.............................] - ETA: 0s - loss: 289.5989 - mae: 289.5989"
          ]
        },
        {
          "output_type": "stream",
          "name": "stderr",
          "text": [
            "WARNING:absl:Found untraced functions such as _update_step_xla while saving (showing 1 of 1). These functions will not be directly callable after loading.\n"
          ]
        },
        {
          "output_type": "stream",
          "name": "stdout",
          "text": [
            "\b\b\b\b\b\b\b\b\b\b\b\b\b\b\b\b\b\b\b\b\b\b\b\b\b\b\b\b\b\b\b\b\b\b\b\b\b\b\b\b\b\b\b\b\b\b\b\b\b\b\b\b\b\b\b\b\b\b\b\b\b\b\b\b\b\b\b\b\b\b\b\b\b\b\b\b\b\b\b\b\b\r20/20 [==============================] - 0s 22ms/step - loss: 285.4399 - mae: 285.4399 - val_loss: 921.6473 - val_mae: 921.6473\n",
            "Epoch 33/100\n",
            "20/20 [==============================] - 0s 5ms/step - loss: 279.4709 - mae: 279.4709 - val_loss: 928.9357 - val_mae: 928.9357\n",
            "Epoch 34/100\n",
            "20/20 [==============================] - 0s 4ms/step - loss: 277.4580 - mae: 277.4580 - val_loss: 1028.7657 - val_mae: 1028.7657\n",
            "Epoch 35/100\n",
            "20/20 [==============================] - 0s 5ms/step - loss: 297.6582 - mae: 297.6582 - val_loss: 947.1793 - val_mae: 947.1793\n",
            "Epoch 36/100\n",
            "20/20 [==============================] - 0s 5ms/step - loss: 291.4488 - mae: 291.4488 - val_loss: 937.2660 - val_mae: 937.2660\n",
            "Epoch 37/100\n",
            " 1/20 [>.............................] - ETA: 0s - loss: 295.2314 - mae: 295.2314"
          ]
        },
        {
          "output_type": "stream",
          "name": "stderr",
          "text": [
            "WARNING:absl:Found untraced functions such as _update_step_xla while saving (showing 1 of 1). These functions will not be directly callable after loading.\n"
          ]
        },
        {
          "output_type": "stream",
          "name": "stdout",
          "text": [
            "\b\b\b\b\b\b\b\b\b\b\b\b\b\b\b\b\b\b\b\b\b\b\b\b\b\b\b\b\b\b\b\b\b\b\b\b\b\b\b\b\b\b\b\b\b\b\b\b\b\b\b\b\b\b\b\b\b\b\b\b\b\b\b\b\b\b\b\b\b\b\b\b\b\b\b\b\b\b\b\b\b\r20/20 [==============================] - 0s 23ms/step - loss: 275.6788 - mae: 275.6788 - val_loss: 915.7492 - val_mae: 915.7492\n",
            "Epoch 38/100\n",
            "20/20 [==============================] - 0s 4ms/step - loss: 281.8013 - mae: 281.8013 - val_loss: 1174.5189 - val_mae: 1174.5189\n",
            "Epoch 39/100\n",
            "19/20 [===========================>..] - ETA: 0s - loss: 295.4041 - mae: 295.4041"
          ]
        },
        {
          "output_type": "stream",
          "name": "stderr",
          "text": [
            "WARNING:absl:Found untraced functions such as _update_step_xla while saving (showing 1 of 1). These functions will not be directly callable after loading.\n"
          ]
        },
        {
          "output_type": "stream",
          "name": "stdout",
          "text": [
            "\b\b\b\b\b\b\b\b\b\b\b\b\b\b\b\b\b\b\b\b\b\b\b\b\b\b\b\b\b\b\b\b\b\b\b\b\b\b\b\b\b\b\b\b\b\b\b\b\b\b\b\b\b\b\b\b\b\b\b\b\b\b\b\b\b\b\b\b\b\b\b\b\b\b\b\b\b\b\b\b\b\r20/20 [==============================] - 0s 23ms/step - loss: 295.4377 - mae: 295.4377 - val_loss: 908.1309 - val_mae: 908.1309\n",
            "Epoch 40/100\n",
            "20/20 [==============================] - 0s 5ms/step - loss: 289.5726 - mae: 289.5726 - val_loss: 917.1550 - val_mae: 917.1550\n",
            "Epoch 41/100\n",
            "20/20 [==============================] - 0s 4ms/step - loss: 285.4994 - mae: 285.4994 - val_loss: 924.8711 - val_mae: 924.8711\n",
            "Epoch 42/100\n",
            " 1/20 [>.............................] - ETA: 0s - loss: 240.0955 - mae: 240.0955"
          ]
        },
        {
          "output_type": "stream",
          "name": "stderr",
          "text": [
            "WARNING:absl:Found untraced functions such as _update_step_xla while saving (showing 1 of 1). These functions will not be directly callable after loading.\n"
          ]
        },
        {
          "output_type": "stream",
          "name": "stdout",
          "text": [
            "\b\b\b\b\b\b\b\b\b\b\b\b\b\b\b\b\b\b\b\b\b\b\b\b\b\b\b\b\b\b\b\b\b\b\b\b\b\b\b\b\b\b\b\b\b\b\b\b\b\b\b\b\b\b\b\b\b\b\b\b\b\b\b\b\b\b\b\b\b\b\b\b\b\b\b\b\b\b\b\b\b\r20/20 [==============================] - 0s 23ms/step - loss: 290.6136 - mae: 290.6136 - val_loss: 902.6033 - val_mae: 902.6033\n",
            "Epoch 43/100\n",
            "20/20 [==============================] - 0s 5ms/step - loss: 306.5226 - mae: 306.5226 - val_loss: 1155.7620 - val_mae: 1155.7620\n",
            "Epoch 44/100\n",
            "20/20 [==============================] - 0s 4ms/step - loss: 267.2462 - mae: 267.2462 - val_loss: 905.4551 - val_mae: 905.4551\n",
            "Epoch 45/100\n",
            "20/20 [==============================] - 0s 4ms/step - loss: 291.5939 - mae: 291.5939 - val_loss: 929.7305 - val_mae: 929.7305\n",
            "Epoch 46/100\n",
            "20/20 [==============================] - 0s 5ms/step - loss: 273.9145 - mae: 273.9145 - val_loss: 1280.2086 - val_mae: 1280.2086\n",
            "Epoch 47/100\n",
            " 1/20 [>.............................] - ETA: 0s - loss: 442.5786 - mae: 442.5786"
          ]
        },
        {
          "output_type": "stream",
          "name": "stderr",
          "text": [
            "WARNING:absl:Found untraced functions such as _update_step_xla while saving (showing 1 of 1). These functions will not be directly callable after loading.\n"
          ]
        },
        {
          "output_type": "stream",
          "name": "stdout",
          "text": [
            "\b\b\b\b\b\b\b\b\b\b\b\b\b\b\b\b\b\b\b\b\b\b\b\b\b\b\b\b\b\b\b\b\b\b\b\b\b\b\b\b\b\b\b\b\b\b\b\b\b\b\b\b\b\b\b\b\b\b\b\b\b\b\b\b\b\b\b\b\b\b\b\b\b\b\b\b\b\b\b\b\b\r20/20 [==============================] - 1s 34ms/step - loss: 301.4680 - mae: 301.4680 - val_loss: 895.5137 - val_mae: 895.5137\n",
            "Epoch 48/100\n",
            " 1/20 [>.............................] - ETA: 0s - loss: 263.5256 - mae: 263.5256"
          ]
        },
        {
          "output_type": "stream",
          "name": "stderr",
          "text": [
            "WARNING:absl:Found untraced functions such as _update_step_xla while saving (showing 1 of 1). These functions will not be directly callable after loading.\n"
          ]
        },
        {
          "output_type": "stream",
          "name": "stdout",
          "text": [
            "\b\b\b\b\b\b\b\b\b\b\b\b\b\b\b\b\b\b\b\b\b\b\b\b\b\b\b\b\b\b\b\b\b\b\b\b\b\b\b\b\b\b\b\b\b\b\b\b\b\b\b\b\b\b\b\b\b\b\b\b\b\b\b\b\b\b\b\b\b\b\b\b\b\b\b\b\b\b\b\b\b\r20/20 [==============================] - 0s 23ms/step - loss: 269.5033 - mae: 269.5033 - val_loss: 885.4839 - val_mae: 885.4839\n",
            "Epoch 49/100\n",
            "20/20 [==============================] - 0s 5ms/step - loss: 269.1191 - mae: 269.1191 - val_loss: 1048.9999 - val_mae: 1048.9999\n",
            "Epoch 50/100\n",
            "20/20 [==============================] - 0s 5ms/step - loss: 280.5571 - mae: 280.5571 - val_loss: 1325.2344 - val_mae: 1325.2344\n",
            "Epoch 51/100\n",
            " 1/20 [>.............................] - ETA: 0s - loss: 487.5923 - mae: 487.5923"
          ]
        },
        {
          "output_type": "stream",
          "name": "stderr",
          "text": [
            "WARNING:absl:Found untraced functions such as _update_step_xla while saving (showing 1 of 1). These functions will not be directly callable after loading.\n"
          ]
        },
        {
          "output_type": "stream",
          "name": "stdout",
          "text": [
            "\b\b\b\b\b\b\b\b\b\b\b\b\b\b\b\b\b\b\b\b\b\b\b\b\b\b\b\b\b\b\b\b\b\b\b\b\b\b\b\b\b\b\b\b\b\b\b\b\b\b\b\b\b\b\b\b\b\b\b\b\b\b\b\b\b\b\b\b\b\b\b\b\b\b\b\b\b\b\b\b\b\r20/20 [==============================] - 0s 22ms/step - loss: 291.0424 - mae: 291.0424 - val_loss: 880.3742 - val_mae: 880.3742\n",
            "Epoch 52/100\n",
            "20/20 [==============================] - 0s 5ms/step - loss: 260.4960 - mae: 260.4960 - val_loss: 1192.2056 - val_mae: 1192.2056\n",
            "Epoch 53/100\n",
            "20/20 [==============================] - 0s 5ms/step - loss: 303.1764 - mae: 303.1764 - val_loss: 1052.6056 - val_mae: 1052.6056\n",
            "Epoch 54/100\n",
            "19/20 [===========================>..] - ETA: 0s - loss: 271.0362 - mae: 271.0362"
          ]
        },
        {
          "output_type": "stream",
          "name": "stderr",
          "text": [
            "WARNING:absl:Found untraced functions such as _update_step_xla while saving (showing 1 of 1). These functions will not be directly callable after loading.\n"
          ]
        },
        {
          "output_type": "stream",
          "name": "stdout",
          "text": [
            "\b\b\b\b\b\b\b\b\b\b\b\b\b\b\b\b\b\b\b\b\b\b\b\b\b\b\b\b\b\b\b\b\b\b\b\b\b\b\b\b\b\b\b\b\b\b\b\b\b\b\b\b\b\b\b\b\b\b\b\b\b\b\b\b\b\b\b\b\b\b\b\b\b\b\b\b\b\b\b\b\b\r20/20 [==============================] - 0s 24ms/step - loss: 270.2978 - mae: 270.2978 - val_loss: 869.0304 - val_mae: 869.0304\n",
            "Epoch 55/100\n",
            "20/20 [==============================] - 0s 5ms/step - loss: 264.1181 - mae: 264.1181 - val_loss: 897.9478 - val_mae: 897.9478\n",
            "Epoch 56/100\n",
            "20/20 [==============================] - 0s 5ms/step - loss: 270.6370 - mae: 270.6370 - val_loss: 883.2697 - val_mae: 883.2697\n",
            "Epoch 57/100\n",
            "20/20 [==============================] - 0s 4ms/step - loss: 271.8648 - mae: 271.8648 - val_loss: 882.1506 - val_mae: 882.1506\n",
            "Epoch 58/100\n",
            " 1/20 [>.............................] - ETA: 0s - loss: 339.0963 - mae: 339.0963"
          ]
        },
        {
          "output_type": "stream",
          "name": "stderr",
          "text": [
            "WARNING:absl:Found untraced functions such as _update_step_xla while saving (showing 1 of 1). These functions will not be directly callable after loading.\n"
          ]
        },
        {
          "output_type": "stream",
          "name": "stdout",
          "text": [
            "\b\b\b\b\b\b\b\b\b\b\b\b\b\b\b\b\b\b\b\b\b\b\b\b\b\b\b\b\b\b\b\b\b\b\b\b\b\b\b\b\b\b\b\b\b\b\b\b\b\b\b\b\b\b\b\b\b\b\b\b\b\b\b\b\b\b\b\b\b\b\b\b\b\b\b\b\b\b\b\b\b\r20/20 [==============================] - 0s 23ms/step - loss: 261.2201 - mae: 261.2201 - val_loss: 865.2317 - val_mae: 865.2317\n",
            "Epoch 59/100\n",
            "20/20 [==============================] - 0s 5ms/step - loss: 265.9955 - mae: 265.9955 - val_loss: 1070.1746 - val_mae: 1070.1746\n",
            "Epoch 60/100\n",
            "20/20 [==============================] - 0s 5ms/step - loss: 290.7241 - mae: 290.7241 - val_loss: 880.9739 - val_mae: 880.9739\n",
            "Epoch 61/100\n",
            "20/20 [==============================] - 0s 5ms/step - loss: 294.2108 - mae: 294.2108 - val_loss: 994.4005 - val_mae: 994.4005\n",
            "Epoch 62/100\n",
            "20/20 [==============================] - 0s 5ms/step - loss: 265.4705 - mae: 265.4705 - val_loss: 934.6978 - val_mae: 934.6978\n",
            "Epoch 63/100\n",
            "20/20 [==============================] - 0s 5ms/step - loss: 258.5837 - mae: 258.5837 - val_loss: 1024.5720 - val_mae: 1024.5720\n",
            "Epoch 64/100\n",
            "20/20 [==============================] - 0s 5ms/step - loss: 281.7792 - mae: 281.7792 - val_loss: 1177.4016 - val_mae: 1177.4016\n",
            "Epoch 65/100\n",
            "14/20 [====================>.........] - ETA: 0s - loss: 265.7438 - mae: 265.7438"
          ]
        },
        {
          "output_type": "stream",
          "name": "stderr",
          "text": [
            "WARNING:absl:Found untraced functions such as _update_step_xla while saving (showing 1 of 1). These functions will not be directly callable after loading.\n"
          ]
        },
        {
          "output_type": "stream",
          "name": "stdout",
          "text": [
            "\b\b\b\b\b\b\b\b\b\b\b\b\b\b\b\b\b\b\b\b\b\b\b\b\b\b\b\b\b\b\b\b\b\b\b\b\b\b\b\b\b\b\b\b\b\b\b\b\b\b\b\b\b\b\b\b\b\b\b\b\b\b\b\b\b\b\b\b\b\b\b\b\b\b\b\b\b\b\b\b\b\r20/20 [==============================] - 1s 34ms/step - loss: 270.6611 - mae: 270.6611 - val_loss: 852.2381 - val_mae: 852.2381\n",
            "Epoch 66/100\n",
            "20/20 [==============================] - 0s 7ms/step - loss: 255.9998 - mae: 255.9998 - val_loss: 875.0651 - val_mae: 875.0651\n",
            "Epoch 67/100\n",
            "20/20 [==============================] - 0s 6ms/step - loss: 256.3831 - mae: 256.3831 - val_loss: 1172.6462 - val_mae: 1172.6462\n",
            "Epoch 68/100\n",
            "20/20 [==============================] - 0s 7ms/step - loss: 264.1767 - mae: 264.1767 - val_loss: 860.4097 - val_mae: 860.4097\n",
            "Epoch 69/100\n",
            "20/20 [==============================] - 0s 6ms/step - loss: 260.1559 - mae: 260.1559 - val_loss: 894.2145 - val_mae: 894.2145\n",
            "Epoch 70/100\n",
            "13/20 [==================>...........] - ETA: 0s - loss: 246.7037 - mae: 246.7037"
          ]
        },
        {
          "output_type": "stream",
          "name": "stderr",
          "text": [
            "WARNING:absl:Found untraced functions such as _update_step_xla while saving (showing 1 of 1). These functions will not be directly callable after loading.\n"
          ]
        },
        {
          "output_type": "stream",
          "name": "stdout",
          "text": [
            "\b\b\b\b\b\b\b\b\b\b\b\b\b\b\b\b\b\b\b\b\b\b\b\b\b\b\b\b\b\b\b\b\b\b\b\b\b\b\b\b\b\b\b\b\b\b\b\b\b\b\b\b\b\b\b\b\b\b\b\b\b\b\b\b\b\b\b\b\b\b\b\b\b\b\b\b\b\b\b\b\b\r20/20 [==============================] - 1s 35ms/step - loss: 256.4580 - mae: 256.4580 - val_loss: 847.7266 - val_mae: 847.7266\n",
            "Epoch 71/100\n",
            "20/20 [==============================] - 0s 6ms/step - loss: 254.6777 - mae: 254.6777 - val_loss: 848.3921 - val_mae: 848.3921\n",
            "Epoch 72/100\n",
            "20/20 [==============================] - 0s 5ms/step - loss: 301.6694 - mae: 301.6694 - val_loss: 859.5198 - val_mae: 859.5198\n",
            "Epoch 73/100\n",
            "20/20 [==============================] - ETA: 0s - loss: 271.0897 - mae: 271.0897"
          ]
        },
        {
          "output_type": "stream",
          "name": "stderr",
          "text": [
            "WARNING:absl:Found untraced functions such as _update_step_xla while saving (showing 1 of 1). These functions will not be directly callable after loading.\n"
          ]
        },
        {
          "output_type": "stream",
          "name": "stdout",
          "text": [
            "\b\b\b\b\b\b\b\b\b\b\b\b\b\b\b\b\b\b\b\b\b\b\b\b\b\b\b\b\b\b\b\b\b\b\b\b\b\b\b\b\b\b\b\b\b\b\b\b\b\b\b\b\b\b\b\b\b\b\b\b\b\b\b\b\b\b\b\b\b\b\b\b\b\b\b\b\b\b\b\b\b\r20/20 [==============================] - 0s 26ms/step - loss: 271.0897 - mae: 271.0897 - val_loss: 843.8455 - val_mae: 843.8455\n",
            "Epoch 74/100\n",
            "20/20 [==============================] - 0s 4ms/step - loss: 257.6825 - mae: 257.6825 - val_loss: 848.4832 - val_mae: 848.4832\n",
            "Epoch 75/100\n",
            "20/20 [==============================] - 0s 4ms/step - loss: 280.3390 - mae: 280.3390 - val_loss: 1060.4401 - val_mae: 1060.4401\n",
            "Epoch 76/100\n",
            "20/20 [==============================] - 0s 5ms/step - loss: 273.8647 - mae: 273.8647 - val_loss: 889.6582 - val_mae: 889.6582\n",
            "Epoch 77/100\n",
            "20/20 [==============================] - 0s 5ms/step - loss: 261.9342 - mae: 261.9342 - val_loss: 865.8638 - val_mae: 865.8638\n",
            "Epoch 78/100\n",
            "20/20 [==============================] - 0s 5ms/step - loss: 276.8333 - mae: 276.8333 - val_loss: 874.5678 - val_mae: 874.5678\n",
            "Epoch 79/100\n",
            "20/20 [==============================] - 0s 5ms/step - loss: 256.6727 - mae: 256.6727 - val_loss: 937.6266 - val_mae: 937.6266\n",
            "Epoch 80/100\n",
            "20/20 [==============================] - 0s 5ms/step - loss: 255.0600 - mae: 255.0600 - val_loss: 857.7191 - val_mae: 857.7191\n",
            "Epoch 81/100\n",
            "20/20 [==============================] - 0s 5ms/step - loss: 256.8456 - mae: 256.8456 - val_loss: 845.0851 - val_mae: 845.0851\n",
            "Epoch 82/100\n",
            "20/20 [==============================] - 0s 6ms/step - loss: 253.9447 - mae: 253.9447 - val_loss: 869.3058 - val_mae: 869.3058\n",
            "Epoch 83/100\n",
            " 1/20 [>.............................] - ETA: 0s - loss: 285.3595 - mae: 285.3595"
          ]
        },
        {
          "output_type": "stream",
          "name": "stderr",
          "text": [
            "WARNING:absl:Found untraced functions such as _update_step_xla while saving (showing 1 of 1). These functions will not be directly callable after loading.\n"
          ]
        },
        {
          "output_type": "stream",
          "name": "stdout",
          "text": [
            "\b\b\b\b\b\b\b\b\b\b\b\b\b\b\b\b\b\b\b\b\b\b\b\b\b\b\b\b\b\b\b\b\b\b\b\b\b\b\b\b\b\b\b\b\b\b\b\b\b\b\b\b\b\b\b\b\b\b\b\b\b\b\b\b\b\b\b\b\b\b\b\b\b\b\b\b\b\b\b\b\b\r20/20 [==============================] - 0s 23ms/step - loss: 267.5075 - mae: 267.5075 - val_loss: 836.1255 - val_mae: 836.1255\n",
            "Epoch 84/100\n",
            "20/20 [==============================] - 0s 4ms/step - loss: 250.6433 - mae: 250.6433 - val_loss: 860.6417 - val_mae: 860.6417\n",
            "Epoch 85/100\n",
            " 1/20 [>.............................] - ETA: 0s - loss: 218.4781 - mae: 218.4781"
          ]
        },
        {
          "output_type": "stream",
          "name": "stderr",
          "text": [
            "WARNING:absl:Found untraced functions such as _update_step_xla while saving (showing 1 of 1). These functions will not be directly callable after loading.\n"
          ]
        },
        {
          "output_type": "stream",
          "name": "stdout",
          "text": [
            "\b\b\b\b\b\b\b\b\b\b\b\b\b\b\b\b\b\b\b\b\b\b\b\b\b\b\b\b\b\b\b\b\b\b\b\b\b\b\b\b\b\b\b\b\b\b\b\b\b\b\b\b\b\b\b\b\b\b\b\b\b\b\b\b\b\b\b\b\b\b\b\b\b\b\b\b\b\b\b\b\b\r20/20 [==============================] - 0s 24ms/step - loss: 251.1157 - mae: 251.1157 - val_loss: 831.8876 - val_mae: 831.8876\n",
            "Epoch 86/100\n",
            "20/20 [==============================] - 0s 4ms/step - loss: 256.0697 - mae: 256.0697 - val_loss: 961.0527 - val_mae: 961.0527\n",
            "Epoch 87/100\n",
            "20/20 [==============================] - 0s 4ms/step - loss: 274.5726 - mae: 274.5726 - val_loss: 914.7037 - val_mae: 914.7037\n",
            "Epoch 88/100\n",
            "20/20 [==============================] - 0s 4ms/step - loss: 262.2408 - mae: 262.2408 - val_loss: 1128.9802 - val_mae: 1128.9802\n",
            "Epoch 89/100\n",
            "20/20 [==============================] - 0s 4ms/step - loss: 285.7117 - mae: 285.7117 - val_loss: 1063.3239 - val_mae: 1063.3239\n",
            "Epoch 90/100\n",
            "20/20 [==============================] - 0s 5ms/step - loss: 277.6516 - mae: 277.6516 - val_loss: 983.6813 - val_mae: 983.6813\n",
            "Epoch 91/100\n",
            "20/20 [==============================] - 0s 5ms/step - loss: 273.8412 - mae: 273.8412 - val_loss: 833.9626 - val_mae: 833.9626\n",
            "Epoch 92/100\n",
            "20/20 [==============================] - 0s 5ms/step - loss: 253.1688 - mae: 253.1688 - val_loss: 843.3612 - val_mae: 843.3612\n",
            "Epoch 93/100\n",
            "20/20 [==============================] - 0s 5ms/step - loss: 270.4750 - mae: 270.4750 - val_loss: 886.0623 - val_mae: 886.0623\n",
            "Epoch 94/100\n",
            "20/20 [==============================] - 0s 5ms/step - loss: 260.7283 - mae: 260.7283 - val_loss: 1123.1195 - val_mae: 1123.1195\n",
            "Epoch 95/100\n",
            "20/20 [==============================] - 0s 5ms/step - loss: 327.8364 - mae: 327.8364 - val_loss: 1086.2893 - val_mae: 1086.2893\n",
            "Epoch 96/100\n",
            "20/20 [==============================] - 0s 5ms/step - loss: 280.4518 - mae: 280.4518 - val_loss: 887.8865 - val_mae: 887.8865\n",
            "Epoch 97/100\n",
            "20/20 [==============================] - 0s 5ms/step - loss: 250.1079 - mae: 250.1079 - val_loss: 987.6875 - val_mae: 987.6875\n",
            "Epoch 98/100\n",
            "20/20 [==============================] - 0s 4ms/step - loss: 258.1425 - mae: 258.1425 - val_loss: 896.0172 - val_mae: 896.0172\n",
            "Epoch 99/100\n",
            "20/20 [==============================] - 0s 4ms/step - loss: 258.5900 - mae: 258.5900 - val_loss: 855.1051 - val_mae: 855.1051\n",
            "Epoch 100/100\n",
            "20/20 [==============================] - ETA: 0s - loss: 251.3674 - mae: 251.3674"
          ]
        },
        {
          "output_type": "stream",
          "name": "stderr",
          "text": [
            "WARNING:absl:Found untraced functions such as _update_step_xla while saving (showing 1 of 1). These functions will not be directly callable after loading.\n"
          ]
        },
        {
          "output_type": "stream",
          "name": "stdout",
          "text": [
            "\b\b\b\b\b\b\b\b\b\b\b\b\b\b\b\b\b\b\b\b\b\b\b\b\b\b\b\b\b\b\b\b\b\b\b\b\b\b\b\b\b\b\b\b\b\b\b\b\b\b\b\b\b\b\b\b\b\b\b\b\b\b\b\b\b\b\b\b\b\b\b\b\b\b\b\b\b\b\b\b\b\r20/20 [==============================] - 0s 26ms/step - loss: 251.3674 - mae: 251.3674 - val_loss: 829.2266 - val_mae: 829.2266\n"
          ]
        },
        {
          "output_type": "execute_result",
          "data": {
            "text/plain": [
              "<keras.callbacks.History at 0x7fa620341280>"
            ]
          },
          "metadata": {},
          "execution_count": 43
        }
      ]
    },
    {
      "cell_type": "code",
      "source": [
        "# Evaluate model on test data\n",
        "model_1.evaluate(test_windows, test_labels)"
      ],
      "metadata": {
        "colab": {
          "base_uri": "https://localhost:8080/"
        },
        "id": "FqTTBULL8Oui",
        "outputId": "0ae2512d-3520-4693-be95-4ab26894f583"
      },
      "execution_count": 44,
      "outputs": [
        {
          "output_type": "stream",
          "name": "stdout",
          "text": [
            "20/20 [==============================] - 0s 2ms/step - loss: 829.2266 - mae: 829.2266\n"
          ]
        },
        {
          "output_type": "execute_result",
          "data": {
            "text/plain": [
              "[829.2265625, 829.2265625]"
            ]
          },
          "metadata": {},
          "execution_count": 44
        }
      ]
    },
    {
      "cell_type": "code",
      "source": [
        "# Load in saved best performing model_1 and evaluate on test data\n",
        "model_1 = tf.keras.models.load_model(\"model_experiments/model_1_dense\")\n",
        "model_1.evaluate(test_windows, test_labels)"
      ],
      "metadata": {
        "colab": {
          "base_uri": "https://localhost:8080/"
        },
        "id": "6zkCtZZY8V2j",
        "outputId": "bdee65c9-89d3-4461-fba8-144d22400848"
      },
      "execution_count": 45,
      "outputs": [
        {
          "output_type": "stream",
          "name": "stdout",
          "text": [
            "20/20 [==============================] - 0s 4ms/step - loss: 829.2266 - mae: 829.2266\n"
          ]
        },
        {
          "output_type": "execute_result",
          "data": {
            "text/plain": [
              "[829.2265625, 829.2265625]"
            ]
          },
          "metadata": {},
          "execution_count": 45
        }
      ]
    },
    {
      "cell_type": "markdown",
      "source": [
        "### Making Forecasts with a Model on the Test Dataset"
      ],
      "metadata": {
        "id": "9cXvGXk-8cOu"
      }
    },
    {
      "cell_type": "code",
      "source": [
        "def make_preds(model, input_data):\n",
        "  \"\"\"\n",
        "  Uses model to make predictions on input_data.\n",
        "\n",
        "  Parameters\n",
        "  ----------\n",
        "  model: trained model \n",
        "  input_data: windowed input data (same kind of data model was trained on)\n",
        "\n",
        "  Returns model predictions on input_data.\n",
        "  \"\"\"\n",
        "  forecast = model.predict(input_data)\n",
        "  return tf.squeeze(forecast) # return 1D array of predictions"
      ],
      "metadata": {
        "id": "ACskVF-r8XSj"
      },
      "execution_count": 46,
      "outputs": []
    },
    {
      "cell_type": "code",
      "source": [
        "# Make predictions using model_1 on the test dataset and view the results\n",
        "model_1_preds = make_preds(model_1, test_windows)\n",
        "len(model_1_preds), model_1_preds[:10]"
      ],
      "metadata": {
        "colab": {
          "base_uri": "https://localhost:8080/"
        },
        "id": "fg6Up8G38hed",
        "outputId": "f6a70d1f-ad0d-4c7e-d0c7-914d8580cde2"
      },
      "execution_count": 47,
      "outputs": [
        {
          "output_type": "stream",
          "name": "stdout",
          "text": [
            "20/20 [==============================] - 0s 2ms/step\n"
          ]
        },
        {
          "output_type": "execute_result",
          "data": {
            "text/plain": [
              "(621, <tf.Tensor: shape=(10,), dtype=float32, numpy=\n",
              " array([33052.477, 33623.887, 33438.848, 34211.582, 33333.027, 32692.324,\n",
              "        32786.58 , 31860.967, 31438.562, 31335.371], dtype=float32)>)"
            ]
          },
          "metadata": {},
          "execution_count": 47
        }
      ]
    },
    {
      "cell_type": "code",
      "source": [
        "# Evaluate preds\n",
        "model_1_results = evaluate_preds(y_true=tf.squeeze(test_labels), # reduce to right shape\n",
        "                                 y_pred=model_1_preds)\n",
        "model_1_results"
      ],
      "metadata": {
        "colab": {
          "base_uri": "https://localhost:8080/"
        },
        "id": "Ua_aZB6T8lDc",
        "outputId": "00d41cd1-02a7-478d-c609-45a61bb1f9e6"
      },
      "execution_count": 48,
      "outputs": [
        {
          "output_type": "execute_result",
          "data": {
            "text/plain": [
              "{'mae': 829.2266,\n",
              " 'mse': 1554506.0,\n",
              " 'rmse': 1246.7983,\n",
              " 'mape': 2.4071398,\n",
              " 'mase': 1.0278038}"
            ]
          },
          "metadata": {},
          "execution_count": 48
        }
      ]
    },
    {
      "cell_type": "code",
      "source": [
        "naive_results"
      ],
      "metadata": {
        "colab": {
          "base_uri": "https://localhost:8080/"
        },
        "id": "rnEfZvZr8nWF",
        "outputId": "05bd40bf-9ba8-4a66-9cf4-82e5fcca1bb3"
      },
      "execution_count": 49,
      "outputs": [
        {
          "output_type": "execute_result",
          "data": {
            "text/plain": [
              "{'mae': 806.97797,\n",
              " 'mse': 1472673.6,\n",
              " 'rmse': 1213.5377,\n",
              " 'mape': 2.3301265,\n",
              " 'mase': 1.0002272}"
            ]
          },
          "metadata": {},
          "execution_count": 49
        }
      ]
    },
    {
      "cell_type": "code",
      "source": [
        "offset = 300\n",
        "plt.figure(figsize=(10, 7))\n",
        "# Account for the test_window offset and index into test_labels to ensure correct plotting\n",
        "plot_time_series(timesteps=X_test[-len(test_windows):], values=test_labels[:, 0], start=offset, label=\"Test_data\")\n",
        "plot_time_series(timesteps=X_test[-len(test_windows):], values=model_1_preds, start=offset, format=\"-\", label=\"model_1_preds\")"
      ],
      "metadata": {
        "colab": {
          "base_uri": "https://localhost:8080/",
          "height": 442
        },
        "id": "p09q8nNQ8rZN",
        "outputId": "cfeedff9-f8bf-4c4b-9c49-219d3fd4097a"
      },
      "execution_count": 50,
      "outputs": [
        {
          "output_type": "display_data",
          "data": {
            "text/plain": [
              "<Figure size 720x504 with 1 Axes>"
            ],
            "image/png": "[encoded data removed]"
          },
          "metadata": {
            "needs_background": "light"
          }
        }
      ]
    },
    {
      "cell_type": "markdown",
      "source": [
        "### Model 2 : Dense (window = 30, horizon = 1)"
      ],
      "metadata": {
        "id": "NKxOaCOP8yM6"
      }
    },
    {
      "cell_type": "code",
      "source": [
        "HORIZON = 1 # predict one step at a time\n",
        "WINDOW_SIZE = 30 # use 30 timesteps in the past"
      ],
      "metadata": {
        "id": "x1vuQsR98-3Z"
      },
      "execution_count": 51,
      "outputs": []
    },
    {
      "cell_type": "code",
      "source": [
        "# Make windowed data with appropriate horizon and window sizes\n",
        "full_windows, full_labels = make_windows(prices, window_size=WINDOW_SIZE, horizon=HORIZON)\n",
        "len(full_windows), len(full_labels)"
      ],
      "metadata": {
        "colab": {
          "base_uri": "https://localhost:8080/"
        },
        "id": "ZK0OcrG2-pLo",
        "outputId": "fc8a298f-d0f6-4350-faf8-5aad69b01273"
      },
      "execution_count": 52,
      "outputs": [
        {
          "output_type": "execute_result",
          "data": {
            "text/plain": [
              "(3078, 3078)"
            ]
          },
          "metadata": {},
          "execution_count": 52
        }
      ]
    },
    {
      "cell_type": "code",
      "source": [
        "train_windows, test_windows, train_labels, test_labels = make_train_test_splits(windows=full_windows, labels=full_labels, test_split=0.2)\n",
        "len(train_windows), len(test_windows), len(train_labels), len(test_labels)"
      ],
      "metadata": {
        "colab": {
          "base_uri": "https://localhost:8080/"
        },
        "id": "_XFwFK8_-rMQ",
        "outputId": "40b7b2f0-9a46-4833-85e6-4994c2b5bba3"
      },
      "execution_count": 53,
      "outputs": [
        {
          "output_type": "execute_result",
          "data": {
            "text/plain": [
              "(2462, 616, 2462, 616)"
            ]
          },
          "metadata": {},
          "execution_count": 53
        }
      ]
    },
    {
      "cell_type": "code",
      "source": [
        "tf.random.set_seed(42)\n",
        "\n",
        "# Create model (same model as model 1 but data input will be different)\n",
        "model_2 = tf.keras.Sequential([\n",
        "  layers.Dense(128, activation=\"relu\"),\n",
        "  layers.Dense(HORIZON) # need to predict horizon number of steps into the future\n",
        "], name=\"model_2_dense\")\n",
        "\n",
        "model_2.compile(loss=\"mae\",\n",
        "                optimizer=tf.keras.optimizers.Adam())\n",
        "\n",
        "model_2.fit(train_windows,\n",
        "            train_labels,\n",
        "            epochs=100,\n",
        "            batch_size=128,\n",
        "            verbose=0,\n",
        "            validation_data=(test_windows, test_labels),\n",
        "            callbacks=[create_model_checkpoint(model_name=model_2.name)])"
      ],
      "metadata": {
        "colab": {
          "base_uri": "https://localhost:8080/"
        },
        "id": "8_NZl581-wOa",
        "outputId": "3834c1a3-4ca3-486b-d7cc-8014e18fee77"
      },
      "execution_count": 54,
      "outputs": [
        {
          "output_type": "stream",
          "name": "stderr",
          "text": [
            "WARNING:absl:Found untraced functions such as _update_step_xla while saving (showing 1 of 1). These functions will not be directly callable after loading.\n",
            "WARNING:absl:Found untraced functions such as _update_step_xla while saving (showing 1 of 1). These functions will not be directly callable after loading.\n",
            "WARNING:absl:Found untraced functions such as _update_step_xla while saving (showing 1 of 1). These functions will not be directly callable after loading.\n",
            "WARNING:absl:Found untraced functions such as _update_step_xla while saving (showing 1 of 1). These functions will not be directly callable after loading.\n",
            "WARNING:absl:Found untraced functions such as _update_step_xla while saving (showing 1 of 1). These functions will not be directly callable after loading.\n",
            "WARNING:absl:Found untraced functions such as _update_step_xla while saving (showing 1 of 1). These functions will not be directly callable after loading.\n",
            "WARNING:absl:Found untraced functions such as _update_step_xla while saving (showing 1 of 1). These functions will not be directly callable after loading.\n",
            "WARNING:absl:Found untraced functions such as _update_step_xla while saving (showing 1 of 1). These functions will not be directly callable after loading.\n",
            "WARNING:absl:Found untraced functions such as _update_step_xla while saving (showing 1 of 1). These functions will not be directly callable after loading.\n",
            "WARNING:absl:Found untraced functions such as _update_step_xla while saving (showing 1 of 1). These functions will not be directly callable after loading.\n",
            "WARNING:absl:Found untraced functions such as _update_step_xla while saving (showing 1 of 1). These functions will not be directly callable after loading.\n",
            "WARNING:absl:Found untraced functions such as _update_step_xla while saving (showing 1 of 1). These functions will not be directly callable after loading.\n",
            "WARNING:absl:Found untraced functions such as _update_step_xla while saving (showing 1 of 1). These functions will not be directly callable after loading.\n",
            "WARNING:absl:Found untraced functions such as _update_step_xla while saving (showing 1 of 1). These functions will not be directly callable after loading.\n",
            "WARNING:absl:Found untraced functions such as _update_step_xla while saving (showing 1 of 1). These functions will not be directly callable after loading.\n",
            "WARNING:absl:Found untraced functions such as _update_step_xla while saving (showing 1 of 1). These functions will not be directly callable after loading.\n",
            "WARNING:absl:Found untraced functions such as _update_step_xla while saving (showing 1 of 1). These functions will not be directly callable after loading.\n",
            "WARNING:absl:Found untraced functions such as _update_step_xla while saving (showing 1 of 1). These functions will not be directly callable after loading.\n",
            "WARNING:absl:Found untraced functions such as _update_step_xla while saving (showing 1 of 1). These functions will not be directly callable after loading.\n",
            "WARNING:absl:Found untraced functions such as _update_step_xla while saving (showing 1 of 1). These functions will not be directly callable after loading.\n",
            "WARNING:absl:Found untraced functions such as _update_step_xla while saving (showing 1 of 1). These functions will not be directly callable after loading.\n",
            "WARNING:absl:Found untraced functions such as _update_step_xla while saving (showing 1 of 1). These functions will not be directly callable after loading.\n",
            "WARNING:absl:Found untraced functions such as _update_step_xla while saving (showing 1 of 1). These functions will not be directly callable after loading.\n",
            "WARNING:absl:Found untraced functions such as _update_step_xla while saving (showing 1 of 1). These functions will not be directly callable after loading.\n",
            "WARNING:absl:Found untraced functions such as _update_step_xla while saving (showing 1 of 1). These functions will not be directly callable after loading.\n"
          ]
        },
        {
          "output_type": "execute_result",
          "data": {
            "text/plain": [
              "<keras.callbacks.History at 0x7fa6203a9790>"
            ]
          },
          "metadata": {},
          "execution_count": 54
        }
      ]
    },
    {
      "cell_type": "code",
      "source": [
        "# Evaluate model 2 preds\n",
        "model_2.evaluate(test_windows, test_labels)"
      ],
      "metadata": {
        "colab": {
          "base_uri": "https://localhost:8080/"
        },
        "id": "uPdJhCQZ-zP6",
        "outputId": "f31c8994-d59e-4005-f0f3-af0eb33cca24"
      },
      "execution_count": 55,
      "outputs": [
        {
          "output_type": "stream",
          "name": "stdout",
          "text": [
            "20/20 [==============================] - 0s 2ms/step - loss: 1024.1101\n"
          ]
        },
        {
          "output_type": "execute_result",
          "data": {
            "text/plain": [
              "1024.110107421875"
            ]
          },
          "metadata": {},
          "execution_count": 55
        }
      ]
    },
    {
      "cell_type": "code",
      "source": [
        "# Load in best performing model\n",
        "model_2 = tf.keras.models.load_model(\"model_experiments/model_2_dense/\")\n",
        "model_2.evaluate(test_windows, test_labels)"
      ],
      "metadata": {
        "colab": {
          "base_uri": "https://localhost:8080/"
        },
        "id": "Yn2ocPLz-19i",
        "outputId": "ab285454-168f-4e77-e159-13e365ec5a13"
      },
      "execution_count": 56,
      "outputs": [
        {
          "output_type": "stream",
          "name": "stdout",
          "text": [
            "20/20 [==============================] - 0s 2ms/step - loss: 899.2830\n"
          ]
        },
        {
          "output_type": "execute_result",
          "data": {
            "text/plain": [
              "899.282958984375"
            ]
          },
          "metadata": {},
          "execution_count": 56
        }
      ]
    },
    {
      "cell_type": "code",
      "source": [
        "# Get forecast predictions\n",
        "model_2_preds = make_preds(model_2,\n",
        "                           input_data=test_windows)"
      ],
      "metadata": {
        "colab": {
          "base_uri": "https://localhost:8080/"
        },
        "id": "4NvliF75-4AU",
        "outputId": "ca4b9f21-2975-4d0f-a90e-08df20078133"
      },
      "execution_count": 57,
      "outputs": [
        {
          "output_type": "stream",
          "name": "stdout",
          "text": [
            "20/20 [==============================] - 0s 2ms/step\n"
          ]
        }
      ]
    },
    {
      "cell_type": "code",
      "source": [
        "# Evaluate results for model 2 predictions\n",
        "model_2_results = evaluate_preds(y_true=tf.squeeze(test_labels), # remove 1 dimension of test labels\n",
        "                                 y_pred=model_2_preds)\n",
        "model_2_results"
      ],
      "metadata": {
        "colab": {
          "base_uri": "https://localhost:8080/"
        },
        "id": "5Jq4OBOF-6nK",
        "outputId": "c511bbed-36f9-4627-8dea-611ce346063c"
      },
      "execution_count": 58,
      "outputs": [
        {
          "output_type": "execute_result",
          "data": {
            "text/plain": [
              "{'mae': 899.2831,\n",
              " 'mse': 1781176.9,\n",
              " 'rmse': 1334.6074,\n",
              " 'mape': 2.5936258,\n",
              " 'mase': 1.1115491}"
            ]
          },
          "metadata": {},
          "execution_count": 58
        }
      ]
    },
    {
      "cell_type": "code",
      "source": [
        "offset = 300\n",
        "plt.figure(figsize=(10, 7))\n",
        "# Account for the test_window offset\n",
        "plot_time_series(timesteps=X_test[-len(test_windows):], values=test_labels[:, 0], start=offset, label=\"test_data\")\n",
        "plot_time_series(timesteps=X_test[-len(test_windows):], values=model_2_preds, start=offset, format=\"-\", label=\"model_2_preds\") \n",
        "     "
      ],
      "metadata": {
        "colab": {
          "base_uri": "https://localhost:8080/",
          "height": 442
        },
        "id": "UkXaI1Fd-8Fy",
        "outputId": "1674ee19-4ef9-44f9-91de-e3be32aa52fb"
      },
      "execution_count": 59,
      "outputs": [
        {
          "output_type": "display_data",
          "data": {
            "text/plain": [
              "<Figure size 720x504 with 1 Axes>"
            ],
            "image/png": "[encoded data removed]"
          },
          "metadata": {
            "needs_background": "light"
          }
        }
      ]
    },
    {
      "cell_type": "markdown",
      "source": [
        "### Model 3 : Dense (window = 30, horizon = 7)"
      ],
      "metadata": {
        "id": "_Locq-Rx_AQD"
      }
    },
    {
      "cell_type": "code",
      "source": [
        "HORIZON = 7\n",
        "WINDOW_SIZE = 30\n",
        "\n",
        "full_windows, full_labels = make_windows(prices, window_size=WINDOW_SIZE, horizon=HORIZON)\n",
        "len(full_windows), len(full_labels)\n"
      ],
      "metadata": {
        "colab": {
          "base_uri": "https://localhost:8080/"
        },
        "id": "_mGXDr6QBOlZ",
        "outputId": "22022925-56cd-4472-a9ef-dc4904a2ed9e"
      },
      "execution_count": 60,
      "outputs": [
        {
          "output_type": "execute_result",
          "data": {
            "text/plain": [
              "(3072, 3072)"
            ]
          },
          "metadata": {},
          "execution_count": 60
        }
      ]
    },
    {
      "cell_type": "code",
      "source": [
        "train_windows, test_windows, train_labels, test_labels = make_train_test_splits(windows=full_windows, labels=full_labels, test_split=0.2)\n",
        "len(train_windows), len(test_windows), len(train_labels), len(test_labels)"
      ],
      "metadata": {
        "colab": {
          "base_uri": "https://localhost:8080/"
        },
        "id": "XHsVgvlyBSCh",
        "outputId": "e9dddf4c-67f0-43ca-8efb-2e478f7230ec"
      },
      "execution_count": 61,
      "outputs": [
        {
          "output_type": "execute_result",
          "data": {
            "text/plain": [
              "(2457, 615, 2457, 615)"
            ]
          },
          "metadata": {},
          "execution_count": 61
        }
      ]
    },
    {
      "cell_type": "code",
      "source": [
        "tf.random.set_seed(42)\n",
        "\n",
        "# Create model (same as model_1 except with different data input size)\n",
        "model_3 = tf.keras.Sequential([\n",
        "  layers.Dense(128, activation=\"relu\"),\n",
        "  layers.Dense(HORIZON)\n",
        "], name=\"model_3_dense\")\n",
        "\n",
        "model_3.compile(loss=\"mae\",\n",
        "                optimizer=tf.keras.optimizers.Adam())\n",
        "\n",
        "model_3.fit(train_windows,\n",
        "            train_labels,\n",
        "            batch_size=128,\n",
        "            epochs=100,\n",
        "            verbose=0,\n",
        "            validation_data=(test_windows, test_labels),\n",
        "            callbacks=[create_model_checkpoint(model_name=model_3.name)])"
      ],
      "metadata": {
        "colab": {
          "base_uri": "https://localhost:8080/"
        },
        "id": "fwzWKtALBVZj",
        "outputId": "acd12324-c11f-454b-e122-03fb29b3bbc9"
      },
      "execution_count": 62,
      "outputs": [
        {
          "output_type": "stream",
          "name": "stderr",
          "text": [
            "WARNING:absl:Found untraced functions such as _update_step_xla while saving (showing 1 of 1). These functions will not be directly callable after loading.\n",
            "WARNING:absl:Found untraced functions such as _update_step_xla while saving (showing 1 of 1). These functions will not be directly callable after loading.\n",
            "WARNING:absl:Found untraced functions such as _update_step_xla while saving (showing 1 of 1). These functions will not be directly callable after loading.\n",
            "WARNING:absl:Found untraced functions such as _update_step_xla while saving (showing 1 of 1). These functions will not be directly callable after loading.\n",
            "WARNING:absl:Found untraced functions such as _update_step_xla while saving (showing 1 of 1). These functions will not be directly callable after loading.\n",
            "WARNING:absl:Found untraced functions such as _update_step_xla while saving (showing 1 of 1). These functions will not be directly callable after loading.\n",
            "WARNING:absl:Found untraced functions such as _update_step_xla while saving (showing 1 of 1). These functions will not be directly callable after loading.\n",
            "WARNING:absl:Found untraced functions such as _update_step_xla while saving (showing 1 of 1). These functions will not be directly callable after loading.\n",
            "WARNING:absl:Found untraced functions such as _update_step_xla while saving (showing 1 of 1). These functions will not be directly callable after loading.\n",
            "WARNING:absl:Found untraced functions such as _update_step_xla while saving (showing 1 of 1). These functions will not be directly callable after loading.\n",
            "WARNING:absl:Found untraced functions such as _update_step_xla while saving (showing 1 of 1). These functions will not be directly callable after loading.\n",
            "WARNING:absl:Found untraced functions such as _update_step_xla while saving (showing 1 of 1). These functions will not be directly callable after loading.\n",
            "WARNING:absl:Found untraced functions such as _update_step_xla while saving (showing 1 of 1). These functions will not be directly callable after loading.\n",
            "WARNING:absl:Found untraced functions such as _update_step_xla while saving (showing 1 of 1). These functions will not be directly callable after loading.\n",
            "WARNING:absl:Found untraced functions such as _update_step_xla while saving (showing 1 of 1). These functions will not be directly callable after loading.\n",
            "WARNING:absl:Found untraced functions such as _update_step_xla while saving (showing 1 of 1). These functions will not be directly callable after loading.\n",
            "WARNING:absl:Found untraced functions such as _update_step_xla while saving (showing 1 of 1). These functions will not be directly callable after loading.\n",
            "WARNING:absl:Found untraced functions such as _update_step_xla while saving (showing 1 of 1). These functions will not be directly callable after loading.\n",
            "WARNING:absl:Found untraced functions such as _update_step_xla while saving (showing 1 of 1). These functions will not be directly callable after loading.\n"
          ]
        },
        {
          "output_type": "execute_result",
          "data": {
            "text/plain": [
              "<keras.callbacks.History at 0x7fa62039c670>"
            ]
          },
          "metadata": {},
          "execution_count": 62
        }
      ]
    },
    {
      "cell_type": "code",
      "source": [
        "# How did our model with a larger window size and horizon go?\n",
        "model_3.evaluate(test_windows, test_labels)\n",
        "     "
      ],
      "metadata": {
        "colab": {
          "base_uri": "https://localhost:8080/"
        },
        "id": "sz-adveeBX8S",
        "outputId": "9b21b888-55f9-4e61-821a-f49c57102763"
      },
      "execution_count": 63,
      "outputs": [
        {
          "output_type": "stream",
          "name": "stdout",
          "text": [
            "20/20 [==============================] - 0s 3ms/step - loss: 1759.0602\n"
          ]
        },
        {
          "output_type": "execute_result",
          "data": {
            "text/plain": [
              "1759.0601806640625"
            ]
          },
          "metadata": {},
          "execution_count": 63
        }
      ]
    },
    {
      "cell_type": "code",
      "source": [
        "# Load in best version of model_3 and evaluate\n",
        "model_3 = tf.keras.models.load_model(\"model_experiments/model_3_dense/\")\n",
        "model_3.evaluate(test_windows, test_labels)"
      ],
      "metadata": {
        "colab": {
          "base_uri": "https://localhost:8080/"
        },
        "id": "ruVaUgyRBaCS",
        "outputId": "beff4dd1-28f2-4ba2-d7ab-81447f32deda"
      },
      "execution_count": 64,
      "outputs": [
        {
          "output_type": "stream",
          "name": "stdout",
          "text": [
            "20/20 [==============================] - 0s 3ms/step - loss: 1741.1372\n"
          ]
        },
        {
          "output_type": "execute_result",
          "data": {
            "text/plain": [
              "1741.13720703125"
            ]
          },
          "metadata": {},
          "execution_count": 64
        }
      ]
    },
    {
      "cell_type": "code",
      "source": [
        "# The predictions are going to be 7 steps at a time (this is the HORIZON size)\n",
        "model_3_preds = make_preds(model_3,\n",
        "                           input_data=test_windows)\n",
        "model_3_preds[:5]"
      ],
      "metadata": {
        "colab": {
          "base_uri": "https://localhost:8080/"
        },
        "id": "QZ_PYfZnBbWi",
        "outputId": "fc18e8df-a618-4d85-d803-b4dafcf20022"
      },
      "execution_count": 65,
      "outputs": [
        {
          "output_type": "stream",
          "name": "stdout",
          "text": [
            "20/20 [==============================] - 0s 2ms/step\n"
          ]
        },
        {
          "output_type": "execute_result",
          "data": {
            "text/plain": [
              "<tf.Tensor: shape=(5, 7), dtype=float32, numpy=\n",
              "array([[33463.34 , 33451.41 , 32797.645, 33470.16 , 33698.92 , 32360.783,\n",
              "        32505.85 ],\n",
              "       [34350.164, 32689.516, 34134.168, 33737.1  , 33485.023, 33482.812,\n",
              "        33562.785],\n",
              "       [33944.215, 33105.504, 34484.457, 33916.72 , 33414.453, 33198.598,\n",
              "        33521.652],\n",
              "       [34112.1  , 34055.176, 34143.27 , 34147.66 , 34450.12 , 33251.656,\n",
              "        33756.832],\n",
              "       [34022.15 , 34531.887, 34441.844, 33081.14 , 34190.56 , 33024.77 ,\n",
              "        33457.113]], dtype=float32)>"
            ]
          },
          "metadata": {},
          "execution_count": 65
        }
      ]
    },
    {
      "cell_type": "code",
      "source": [
        "# Calculate model_3 results - these are going to be multi-dimensional because\n",
        "# we're trying to predict more than one step at a time.\n",
        "model_3_results = evaluate_preds(y_true=tf.squeeze(test_labels),\n",
        "                                 y_pred=model_3_preds)\n",
        "model_3_results"
      ],
      "metadata": {
        "colab": {
          "base_uri": "https://localhost:8080/"
        },
        "id": "3gZp8q2MBdAi",
        "outputId": "7aa61e24-52a3-4555-8fcb-31a91604339b"
      },
      "execution_count": 66,
      "outputs": [
        {
          "output_type": "execute_result",
          "data": {
            "text/plain": [
              "{'mae': array([ 620.6024 , 1271.3881 , 1231.7834 , 1814.921  , 1982.1582 ,\n",
              "        1343.5365 , 1005.2871 ,  797.57367,  923.2294 , 1629.7385 ,\n",
              "        2129.8655 , 3181.4119 , 4374.059  , 4842.0913 , 5004.2354 ,\n",
              "        5419.0166 , 5333.1875 , 5152.8022 , 3795.8298 , 1774.4833 ,\n",
              "         828.5458 ,  941.31696, 1862.0334 , 2451.112  , 2089.2188 ,\n",
              "        2914.423  , 4212.7476 , 4908.66   , 4242.515  , 3349.6223 ,\n",
              "        2085.4827 , 1891.1881 , 1024.0887 ,  857.702  , 1280.0323 ,\n",
              "        1123.765  , 1262.226  , 1673.5966 , 1896.0178 , 1920.9403 ,\n",
              "        2150.5403 , 2685.7388 , 1788.3995 ,  660.3499 ,  794.9749 ,\n",
              "        1384.6144 , 2110.2747 ,  839.0089 , 1315.226  ,  745.6378 ,\n",
              "         869.3125 , 1370.908  , 1469.5217 , 2111.     , 2369.2305 ,\n",
              "        1995.212  , 2017.6133 , 2916.1646 , 3581.0168 , 4484.159  ,\n",
              "        6915.2437 , 3853.6646 , 1706.1624 , 1486.4733 , 1557.8002 ,\n",
              "        2098.4224 , 1974.3549 , 2580.711  , 1931.7098 , 2744.0212 ,\n",
              "        3351.016  , 3518.053  , 4732.9985 , 4699.405  , 1773.5848 ,\n",
              "        1273.5931 ,  815.2662 , 1330.0111 , 1785.8337 , 2453.0447 ,\n",
              "        3129.808  , 3847.5178 , 5322.947  , 7528.656  , 8257.685  ,\n",
              "        5596.3237 , 4982.958  , 5628.514  , 5670.485  , 4423.8364 ,\n",
              "        1687.5938 , 2048.948  , 2719.4722 , 2860.109  , 3552.4553 ,\n",
              "        2734.3967 , 3376.931  , 4700.856  , 4624.9995 , 2324.5903 ,\n",
              "        1356.7812 , 1424.3967 , 1587.3455 , 2567.2065 , 4594.693  ,\n",
              "        3514.2434 , 1283.8499 , 1459.5156 , 1218.1641 , 1876.1189 ,\n",
              "        1017.62335, 1797.4799 , 1007.5101 ,  963.4704 ,  794.4046 ,\n",
              "         727.83875, 1691.9705 , 2168.487  , 2346.606  , 2591.865  ,\n",
              "        3246.2747 , 3025.99   , 2083.2249 , 1378.9559 , 3177.6685 ,\n",
              "        3749.4597 , 4351.2607 , 4607.8486 , 4066.5815 , 5504.273  ,\n",
              "        6011.721  , 3728.9353 , 3029.9705 , 1317.8331 , 1414.8483 ,\n",
              "        2719.8945 , 3058.9358 , 1747.5787 , 1659.2511 ,  903.2919 ,\n",
              "        1133.466  , 1863.726  , 2333.3528 , 2325.8293 , 3945.8464 ,\n",
              "        4611.637  , 5838.1436 , 6818.7153 , 6043.383  , 2337.8684 ,\n",
              "        1351.8264 , 1496.903  , 1812.2662 , 2010.0916 , 1321.0067 ,\n",
              "        1443.2494 , 1165.2684 , 1825.6144 ,  854.5893 , 1218.2819 ,\n",
              "        1269.0173 , 1427.966  , 2006.4158 , 2505.1484 , 3243.9792 ,\n",
              "        3830.8425 , 2220.5278 , 2043.534  , 1344.774  , 2403.3823 ,\n",
              "        2949.3577 , 3177.559  , 3712.1892 , 2145.1848 , 1079.8075 ,\n",
              "        1203.5173 , 1637.7198 , 2419.8047 , 3980.0212 , 4351.6743 ,\n",
              "        4081.1345 , 2114.2266 ,  998.19086, 1065.1864 , 1365.9163 ,\n",
              "        1723.087  , 1776.0245 ,  764.31024,  745.3086 ,  792.6663 ,\n",
              "        1712.7561 , 2844.5017 , 3811.5989 , 4056.8025 , 4798.3916 ,\n",
              "        5122.103  , 4715.6196 , 1737.9553 , 1201.4291 , 1981.2528 ,\n",
              "        1719.6222 , 1649.0391 , 1410.2494 , 1036.14   , 1078.3131 ,\n",
              "        1666.6049 , 2217.5898 , 3033.6528 , 3749.4788 , 5008.855  ,\n",
              "        6094.499  , 3722.4258 , 2115.6206 , 1192.5486 ,  590.6222 ,\n",
              "        1107.1992 , 1630.9492 , 1734.4486 , 1369.3455 , 1249.4581 ,\n",
              "        1887.6713 , 2593.933  , 3675.3884 , 5247.2295 , 3864.1597 ,\n",
              "        2295.8481 , 2141.5786 , 1149.4381 , 1553.2963 , 2471.1245 ,\n",
              "        3545.5183 , 3687.6333 , 2803.1362 , 2879.1267 , 3010.7852 ,\n",
              "        2107.1567 , 3402.7205 , 4268.888  , 4573.383  , 2527.6301 ,\n",
              "        1193.5803 , 1126.1311 , 1253.8381 , 1414.2963 , 1405.0206 ,\n",
              "        1420.8951 , 1427.2751 , 1975.9291 , 2380.3186 , 2098.842  ,\n",
              "        2360.6355 , 2301.3425 , 1875.7316 , 1109.4408 , 1209.4219 ,\n",
              "        1880.1072 , 3088.766  , 2962.4062 , 3294.076  , 2131.2947 ,\n",
              "        2054.909  , 1652.976  ,  521.3493 , 1256.235  , 1709.2428 ,\n",
              "        1708.3131 , 1282.5134 , 1605.6595 , 2020.7194 , 2497.2192 ,\n",
              "        4342.1597 , 4458.694  , 3224.3567 , 2491.4392 , 1942.1272 ,\n",
              "        2159.6206 , 2137.2644 ,  686.48663,  693.97375,  706.519  ,\n",
              "         861.8789 ,  658.7907 ,  635.5458 ,  607.6808 ,  546.1462 ,\n",
              "        1231.6736 , 1880.1094 , 1667.9698 , 1296.9023 ,  932.6133 ,\n",
              "         719.5575 , 1240.7795 ,  738.59094,  960.94977, 1572.2305 ,\n",
              "        1407.8672 , 1264.1825 , 1726.7561 , 2797.4722 , 3538.4207 ,\n",
              "        5261.085  , 5498.487  , 5210.866  , 5543.7993 , 4532.597  ,\n",
              "        1875.6345 ,  973.92804,  696.1147 , 1388.3987 , 1187.4166 ,\n",
              "         887.02875,  651.4618 ,  837.92523,  741.9135 ,  758.7168 ,\n",
              "         571.9869 ,  682.2394 ,  380.42438,  493.71625,  739.88446,\n",
              "        1363.3809 , 1147.548  , 1397.8934 , 1575.5162 , 1938.0319 ,\n",
              "        1720.1923 ,  779.5421 , 1137.0684 ,  855.20703,  724.2665 ,\n",
              "         720.952  ,  885.41797, 1174.5963 , 2169.1814 , 4211.4126 ,\n",
              "        4810.1963 , 6021.2266 , 6502.9165 , 6934.1953 , 6756.4463 ,\n",
              "        3214.8528 , 1652.0404 , 1504.2548 ,  320.5279 ,  596.22296,\n",
              "        1189.9612 ,  932.4562 ,  697.19196,  881.3287 ,  497.3348 ,\n",
              "         425.7447 ,  734.5653 , 1114.7313 ,  954.25867, 1059.3787 ,\n",
              "         674.3019 ,  700.041  , 1032.8231 , 1513.4369 , 1692.3951 ,\n",
              "        1806.8948 , 1068.1183 ,  729.6956 ,  563.9238 ,  701.149  ,\n",
              "        1030.5248 ,  977.139  ,  777.05133, 1137.7023 , 1709.3359 ,\n",
              "        1867.3839 , 2026.7366 , 1726.781  , 1688.2494 , 1539.8678 ,\n",
              "         901.05914,  768.2896 , 1063.2233 , 1160.3175 , 1121.976  ,\n",
              "         980.09406, 1061.8398 , 1571.8967 , 1856.1886 ,  973.62274,\n",
              "         361.07114,  728.7969 ,  986.4799 ,  910.4311 ,  634.17413,\n",
              "         466.8061 ,  637.5488 ,  881.4464 ,  744.5971 ,  729.144  ,\n",
              "         914.8929 ,  573.7969 ,  522.18805,  326.1021 ,  441.5402 ,\n",
              "         849.7944 , 1553.7821 , 1958.3987 , 2367.141  , 2463.1987 ,\n",
              "        2133.3013 , 2034.942  ,  683.8061 ,  390.71957,  626.6225 ,\n",
              "         739.4897 , 1207.6208 , 1345.4417 , 1502.7227 ,  875.87195,\n",
              "         366.27985,  256.18832,  299.12332,  344.39453,  309.58676,\n",
              "         334.00922,  675.7282 ,  928.166  , 1157.9199 , 1638.0486 ,\n",
              "        1806.4885 , 1941.6947 , 1969.8689 ,  780.0039 , 1039.2076 ,\n",
              "        1422.5137 , 2198.989  , 1722.2882 ,  998.3892 ,  589.25476,\n",
              "         344.91156,  845.48663,  547.7282 ,  459.6772 ,  317.41852,\n",
              "         523.5703 ,  387.26535,  408.2461 ,  522.5167 ,  492.59515,\n",
              "         569.286  ,  442.71652,  440.7112 ,  486.33286,  540.8563 ,\n",
              "         577.73157,  527.7001 ,  429.3828 ,  550.5792 , 1082.459  ,\n",
              "         981.3594 ,  698.07336,  417.86188,  233.02428,  248.30775,\n",
              "         384.09235,  287.8605 ,  232.27037,  168.08957,  171.93861,\n",
              "         235.48967,  356.37946,  365.9375 ,  542.71234,  671.96094,\n",
              "         866.24414,  907.37   ,  915.87164,  950.1833 ,  695.81836,\n",
              "         194.60463,  210.0131 ,  270.8404 ,  578.40906,  496.98883,\n",
              "         493.77203,  674.5181 , 1258.85   , 1588.5754 , 2111.1597 ,\n",
              "        3090.619  , 3630.0981 , 4033.4583 , 2919.312  ,  494.09125,\n",
              "         280.6822 ,  163.01562,  255.87584,  280.3178 ,  281.1479 ,\n",
              "         261.01688,  449.4668 ,  365.05637,  464.30344,  466.6162 ,\n",
              "         404.54324,  619.25964,  584.0226 ,  245.82199,  427.13657,\n",
              "         537.1554 ,  586.49054,  666.87024,  763.6798 ,  770.6656 ,\n",
              "         310.21567,  399.03488,  213.78822,  172.51283,  235.01897,\n",
              "         318.7768 ,  390.41992,  448.26508,  335.9813 ,  412.1755 ,\n",
              "         349.5706 ,  383.05328,  498.27094,  712.4093 , 1009.62976,\n",
              "         904.0455 ,  358.77148,  164.05135,  151.05162,  244.26088,\n",
              "         130.21066,  163.77092,  129.05022,  239.26701,  251.39928,\n",
              "         252.55916,  427.4788 ,  322.69308,  168.7034 ,  207.23186,\n",
              "         183.43443,  181.16267,  197.43025,  296.77817,  324.988  ,\n",
              "         416.3298 ,  573.2796 ,  966.58234, 1485.7073 , 1975.1752 ,\n",
              "        2353.6445 , 2691.9402 , 2783.4258 , 2333.6028 , 1728.0385 ,\n",
              "         872.0025 ,  890.00336, 1057.2467 , 1049.0636 , 1434.9232 ,\n",
              "        1602.658  ,  729.111  ,  346.76172,  312.07617,  386.70844,\n",
              "         195.1116 ,  329.68637,  246.73967,  453.35687,  561.15265,\n",
              "         310.04184,  360.86996,  255.02512,  611.62024,  964.06085,\n",
              "        1111.0631 , 1255.8398 , 1067.8802 ,  999.28656, 1343.079  ,\n",
              "        1355.885  ,  993.3167 , 1066.8954 , 1385.2982 , 1853.444  ,\n",
              "        2152.0957 , 2265.3535 ,  912.35297,  538.6735 ,  340.35965,\n",
              "         818.79297,  778.3538 , 1285.4744 , 1381.2723 ,  972.83954,\n",
              "         875.4975 ,  576.5162 ,  379.79297,  514.99164,  920.53906,\n",
              "         828.45087, 1007.15485, 1583.8466 , 1119.5369 ,  978.6836 ,\n",
              "         967.5558 , 1206.1663 , 1636.2799 , 1852.582  , 2459.0735 ,\n",
              "        3557.6145 , 4409.0527 , 4488.3403 , 3219.9683 , 2527.7715 ],\n",
              "       dtype=float32),\n",
              " 'mse': array([5.75592312e+05, 1.86322062e+06, 2.03518538e+06, 3.72288050e+06,\n",
              "        4.29099900e+06, 2.39679750e+06, 1.22710688e+06, 1.05072125e+06,\n",
              "        1.17877012e+06, 3.93448400e+06, 6.23349200e+06, 1.28101850e+07,\n",
              "        2.47608020e+07, 3.10547300e+07, 3.25331020e+07, 3.78143240e+07,\n",
              "        3.45674440e+07, 2.95169880e+07, 1.59210630e+07, 4.00726400e+06,\n",
              "        1.45863800e+06, 1.29309188e+06, 4.78754750e+06, 7.60844100e+06,\n",
              "        5.61274850e+06, 1.24084220e+07, 2.33619940e+07, 2.75299620e+07,\n",
              "        1.99174860e+07, 1.27613310e+07, 6.22786150e+06, 5.24044300e+06,\n",
              "        1.42603538e+06, 9.09877875e+05, 2.42110025e+06, 1.93763688e+06,\n",
              "        2.46303475e+06, 3.82061375e+06, 4.28126150e+06, 4.10552925e+06,\n",
              "        5.52797600e+06, 8.13479450e+06, 4.14025825e+06, 5.88028438e+05,\n",
              "        1.21969725e+06, 2.55757650e+06, 5.72982500e+06, 1.20651712e+06,\n",
              "        2.59091550e+06, 8.53874312e+05, 1.09648362e+06, 2.55790875e+06,\n",
              "        2.80539425e+06, 5.92669950e+06, 7.54979900e+06, 5.12543650e+06,\n",
              "        6.72201450e+06, 1.01855170e+07, 1.53272410e+07, 2.26323560e+07,\n",
              "        4.84506680e+07, 1.53372050e+07, 3.41560150e+06, 2.79827250e+06,\n",
              "        2.99184200e+06, 5.98996250e+06, 4.67050250e+06, 7.18031300e+06,\n",
              "        6.93997150e+06, 1.37543650e+07, 1.71801320e+07, 1.83166440e+07,\n",
              "        2.56824420e+07, 2.41276940e+07, 5.17792800e+06, 2.95009950e+06,\n",
              "        1.42261938e+06, 2.52467225e+06, 4.16719550e+06, 1.04326390e+07,\n",
              "        1.51660090e+07, 2.01989740e+07, 3.62833280e+07, 7.00146880e+07,\n",
              "        8.02561840e+07, 4.29706920e+07, 3.42586040e+07, 3.79413000e+07,\n",
              "        3.62138640e+07, 2.15621760e+07, 5.25721250e+06, 6.08533600e+06,\n",
              "        1.13924460e+07, 1.35416570e+07, 1.71174680e+07, 1.13620740e+07,\n",
              "        1.61164730e+07, 2.85837800e+07, 2.58813820e+07, 8.71631900e+06,\n",
              "        4.80728450e+06, 4.46674350e+06, 4.20932100e+06, 8.39107000e+06,\n",
              "        2.29894180e+07, 1.48656950e+07, 2.44928400e+06, 3.06479025e+06,\n",
              "        2.47309250e+06, 5.19488350e+06, 2.85229075e+06, 4.35983850e+06,\n",
              "        1.70463925e+06, 1.30221775e+06, 9.28484625e+05, 8.82020938e+05,\n",
              "        4.97216350e+06, 7.46953850e+06, 7.56789200e+06, 1.06475500e+07,\n",
              "        1.30099520e+07, 1.12773810e+07, 5.69496100e+06, 2.52576575e+06,\n",
              "        1.36391510e+07, 1.87195480e+07, 2.71570900e+07, 2.93321700e+07,\n",
              "        2.29669600e+07, 3.27739640e+07, 3.97448240e+07, 1.56987290e+07,\n",
              "        1.08586180e+07, 2.87512375e+06, 3.38373625e+06, 9.11369400e+06,\n",
              "        1.14915520e+07, 4.22989750e+06, 3.76746275e+06, 1.12699575e+06,\n",
              "        2.20739975e+06, 3.70066200e+06, 7.59430500e+06, 1.01967440e+07,\n",
              "        2.30989860e+07, 3.06559500e+07, 4.03756200e+07, 4.88842520e+07,\n",
              "        3.77932040e+07, 7.04293150e+06, 2.84093350e+06, 2.51451475e+06,\n",
              "        5.19208000e+06, 5.11356750e+06, 2.42173750e+06, 3.25234650e+06,\n",
              "        1.75635738e+06, 4.27815700e+06, 1.00961250e+06, 2.25400125e+06,\n",
              "        2.23461925e+06, 3.07765200e+06, 6.30230800e+06, 9.20794600e+06,\n",
              "        1.36248050e+07, 1.65151450e+07, 6.90110150e+06, 5.12681350e+06,\n",
              "        2.07951612e+06, 8.21159900e+06, 1.15791970e+07, 1.22583930e+07,\n",
              "        1.44268480e+07, 5.77356250e+06, 2.09605788e+06, 2.10944825e+06,\n",
              "        4.52434300e+06, 8.70694400e+06, 1.88875040e+07, 2.08261120e+07,\n",
              "        1.76396520e+07, 5.35000450e+06, 1.37509525e+06, 1.22594975e+06,\n",
              "        2.73842625e+06, 3.47074175e+06, 3.69885600e+06, 7.09098875e+05,\n",
              "        8.12230875e+05, 1.08943162e+06, 6.89664450e+06, 1.48705150e+07,\n",
              "        2.18449800e+07, 2.29975100e+07, 2.80066060e+07, 2.90677500e+07,\n",
              "        2.28730420e+07, 4.33606550e+06, 2.22547200e+06, 4.66412300e+06,\n",
              "        3.53706625e+06, 3.55141825e+06, 2.67273775e+06, 1.35962525e+06,\n",
              "        2.92831350e+06, 4.95173050e+06, 8.21843300e+06, 1.35891280e+07,\n",
              "        1.72467420e+07, 2.93817700e+07, 3.88592000e+07, 1.50748650e+07,\n",
              "        5.35750400e+06, 1.76788812e+06, 6.08392500e+05, 1.73406062e+06,\n",
              "        3.27560600e+06, 4.67955950e+06, 2.55909800e+06, 1.84271788e+06,\n",
              "        4.47157450e+06, 8.21051850e+06, 1.67735750e+07, 2.90325020e+07,\n",
              "        1.60505370e+07, 6.77993700e+06, 5.28476650e+06, 2.43564450e+06,\n",
              "        5.29606750e+06, 1.37115610e+07, 2.10430280e+07, 1.97394340e+07,\n",
              "        1.29383530e+07, 1.26424500e+07, 1.32327280e+07, 5.05016500e+06,\n",
              "        1.41264820e+07, 1.92932540e+07, 2.35309120e+07, 8.10667450e+06,\n",
              "        1.62928400e+06, 1.79498400e+06, 3.79639750e+06, 3.40496675e+06,\n",
              "        2.32694150e+06, 2.90312925e+06, 2.88864975e+06, 5.35238400e+06,\n",
              "        6.79570550e+06, 5.44283650e+06, 6.52740350e+06, 6.34290150e+06,\n",
              "        5.25067750e+06, 2.25284325e+06, 1.91378438e+06, 5.70019050e+06,\n",
              "        1.26679740e+07, 1.18008890e+07, 1.36140940e+07, 6.90244350e+06,\n",
              "        4.87445950e+06, 3.03121475e+06, 4.82370906e+05, 2.11861125e+06,\n",
              "        3.27250350e+06, 4.15540350e+06, 2.52500050e+06, 4.72129950e+06,\n",
              "        5.66787900e+06, 8.28284350e+06, 2.16544000e+07, 2.15808860e+07,\n",
              "        1.21177970e+07, 7.73013450e+06, 4.92326800e+06, 5.39422550e+06,\n",
              "        4.95276450e+06, 7.69795125e+05, 8.74068875e+05, 5.45374062e+05,\n",
              "        8.54010938e+05, 5.76615188e+05, 6.42153812e+05, 6.51952125e+05,\n",
              "        4.25994094e+05, 2.56490450e+06, 4.01920575e+06, 3.45184450e+06,\n",
              "        2.22501450e+06, 1.21905788e+06, 5.98429750e+05, 2.20289175e+06,\n",
              "        6.79363562e+05, 1.20151375e+06, 2.61590625e+06, 2.76487325e+06,\n",
              "        2.03089125e+06, 4.34736900e+06, 1.22312320e+07, 1.69263660e+07,\n",
              "        3.41665040e+07, 3.70848160e+07, 3.22854980e+07, 3.33254380e+07,\n",
              "        2.14884380e+07, 4.17436750e+06, 1.65284862e+06, 8.54081188e+05,\n",
              "        2.32165350e+06, 2.00490388e+06, 1.09694475e+06, 8.37833562e+05,\n",
              "        8.30184312e+05, 7.15479500e+05, 7.65682125e+05, 4.65508750e+05,\n",
              "        5.79380188e+05, 2.46148391e+05, 3.29871344e+05, 9.76540438e+05,\n",
              "        3.53310925e+06, 2.20773475e+06, 2.82585375e+06, 3.44523325e+06,\n",
              "        4.39294350e+06, 3.49341375e+06, 7.49046625e+05, 1.83490588e+06,\n",
              "        8.53379188e+05, 6.32748625e+05, 6.78861938e+05, 1.23903688e+06,\n",
              "        1.93125562e+06, 1.03470250e+07, 2.63719400e+07, 3.15672320e+07,\n",
              "        4.66669640e+07, 5.06435640e+07, 5.32665720e+07, 4.67245000e+07,\n",
              "        1.18211200e+07, 3.73345850e+06, 2.76395950e+06, 1.96967594e+05,\n",
              "        5.64332562e+05, 1.85791600e+06, 1.08566988e+06, 8.46389062e+05,\n",
              "        9.08151500e+05, 2.89131938e+05, 2.55556672e+05, 8.40578125e+05,\n",
              "        1.67900488e+06, 1.06515112e+06, 1.31405488e+06, 6.19497562e+05,\n",
              "        7.19059438e+05, 1.72593238e+06, 3.58590850e+06, 4.26457700e+06,\n",
              "        3.94969775e+06, 1.49780525e+06, 7.82604688e+05, 5.41126875e+05,\n",
              "        7.69239875e+05, 1.38303925e+06, 1.50156775e+06, 9.58375438e+05,\n",
              "        1.86234200e+06, 4.32402200e+06, 4.92305950e+06, 5.62280250e+06,\n",
              "        4.17025225e+06, 3.07947825e+06, 2.47848125e+06, 1.03854444e+06,\n",
              "        9.67990500e+05, 1.41474112e+06, 1.89156075e+06, 1.54723800e+06,\n",
              "        1.16955238e+06, 1.29572000e+06, 2.56318125e+06, 3.59769475e+06,\n",
              "        1.00605244e+06, 2.14894719e+05, 5.77219312e+05, 1.07890300e+06,\n",
              "        9.08904125e+05, 5.91614375e+05, 2.87660156e+05, 5.04642469e+05,\n",
              "        1.01052512e+06, 7.60492625e+05, 7.63358062e+05, 1.02907950e+06,\n",
              "        4.18650438e+05, 3.06409094e+05, 1.59432172e+05, 3.10739531e+05,\n",
              "        1.99577700e+06, 3.93620925e+06, 5.25536950e+06, 6.94843900e+06,\n",
              "        6.93019900e+06, 4.78498900e+06, 4.23157050e+06, 8.12288312e+05,\n",
              "        2.68622719e+05, 6.25109562e+05, 7.30354562e+05, 1.81270888e+06,\n",
              "        2.13504750e+06, 2.34863625e+06, 8.39690312e+05, 2.41982250e+05,\n",
              "        1.00004445e+05, 1.20680516e+05, 2.36476781e+05, 1.78226719e+05,\n",
              "        1.86442703e+05, 5.67613000e+05, 1.26125262e+06, 1.82864012e+06,\n",
              "        3.30207050e+06, 4.61481100e+06, 4.58631700e+06, 4.55659700e+06,\n",
              "        1.08271288e+06, 1.25793362e+06, 2.40225950e+06, 4.86731450e+06,\n",
              "        3.25301250e+06, 1.22928500e+06, 5.71209125e+05, 2.94218938e+05,\n",
              "        9.27640875e+05, 5.07921938e+05, 2.81785688e+05, 1.68784203e+05,\n",
              "        3.67207656e+05, 1.89611891e+05, 2.51919172e+05, 3.38169344e+05,\n",
              "        3.81944938e+05, 3.97949562e+05, 3.24501406e+05, 3.20852094e+05,\n",
              "        3.18441281e+05, 3.89951781e+05, 4.33916562e+05, 4.32027438e+05,\n",
              "        2.79657781e+05, 3.57685531e+05, 1.28608888e+06, 1.01217912e+06,\n",
              "        5.47852125e+05, 2.23934250e+05, 7.20387734e+04, 7.75752734e+04,\n",
              "        2.46767281e+05, 1.22924234e+05, 6.93254219e+04, 4.17269922e+04,\n",
              "        5.38583047e+04, 6.51126953e+04, 1.47082594e+05, 1.83301641e+05,\n",
              "        5.02556156e+05, 8.00709125e+05, 1.10249812e+06, 1.17144375e+06,\n",
              "        9.62557000e+05, 1.07165788e+06, 5.11004344e+05, 6.04746367e+04,\n",
              "        6.79556094e+04, 1.12767812e+05, 3.52646719e+05, 3.26587781e+05,\n",
              "        2.71091781e+05, 8.50408125e+05, 3.37289075e+06, 4.05214025e+06,\n",
              "        7.74051950e+06, 1.25202580e+07, 1.51809130e+07, 1.66617760e+07,\n",
              "        8.89178900e+06, 3.82696781e+05, 1.29375680e+05, 5.24720273e+04,\n",
              "        8.83112891e+04, 1.15786984e+05, 1.09030570e+05, 1.12774523e+05,\n",
              "        2.59016047e+05, 2.09245578e+05, 4.45558781e+05, 3.13473938e+05,\n",
              "        2.13655578e+05, 4.31440688e+05, 3.80859062e+05, 8.85235000e+04,\n",
              "        3.35277594e+05, 4.65234062e+05, 5.32978938e+05, 4.90698281e+05,\n",
              "        7.04802188e+05, 6.29867562e+05, 1.49696156e+05, 1.82390281e+05,\n",
              "        6.32432578e+04, 3.95777070e+04, 7.41315391e+04, 1.36303719e+05,\n",
              "        2.28927531e+05, 3.83504531e+05, 1.65833625e+05, 2.36822391e+05,\n",
              "        1.60784734e+05, 1.94714578e+05, 3.11910531e+05, 6.71377500e+05,\n",
              "        1.06136688e+06, 8.63103375e+05, 1.85798625e+05, 3.57583711e+04,\n",
              "        4.26873438e+04, 8.04622891e+04, 2.41303711e+04, 4.37939961e+04,\n",
              "        2.37440527e+04, 8.16795000e+04, 7.32018203e+04, 8.02398047e+04,\n",
              "        2.13816750e+05, 1.31347766e+05, 4.08623242e+04, 6.54128242e+04,\n",
              "        4.14945664e+04, 5.87421211e+04, 6.39519258e+04, 1.15095805e+05,\n",
              "        1.66507109e+05, 3.05151469e+05, 7.39182562e+05, 2.09040075e+06,\n",
              "        4.36733550e+06, 6.09657950e+06, 7.76560750e+06, 8.87963800e+06,\n",
              "        8.48884800e+06, 5.67861950e+06, 3.38993150e+06, 1.49947625e+06,\n",
              "        1.36779088e+06, 1.30524438e+06, 1.19462175e+06, 2.24932525e+06,\n",
              "        2.65381425e+06, 5.91212500e+05, 1.53769719e+05, 1.28225664e+05,\n",
              "        2.14081531e+05, 7.37678125e+04, 1.38045156e+05, 1.04790375e+05,\n",
              "        2.60408109e+05, 3.35118500e+05, 2.11576250e+05, 2.05661609e+05,\n",
              "        8.83764453e+04, 4.68027000e+05, 1.42132088e+06, 1.64034400e+06,\n",
              "        1.97586888e+06, 1.49054025e+06, 1.36502425e+06, 1.94372962e+06,\n",
              "        1.96129075e+06, 1.30148625e+06, 2.00938088e+06, 3.16310375e+06,\n",
              "        4.51825900e+06, 5.55593050e+06, 5.33265700e+06, 1.01796131e+06,\n",
              "        4.14525844e+05, 3.91337312e+05, 8.85232688e+05, 8.89476875e+05,\n",
              "        1.81379862e+06, 2.08996925e+06, 9.77024438e+05, 8.86875125e+05,\n",
              "        5.98746375e+05, 2.68294781e+05, 4.99410719e+05, 9.63529875e+05,\n",
              "        9.72051625e+05, 1.18227125e+06, 2.95480725e+06, 1.95502325e+06,\n",
              "        1.43909900e+06, 1.61448438e+06, 2.03005362e+06, 3.38104750e+06,\n",
              "        4.16565925e+06, 8.17913850e+06, 1.65029430e+07, 2.21318620e+07,\n",
              "        2.24892140e+07, 1.33412480e+07, 8.19770150e+06], dtype=float32),\n",
              " 'rmse': array([ 758.678  , 1364.9984 , 1426.5992 , 1929.4767 , 2071.4727 ,\n",
              "        1548.1593 , 1107.7485 , 1025.0469 , 1085.7118 , 1983.5533 ,\n",
              "        2496.6963 , 3579.1318 , 4976.0225 , 5572.677  , 5703.7793 ,\n",
              "        6149.335  , 5879.4087 , 5432.9536 , 3990.1206 , 2001.8152 ,\n",
              "        1207.7408 , 1137.142  , 2188.0464 , 2758.34   , 2369.124  ,\n",
              "        3522.559  , 4833.4243 , 5246.9004 , 4462.9014 , 3572.3005 ,\n",
              "        2495.5684 , 2289.2014 , 1194.1672 ,  953.8752 , 1555.9885 ,\n",
              "        1391.9902 , 1569.4059 , 1954.639  , 2069.1208 , 2026.2106 ,\n",
              "        2351.1648 , 2852.156  , 2034.7625 ,  766.83014, 1104.399  ,\n",
              "        1599.2424 , 2393.7053 , 1098.4158 , 1609.6321 ,  924.05316,\n",
              "        1047.1311 , 1599.3463 , 1674.9312 , 2434.4812 , 2747.6897 ,\n",
              "        2263.9426 , 2592.6848 , 3191.4756 , 3915.002  , 4757.3477 ,\n",
              "        6960.6514 , 3916.2744 , 1848.1345 , 1672.8037 , 1729.6942 ,\n",
              "        2447.44   , 2161.1345 , 2679.6106 , 2634.3826 , 3708.6877 ,\n",
              "        4144.892  , 4279.795  , 5067.7847 , 4911.9946 , 2275.506  ,\n",
              "        1717.5853 , 1192.7361 , 1588.9218 , 2041.371  , 3229.9597 ,\n",
              "        3894.356  , 4494.3267 , 6023.5645 , 8367.478  , 8958.581  ,\n",
              "        6555.2036 , 5853.085  , 6159.651  , 6017.7954 , 4643.509  ,\n",
              "        2292.861  , 2466.8474 , 3375.2698 , 3679.899  , 4137.326  ,\n",
              "        3370.7676 , 4014.5327 , 5346.38   , 5087.3745 , 2952.3413 ,\n",
              "        2192.552  , 2113.467  , 2051.6628 , 2896.7344 , 4794.728  ,\n",
              "        3855.6057 , 1565.0188 , 1750.6542 , 1572.6069 , 2279.2288 ,\n",
              "        1688.8726 , 2088.0225 , 1305.6183 , 1141.1476 ,  963.57904,\n",
              "         939.15967, 2229.835  , 2733.0457 , 2750.9802 , 3263.0583 ,\n",
              "        3606.931  , 3358.1812 , 2386.4119 , 1589.2657 , 3693.122  ,\n",
              "        4326.6094 , 5211.2466 , 5415.9185 , 4792.3857 , 5724.855  ,\n",
              "        6304.3496 , 3962.162  , 3295.2417 , 1695.619  , 1839.4934 ,\n",
              "        3018.8894 , 3389.9192 , 2056.6714 , 1940.9954 , 1061.6006 ,\n",
              "        1485.732  , 1923.7104 , 2755.7766 , 3193.2341 , 4806.14   ,\n",
              "        5536.7817 , 6354.181  , 6991.727  , 6147.6177 , 2653.8523 ,\n",
              "        1685.507  , 1585.7222 , 2278.6135 , 2261.3198 , 1556.1932 ,\n",
              "        1803.4263 , 1325.2764 , 2068.3706 , 1004.79474, 1501.3331 ,\n",
              "        1494.8643 , 1754.3239 , 2510.4397 , 3034.4597 , 3691.1794 ,\n",
              "        4063.883  , 2626.9946 , 2264.2468 , 1442.0527 , 2865.5886 ,\n",
              "        3402.8218 , 3501.1987 , 3798.269  , 2402.8237 , 1447.7769 ,\n",
              "        1452.3939 , 2127.0503 , 2950.7532 , 4345.9756 , 4563.5635 ,\n",
              "        4199.9585 , 2313.0076 , 1172.6445 , 1107.2262 , 1654.8191 ,\n",
              "        1862.9927 , 1923.241  ,  842.0801 ,  901.2385 , 1043.7584 ,\n",
              "        2626.1462 , 3856.2307 , 4673.8613 , 4795.572  , 5292.127  ,\n",
              "        5391.4517 , 4782.5767 , 2082.322  , 1491.8016 , 2159.658  ,\n",
              "        1880.709  , 1884.5206 , 1634.851  , 1166.0297 , 1711.2316 ,\n",
              "        2225.2483 , 2866.781  , 3686.3435 , 4152.92   , 5420.495  ,\n",
              "        6233.715  , 3882.6362 , 2314.6282 , 1329.6195 ,  779.9952 ,\n",
              "        1316.8374 , 1809.8635 , 2163.229  , 1599.718  , 1357.4674 ,\n",
              "        2114.6096 , 2865.4001 , 4095.5554 , 5388.1816 , 4006.312  ,\n",
              "        2603.8313 , 2298.862  , 1560.6552 , 2301.3186 , 3702.9126 ,\n",
              "        4587.268  , 4442.908  , 3596.9922 , 3555.6223 , 3637.6816 ,\n",
              "        2247.257  , 3758.5212 , 4392.4087 , 4850.867  , 2847.2222 ,\n",
              "        1276.4341 , 1339.7701 , 1948.4346 , 1845.2552 , 1525.4315 ,\n",
              "        1703.8572 , 1699.6028 , 2313.522  , 2606.8574 , 2332.9888 ,\n",
              "        2554.8784 , 2518.5117 , 2291.4355 , 1500.9475 , 1383.3959 ,\n",
              "        2387.5073 , 3559.2097 , 3435.2422 , 3689.7283 , 2627.2502 ,\n",
              "        2207.8179 , 1741.0385 ,  694.52924, 1455.545  , 1809.0062 ,\n",
              "        2038.4807 , 1589.025  , 2172.8552 , 2380.7307 , 2877.993  ,\n",
              "        4653.4287 , 4645.523  , 3481.0625 , 2780.312  , 2218.8438 ,\n",
              "        2322.547  , 2225.4807 ,  877.3797 ,  934.9165 ,  738.49445,\n",
              "         924.12714,  759.3518 ,  801.345  ,  807.43555,  652.6822 ,\n",
              "        1601.5319 , 2004.7957 , 1857.9141 , 1491.6483 , 1104.1095 ,\n",
              "         773.5824 , 1484.2141 ,  824.2351 , 1096.1357 , 1617.3763 ,\n",
              "        1662.7908 , 1425.0934 , 2085.0344 , 3497.3176 , 4114.1665 ,\n",
              "        5845.212  , 6089.7305 , 5682.0327 , 5772.819  , 4635.562  ,\n",
              "        2043.1268 , 1285.6316 ,  924.1651 , 1523.6974 , 1415.9463 ,\n",
              "        1047.3513 ,  915.33246,  911.1445 ,  845.8602 ,  875.0326 ,\n",
              "         682.28204,  761.1703 ,  496.13342,  574.34424,  988.20056,\n",
              "        1879.6567 , 1485.8447 , 1681.0276 , 1856.1339 , 2095.935  ,\n",
              "        1869.0676 ,  865.4748 , 1354.587  ,  923.7852 ,  795.45496,\n",
              "         823.9308 , 1113.1204 , 1389.6962 , 3216.6792 , 5135.362  ,\n",
              "        5618.472  , 6831.3223 , 7116.429  , 7298.395  , 6835.532  ,\n",
              "        3438.1855 , 1932.216  , 1662.516  ,  443.8103 ,  751.2207 ,\n",
              "        1363.054  , 1041.9548 ,  919.994  ,  952.96985,  537.7099 ,\n",
              "         505.52612,  916.83044, 1295.7642 , 1032.0615 , 1146.3223 ,\n",
              "         787.08167,  847.97375, 1313.7474 , 1893.6495 , 2065.0852 ,\n",
              "        1987.3846 , 1223.8485 ,  884.6495 ,  735.6132 ,  877.06323,\n",
              "        1176.0269 , 1225.3848 ,  978.9665 , 1364.6765 , 2079.4282 ,\n",
              "        2218.7969 , 2371.2449 , 2042.1195 , 1754.8442 , 1574.3193 ,\n",
              "        1019.08997,  983.86505, 1189.4288 , 1375.3402 , 1243.8802 ,\n",
              "        1081.4584 , 1138.2969 , 1600.9938 , 1896.759  , 1003.02167,\n",
              "         463.56738,  759.7495 , 1038.7025 ,  953.3646 ,  769.16473,\n",
              "         536.3396 ,  710.3819 , 1005.2488 ,  872.06226,  873.7036 ,\n",
              "        1014.43555,  647.032  ,  553.5423 ,  399.28958,  557.4402 ,\n",
              "        1412.7197 , 1983.9882 , 2292.4592 , 2635.9893 , 2632.527  ,\n",
              "        2187.4617 , 2057.0781 ,  901.2704 ,  518.28827,  790.6387 ,\n",
              "         854.60785, 1346.3688 , 1461.1802 , 1532.5261 ,  916.3461 ,\n",
              "         491.9169 ,  316.2348 ,  347.39102,  486.2888 ,  422.16907,\n",
              "         431.7901 ,  753.40094, 1123.055  , 1352.2722 , 1817.16   ,\n",
              "        2148.2112 , 2141.5688 , 2134.6187 , 1040.5349 , 1121.5764 ,\n",
              "        1549.9224 , 2206.199  , 1803.611  , 1108.7312 ,  755.78375,\n",
              "         542.4195 ,  963.1411 ,  712.6864 ,  530.8349 ,  410.83356,\n",
              "         605.9766 ,  435.44446,  501.9155 ,  581.5233 ,  618.0169 ,\n",
              "         630.8324 ,  569.6502 ,  566.43805,  564.306  ,  624.4612 ,\n",
              "         658.72345,  657.2879 ,  528.8268 ,  598.0682 , 1134.0586 ,\n",
              "        1006.0711 ,  740.17035,  473.21692,  268.4004 ,  278.52338,\n",
              "         496.75677,  350.60553,  263.2972 ,  204.27187,  232.07391,\n",
              "         255.17189,  383.5135 ,  428.1374 ,  708.9119 ,  894.8235 ,\n",
              "        1049.999  , 1082.3325 ,  981.0999 , 1035.2091 ,  714.84564,\n",
              "         245.91591,  260.68295,  335.80917,  593.84064,  571.4786 ,\n",
              "         520.66473,  922.1758 , 1836.5431 , 2012.9928 , 2782.179  ,\n",
              "        3538.3977 , 3896.269  , 4081.8838 , 2981.9104 ,  618.6249 ,\n",
              "         359.6883 ,  229.06773,  297.17215,  340.27487,  330.19778,\n",
              "         335.81918,  508.9362 ,  457.4337 ,  667.5019 ,  559.88745,\n",
              "         462.2289 ,  656.84143,  617.13776,  297.529  ,  579.0316 ,\n",
              "         682.0807 ,  730.0541 ,  700.4986 ,  839.52496,  793.64197,\n",
              "         386.90585,  427.07175,  251.48212,  198.94147,  272.27106,\n",
              "         369.19333,  478.4637 ,  619.2774 ,  407.22675,  486.644  ,\n",
              "         400.9797 ,  441.26474,  558.4895 ,  819.3763 , 1030.2266 ,\n",
              "         929.03357,  431.04364,  189.09883,  206.60915,  283.65875,\n",
              "         155.33954,  209.27014,  154.09105,  285.79626,  270.55835,\n",
              "         283.2663 ,  462.40323,  362.4193 ,  202.14432,  255.75931,\n",
              "         203.70215,  242.36774,  252.88718,  339.25772,  408.05283,\n",
              "         552.40515,  859.75726, 1445.8218 , 2089.8171 , 2469.1252 ,\n",
              "        2786.6838 , 2979.872  , 2913.5627 , 2382.9854 , 1841.1766 ,\n",
              "        1224.531  , 1169.5259 , 1142.4729 , 1092.9875 , 1499.775  ,\n",
              "        1629.0532 ,  768.90344,  392.13483,  358.0861 ,  462.68945,\n",
              "         271.6023 ,  371.54428,  323.7134 ,  510.30197,  578.89417,\n",
              "         459.97418,  453.4993 ,  297.28174,  684.125  , 1192.1917 ,\n",
              "        1280.7592 , 1405.656  , 1220.8768 , 1168.3425 , 1394.177  ,\n",
              "        1400.4609 , 1140.827  , 1417.5264 , 1778.5116 , 2125.6196 ,\n",
              "        2357.102  , 2309.2546 , 1008.9407 ,  643.8368 ,  625.5696 ,\n",
              "         940.86804,  943.1208 , 1346.7734 , 1445.6726 ,  988.44543,\n",
              "         941.7405 ,  773.787  ,  517.9718 ,  706.69   ,  981.5956 ,\n",
              "         985.92676, 1087.323  , 1718.9552 , 1398.2214 , 1199.6245 ,\n",
              "        1270.6237 , 1424.7996 , 1838.7625 , 2040.9946 , 2859.9192 ,\n",
              "        4062.3813 , 4704.451  , 4742.2793 , 3652.5674 , 2863.1628 ],\n",
              "       dtype=float32),\n",
              " 'mape': array([ 1.8705266 ,  3.9012785 ,  3.8433552 ,  5.678137  ,  6.250576  ,\n",
              "         4.3334637 ,  3.241641  ,  2.584772  ,  2.9144046 ,  5.038145  ,\n",
              "         6.3806696 ,  9.250789  , 12.1261015 , 12.944527  , 13.028617  ,\n",
              "        13.665003  , 13.210962  , 12.71313   ,  9.337793  ,  4.355692  ,\n",
              "         2.0201998 ,  2.3647509 ,  4.710112  ,  6.147497  ,  5.0616317 ,\n",
              "         6.6870027 ,  9.450804  , 10.9471855 ,  9.412422  ,  7.303915  ,\n",
              "         4.4758224 ,  4.0281334 ,  2.2053328 ,  1.8760489 ,  2.7751243 ,\n",
              "         2.3946707 ,  2.7021596 ,  3.6060758 ,  4.0642114 ,  4.0484743 ,\n",
              "         4.4330206 ,  5.487085  ,  3.6423008 ,  1.3663135 ,  1.6621077 ,\n",
              "         2.875179  ,  4.41859   ,  1.7709855 ,  2.767112  ,  1.5418738 ,\n",
              "         1.7922292 ,  2.843304  ,  2.9996586 ,  4.1634407 ,  4.6631074 ,\n",
              "         4.0442524 ,  4.2170324 ,  6.170478  ,  7.712241  ,  9.751308  ,\n",
              "        15.134385  ,  8.431553  ,  3.7332993 ,  3.2225814 ,  3.3078816 ,\n",
              "         4.398201  ,  4.1448693 ,  5.483305  ,  4.4400873 ,  6.4109945 ,\n",
              "         7.7923098 ,  8.251897  , 11.058378  , 11.033257  ,  4.2272167 ,\n",
              "         2.9240587 ,  1.8904958 ,  3.172805  ,  4.0903926 ,  5.377652  ,\n",
              "         6.746815  ,  8.142752  , 10.932569  , 14.910107  , 16.012304  ,\n",
              "        10.557357  ,  9.239157  , 10.375292  , 10.291411  ,  7.9729743 ,\n",
              "         2.9745495 ,  3.612297  ,  4.6503987 ,  4.795767  ,  5.908008  ,\n",
              "         4.474784  ,  5.4353886 ,  7.4395404 ,  7.3012667 ,  3.642112  ,\n",
              "         2.1002357 ,  2.2138784 ,  2.491096  ,  4.1751204 ,  7.580532  ,\n",
              "         5.824315  ,  2.1273723 ,  2.4207344 ,  2.0225134 ,  3.1229513 ,\n",
              "         1.6997883 ,  2.8844416 ,  1.609979  ,  1.5628967 ,  1.2869918 ,\n",
              "         1.1723647 ,  2.6268342 ,  3.3544495 ,  3.6331408 ,  3.9487522 ,\n",
              "         4.9458275 ,  4.5969768 ,  3.1522524 ,  2.135675  ,  5.045522  ,\n",
              "         6.0312867 ,  7.2285123 ,  7.758947  ,  6.904862  ,  9.316189  ,\n",
              "        10.337739  ,  6.450729  ,  5.2963686 ,  2.2827535 ,  2.4986515 ,\n",
              "         4.893028  ,  5.506782  ,  3.1510334 ,  2.9881792 ,  1.6126096 ,\n",
              "         2.0536852 ,  3.314722  ,  4.297077  ,  4.5543504 ,  7.740999  ,\n",
              "         9.153372  , 11.575244  , 13.677424  , 12.3128395 ,  4.79987   ,\n",
              "         2.7723787 ,  3.092503  ,  3.8310025 ,  4.231331  ,  2.7675242 ,\n",
              "         2.981162  ,  2.4624228 ,  3.9126608 ,  1.8169377 ,  2.5485423 ,\n",
              "         2.6659338 ,  2.9414403 ,  4.0358214 ,  5.0035696 ,  6.445712  ,\n",
              "         7.5976744 ,  4.3869715 ,  4.0564036 ,  2.7753716 ,  5.081764  ,\n",
              "         6.257326  ,  6.752778  ,  7.900928  ,  4.614816  ,  2.3794096 ,\n",
              "         2.6847615 ,  3.769305  ,  5.663533  ,  9.338282  , 10.278278  ,\n",
              "         9.669146  ,  5.0202956 ,  2.369354  ,  2.499379  ,  3.1646187 ,\n",
              "         3.9962013 ,  4.1166353 ,  1.776246  ,  1.7617697 ,  1.8976082 ,\n",
              "         4.4191747 ,  7.6159315 , 10.290138  , 11.077483  , 13.125513  ,\n",
              "        14.05678   , 12.964334  ,  4.804646  ,  3.2037663 ,  5.281187  ,\n",
              "         4.545126  ,  4.319515  ,  3.697617  ,  2.720612  ,  2.6960385 ,\n",
              "         4.1394377 ,  5.4042745 ,  7.2633505 ,  8.919297  , 11.650312  ,\n",
              "        14.092959  ,  8.571841  ,  4.854963  ,  2.7359724 ,  1.3800675 ,\n",
              "         2.594892  ,  3.8191874 ,  4.1534076 ,  3.2992442 ,  3.0048962 ,\n",
              "         4.5962744 ,  6.5403037 ,  9.489972  , 13.631706  , 10.110744  ,\n",
              "         6.055214  ,  5.635181  ,  3.065249  ,  3.8074713 ,  5.8001914 ,\n",
              "         8.26282   ,  8.580131  ,  6.470014  ,  6.699713  ,  7.001275  ,\n",
              "         5.183733  ,  8.716224  , 10.856984  , 11.755174  ,  6.535798  ,\n",
              "         3.0512545 ,  2.8669004 ,  3.086076  ,  3.5120454 ,  3.5866134 ,\n",
              "         3.6458757 ,  3.5284684 ,  4.8288035 ,  5.7714148 ,  5.064003  ,\n",
              "         5.662651  ,  5.4760118 ,  4.386877  ,  2.5492404 ,  2.801002  ,\n",
              "         4.208282  ,  6.799411  ,  6.410889  ,  7.073813  ,  4.5399523 ,\n",
              "         4.3974338 ,  3.5391164 ,  1.123389  ,  2.721094  ,  3.708874  ,\n",
              "         3.799037  ,  2.886415  ,  3.7061725 ,  4.667595  ,  5.8300743 ,\n",
              "        10.326622  , 10.746544  ,  7.8472533 ,  6.1457057 ,  4.82158   ,\n",
              "         5.3642025 ,  5.3327184 ,  1.7056007 ,  1.6921952 ,  1.7424107 ,\n",
              "         2.1104271 ,  1.6251104 ,  1.5796758 ,  1.4923204 ,  1.3488605 ,\n",
              "         3.1489394 ,  4.7821956 ,  4.254632  ,  3.3279836 ,  2.415023  ,\n",
              "         1.861566  ,  3.2409425 ,  1.9276861 ,  2.475504  ,  4.1380696 ,\n",
              "         3.781726  ,  3.414237  ,  4.8210034 ,  8.35105   , 10.782962  ,\n",
              "        16.63818   , 17.940334  , 17.342781  , 18.555798  , 15.213669  ,\n",
              "         6.339229  ,  3.326594  ,  2.2943769 ,  4.579281  ,  3.8984795 ,\n",
              "         2.9424374 ,  2.2237432 ,  2.8457265 ,  2.533471  ,  2.5411725 ,\n",
              "         1.9302266 ,  2.316928  ,  1.2843913 ,  1.6929166 ,  2.4393086 ,\n",
              "         4.4077177 ,  3.7396545 ,  4.537914  ,  5.1241455 ,  6.3224764 ,\n",
              "         5.587721  ,  2.5433154 ,  3.7876167 ,  2.815645  ,  2.3892295 ,\n",
              "         2.376339  ,  2.9125366 ,  4.0439005 ,  8.663983  , 17.197865  ,\n",
              "        20.235346  , 26.617777  , 29.683552  , 32.872646  , 32.409397  ,\n",
              "        15.776234  ,  8.237904  ,  7.522522  ,  1.6190821 ,  2.9303708 ,\n",
              "         5.653804  ,  4.4325404 ,  3.2919931 ,  4.2040915 ,  2.3808126 ,\n",
              "         2.0763786 ,  3.6822088 ,  5.639809  ,  4.8370385 ,  5.395483  ,\n",
              "         3.4492888 ,  3.5242393 ,  5.0184307 ,  7.19117   ,  7.956318  ,\n",
              "         8.513337  ,  5.0339756 ,  3.4632425 ,  2.6807814 ,  3.4816525 ,\n",
              "         5.119043  ,  4.8885946 ,  3.874213  ,  5.4131246 ,  7.7624216 ,\n",
              "         8.319883  ,  8.894643  ,  7.5029216 ,  7.4022374 ,  6.7169228 ,\n",
              "         3.918996  ,  3.5214267 ,  4.8302274 ,  5.28629   ,  5.037438  ,\n",
              "         4.3307524 ,  4.659261  ,  6.757556  ,  7.907657  ,  4.150382  ,\n",
              "         1.5724685 ,  3.1594486 ,  4.293233  ,  3.961908  ,  2.7704637 ,\n",
              "         2.0156069 ,  2.7292078 ,  3.7259154 ,  3.115347  ,  3.0221453 ,\n",
              "         3.7821558 ,  2.3943594 ,  2.1582897 ,  1.3629125 ,  1.8673552 ,\n",
              "         3.882486  ,  7.090158  ,  8.987272  , 10.953592  , 11.453507  ,\n",
              "         9.954847  ,  9.543542  ,  3.2688088 ,  1.8971711 ,  3.096419  ,\n",
              "         3.652635  ,  6.0133915 ,  6.730523  ,  7.5182242 ,  4.3897686 ,\n",
              "         1.8414696 ,  1.27619   ,  1.4980165 ,  1.7763541 ,  1.6015673 ,\n",
              "         1.7322232 ,  3.412523  ,  4.555156  ,  5.5805597 ,  7.742242  ,\n",
              "         8.379384  ,  9.060229  ,  9.201561  ,  3.6080294 ,  5.091808  ,\n",
              "         7.1449866 , 11.074428  ,  8.799549  ,  5.199432  ,  3.093047  ,\n",
              "         1.8276218 ,  4.4496617 ,  2.908281  ,  2.4321978 ,  1.6822705 ,\n",
              "         2.7239964 ,  2.0215566 ,  2.119884  ,  2.7132561 ,  2.540254  ,\n",
              "         2.9283578 ,  2.2348127 ,  2.2198672 ,  2.4634376 ,  2.7281945 ,\n",
              "         2.9166472 ,  2.6396773 ,  2.1497731 ,  2.8395896 ,  5.594087  ,\n",
              "         5.0855455 ,  3.632776  ,  2.1760356 ,  1.2167693 ,  1.2898967 ,\n",
              "         1.9817878 ,  1.49121   ,  1.2063379 ,  0.87180555,  0.88926923,\n",
              "         1.2221683 ,  1.8525144 ,  1.8863512 ,  2.715795  ,  3.3170688 ,\n",
              "         4.254974  ,  4.4163337 ,  4.4618974 ,  4.606297  ,  3.3772364 ,\n",
              "         0.955002  ,  1.0286571 ,  1.3173805 ,  2.8136258 ,  2.416395  ,\n",
              "         2.396247  ,  3.4282491 ,  7.0994363 ,  8.949386  , 12.364183  ,\n",
              "        18.04814   , 21.465734  , 23.98473   , 17.561731  ,  2.9692013 ,\n",
              "         1.6893018 ,  0.9769492 ,  1.5384804 ,  1.6790274 ,  1.7098825 ,\n",
              "         1.6134524 ,  2.7572443 ,  2.2519205 ,  2.8817155 ,  2.8741279 ,\n",
              "         2.4862244 ,  3.7563243 ,  3.5408518 ,  1.4751835 ,  2.540947  ,\n",
              "         3.1860936 ,  3.4526594 ,  3.943213  ,  4.4860306 ,  4.5189085 ,\n",
              "         1.825474  ,  2.3420274 ,  1.2512286 ,  1.0088181 ,  1.3746463 ,\n",
              "         1.8607517 ,  2.255151  ,  2.5456753 ,  1.9208196 ,  2.3655365 ,\n",
              "         2.0148444 ,  2.2177145 ,  2.9465914 ,  4.259072  ,  6.0202317 ,\n",
              "         5.4061565 ,  2.150536  ,  0.98210025,  0.9057848 ,  1.450616  ,\n",
              "         0.77314526,  0.97827244,  0.7715662 ,  1.4346269 ,  1.5103861 ,\n",
              "         1.5189466 ,  2.5703745 ,  1.943646  ,  1.0136577 ,  1.237679  ,\n",
              "         1.0960068 ,  1.0723248 ,  1.1661896 ,  1.7467488 ,  1.892069  ,\n",
              "         2.3811102 ,  3.1535354 ,  5.089915  ,  7.5096436 ,  9.843267  ,\n",
              "        11.507669  , 13.029101  , 13.415954  , 11.157116  ,  8.065658  ,\n",
              "         3.9218419 ,  3.9785903 ,  4.7371755 ,  4.6997633 ,  6.3095293 ,\n",
              "         7.007433  ,  3.1773229 ,  1.5117571 ,  1.350293  ,  1.6736044 ,\n",
              "         0.8347859 ,  1.4174765 ,  1.0595781 ,  1.9396921 ,  2.395979  ,\n",
              "         1.3482883 ,  1.5553707 ,  1.0922608 ,  2.6527853 ,  4.272392  ,\n",
              "         4.9799113 ,  5.6664066 ,  4.8628407 ,  4.5794053 ,  6.1316423 ,\n",
              "         6.1644545 ,  4.3822727 ,  4.4795523 ,  5.717623  ,  7.6489644 ,\n",
              "         8.808093  ,  9.264231  ,  3.7194364 ,  2.1971674 ,  1.4414439 ,\n",
              "         3.4554787 ,  3.3061604 ,  5.4496784 ,  5.894204  ,  4.155194  ,\n",
              "         3.7539396 ,  2.5165107 ,  1.6748968 ,  2.2881887 ,  4.0640135 ,\n",
              "         3.7003489 ,  4.527219  ,  7.3084064 ,  5.3362446 ,  4.7151318 ,\n",
              "         4.6917405 ,  5.675779  ,  7.461237  ,  8.147133  , 10.221316  ,\n",
              "        14.179834  , 17.285694  , 17.100216  , 11.903076  ,  9.211266  ],\n",
              "       dtype=float32),\n",
              " 'mase': 2.152441}"
            ]
          },
          "metadata": {},
          "execution_count": 66
        }
      ]
    },
    {
      "cell_type": "markdown",
      "source": [
        "## Make Evaluation for larger horizons"
      ],
      "metadata": {
        "id": "YsEGrpbIBehj"
      }
    },
    {
      "cell_type": "code",
      "source": [
        "def evaluate_preds(y_true, y_pred):\n",
        "  # Make sure float32 (for metric calculations)\n",
        "  y_true = tf.cast(y_true, dtype=tf.float32)\n",
        "  y_pred = tf.cast(y_pred, dtype=tf.float32)\n",
        "\n",
        "  # Calculate various metrics\n",
        "  mae = tf.keras.metrics.mean_absolute_error(y_true, y_pred)\n",
        "  mse = tf.keras.metrics.mean_squared_error(y_true, y_pred)\n",
        "  rmse = tf.sqrt(mse)\n",
        "  mape = tf.keras.metrics.mean_absolute_percentage_error(y_true, y_pred)\n",
        "  mase = mean_absolute_scaled_error(y_true, y_pred)\n",
        "\n",
        "  # Account for different sized metrics (for longer horizons, reduce to single number)\n",
        "  if mae.ndim > 0: # if mae isn't already a scalar, reduce it to one by aggregating tensors to mean\n",
        "    mae = tf.reduce_mean(mae)\n",
        "    mse = tf.reduce_mean(mse)\n",
        "    rmse = tf.reduce_mean(rmse)\n",
        "    mape = tf.reduce_mean(mape)\n",
        "    mase = tf.reduce_mean(mase)\n",
        "\n",
        "  return {\"mae\": mae.numpy(),\n",
        "          \"mse\": mse.numpy(),\n",
        "          \"rmse\": rmse.numpy(),\n",
        "          \"mape\": mape.numpy(),\n",
        "          \"mase\": mase.numpy()}\n",
        "     "
      ],
      "metadata": {
        "id": "n3xS5bMjB1eO"
      },
      "execution_count": 67,
      "outputs": []
    },
    {
      "cell_type": "code",
      "source": [
        "# Get model_3 results aggregated to single values\n",
        "model_3_results = evaluate_preds(y_true=tf.squeeze(test_labels),\n",
        "                                 y_pred=model_3_preds)\n",
        "model_3_results"
      ],
      "metadata": {
        "colab": {
          "base_uri": "https://localhost:8080/"
        },
        "id": "-oMSvIOAB22W",
        "outputId": "0ea04075-22b4-4581-cf0a-d493c17f3d47"
      },
      "execution_count": 68,
      "outputs": [
        {
          "output_type": "execute_result",
          "data": {
            "text/plain": [
              "{'mae': 1741.1372,\n",
              " 'mse': 6449443.5,\n",
              " 'rmse': 1992.4963,\n",
              " 'mape': 5.152888,\n",
              " 'mase': 2.152441}"
            ]
          },
          "metadata": {},
          "execution_count": 68
        }
      ]
    },
    {
      "cell_type": "code",
      "source": [
        "offset = 300\n",
        "plt.figure(figsize=(10, 7))\n",
        "plot_time_series(timesteps=X_test[-len(test_windows):], values=test_labels[:, 0], start=offset, label=\"Test_data\")\n",
        "# Checking the shape of model_3_preds results in [n_test_samples, HORIZON] (this will screw up the plot)\n",
        "plot_time_series(timesteps=X_test[-len(test_windows):], values=model_3_preds, start=offset, label=\"model_3_preds\")"
      ],
      "metadata": {
        "colab": {
          "base_uri": "https://localhost:8080/",
          "height": 442
        },
        "id": "UE-kR7LPB4uH",
        "outputId": "2a078f59-acf5-42ca-e41d-daeb054a239d"
      },
      "execution_count": 69,
      "outputs": [
        {
          "output_type": "display_data",
          "data": {
            "text/plain": [
              "<Figure size 720x504 with 1 Axes>"
            ],
            "image/png": "[encoded data removed]"
          },
          "metadata": {
            "needs_background": "light"
          }
        }
      ]
    },
    {
      "cell_type": "code",
      "source": [
        "offset = 300\n",
        "plt.figure(figsize=(10, 7))\n",
        "# Plot model_3_preds by aggregating them (note: this condenses information so the preds will look fruther ahead than the test data)\n",
        "plot_time_series(timesteps=X_test[-len(test_windows):], \n",
        "                 values=test_labels[:, 0], \n",
        "                 start=offset, \n",
        "                 label=\"Test_data\")\n",
        "plot_time_series(timesteps=X_test[-len(test_windows):], \n",
        "                 values=tf.reduce_mean(model_3_preds, axis=1), \n",
        "                 format=\"-\",\n",
        "                 start=offset, \n",
        "                 label=\"model_3_preds\")\n",
        "     "
      ],
      "metadata": {
        "colab": {
          "base_uri": "https://localhost:8080/",
          "height": 442
        },
        "id": "a1pfcqAEB8V4",
        "outputId": "afa1e2fe-4eeb-4d13-9c9b-cac2ec06f6da"
      },
      "execution_count": 70,
      "outputs": [
        {
          "output_type": "display_data",
          "data": {
            "text/plain": [
              "<Figure size 720x504 with 1 Axes>"
            ],
            "image/png": "[encoded data removed]"
          },
          "metadata": {
            "needs_background": "light"
          }
        }
      ]
    },
    {
      "cell_type": "markdown",
      "source": [
        "### Which Model is performing best so far"
      ],
      "metadata": {
        "id": "eqnSCwYuCAsX"
      }
    },
    {
      "cell_type": "code",
      "source": [
        "pd.DataFrame({\"naive\": naive_results[\"mae\"], \n",
        "              \"horizon_1_window_7\": model_1_results[\"mae\"], \n",
        "              \"horizon_1_window_30\": model_2_results[\"mae\"], \n",
        "              \"horizon_7_window_30\": model_3_results[\"mae\"]}, index=[\"mae\"]).plot(figsize=(10, 7), kind=\"bar\");"
      ],
      "metadata": {
        "colab": {
          "base_uri": "https://localhost:8080/",
          "height": 440
        },
        "id": "ut6Ty9kiCHhJ",
        "outputId": "71133cc0-a71c-4efe-fbed-9824ca4a2425"
      },
      "execution_count": 71,
      "outputs": [
        {
          "output_type": "display_data",
          "data": {
            "text/plain": [
              "<Figure size 720x504 with 1 Axes>"
            ],
            "image/png": "[encoded data removed]"
          },
          "metadata": {
            "needs_background": "light"
          }
        }
      ]
    },
    {
      "cell_type": "markdown",
      "source": [
        "### Model 4 : Conv1D"
      ],
      "metadata": {
        "id": "VOxEIpWNDK69"
      }
    },
    {
      "cell_type": "code",
      "source": [
        "HORIZON = 1 # predict next day\n",
        "WINDOW_SIZE = 7 # use previous week worth of data"
      ],
      "metadata": {
        "id": "eTXV5GvODNNb"
      },
      "execution_count": 72,
      "outputs": []
    },
    {
      "cell_type": "code",
      "source": [
        "# Create windowed dataset\n",
        "full_windows, full_labels = make_windows(prices, window_size=WINDOW_SIZE, horizon=HORIZON)\n",
        "len(full_windows), len(full_labels)"
      ],
      "metadata": {
        "colab": {
          "base_uri": "https://localhost:8080/"
        },
        "id": "63xnJFwzDQGD",
        "outputId": "58dd7d03-5347-4cd4-8bf8-27c34823327e"
      },
      "execution_count": 73,
      "outputs": [
        {
          "output_type": "execute_result",
          "data": {
            "text/plain": [
              "(3101, 3101)"
            ]
          },
          "metadata": {},
          "execution_count": 73
        }
      ]
    },
    {
      "cell_type": "code",
      "source": [
        "# Create train/test splits\n",
        "train_windows, test_windows, train_labels, test_labels = make_train_test_splits(full_windows, full_labels)\n",
        "len(train_windows), len(test_windows), len(train_labels), len(test_labels)\n",
        "     "
      ],
      "metadata": {
        "colab": {
          "base_uri": "https://localhost:8080/"
        },
        "id": "IvIjVxxpDRb6",
        "outputId": "f9e3c1fc-4b5e-4966-d74b-3d29c31d2345"
      },
      "execution_count": 74,
      "outputs": [
        {
          "output_type": "execute_result",
          "data": {
            "text/plain": [
              "(2480, 621, 2480, 621)"
            ]
          },
          "metadata": {},
          "execution_count": 74
        }
      ]
    },
    {
      "cell_type": "code",
      "source": [
        "# Check data sample shapes\n",
        "train_windows[0].shape # returns (WINDOW_SIZE, )"
      ],
      "metadata": {
        "colab": {
          "base_uri": "https://localhost:8080/"
        },
        "id": "hjvMvEssDVgz",
        "outputId": "f0f1ef06-5c5e-4344-92f4-30ab3b5b4f76"
      },
      "execution_count": 75,
      "outputs": [
        {
          "output_type": "execute_result",
          "data": {
            "text/plain": [
              "(7,)"
            ]
          },
          "metadata": {},
          "execution_count": 75
        }
      ]
    },
    {
      "cell_type": "code",
      "source": [
        "# Before we pass our data to the Conv1D layer, we have to reshape it in order to make sure it works\n",
        "x = tf.constant(train_windows[0])\n",
        "expand_dims_layer = layers.Lambda(lambda x: tf.expand_dims(x, axis=1)) # add an extra dimension for timesteps\n",
        "print(f\"Original shape: {x.shape}\") # (WINDOW_SIZE)\n",
        "print(f\"Expanded shape: {expand_dims_layer(x).shape}\") # (WINDOW_SIZE, input_dim) \n",
        "print(f\"Original values with expanded shape:\\n {expand_dims_layer(x)}\")"
      ],
      "metadata": {
        "colab": {
          "base_uri": "https://localhost:8080/"
        },
        "id": "rUvKmfJkDZV0",
        "outputId": "7f8294d2-e7e4-49f2-a91b-5d23e499ea3a"
      },
      "execution_count": 76,
      "outputs": [
        {
          "output_type": "stream",
          "name": "stdout",
          "text": [
            "Original shape: (7,)\n",
            "Expanded shape: (7, 1)\n",
            "Original values with expanded shape:\n",
            " [[457.334]\n",
            " [424.44 ]\n",
            " [394.796]\n",
            " [408.904]\n",
            " [398.821]\n",
            " [402.152]\n",
            " [435.791]]\n"
          ]
        }
      ]
    },
    {
      "cell_type": "code",
      "source": [
        "tf.random.set_seed(42)\n",
        "\n",
        "# Create model\n",
        "model_4 = tf.keras.Sequential([\n",
        "  # Create Lambda layer to reshape inputs, without this layer, the model will error\n",
        "  layers.Lambda(lambda x: tf.expand_dims(x, axis=1)), # resize the inputs to adjust for window size / Conv1D 3D input requirements\n",
        "  layers.Conv1D(filters=128, kernel_size=5, padding=\"causal\", activation=\"relu\"),\n",
        "  layers.Dense(HORIZON)\n",
        "], name=\"model_4_conv1D\")\n",
        "\n",
        "# Compile model\n",
        "model_4.compile(loss=\"mae\",\n",
        "                optimizer=tf.keras.optimizers.Adam())\n",
        "\n",
        "# Fit model\n",
        "model_4.fit(train_windows,\n",
        "            train_labels,\n",
        "            batch_size=128, \n",
        "            epochs=100,\n",
        "            verbose=0,\n",
        "            validation_data=(test_windows, test_labels),\n",
        "            callbacks=[create_model_checkpoint(model_name=model_4.name)])\n",
        "     "
      ],
      "metadata": {
        "colab": {
          "base_uri": "https://localhost:8080/"
        },
        "id": "ZQz4a1lIDb4E",
        "outputId": "25d8247f-2f24-4eab-dd86-80c266502278"
      },
      "execution_count": 77,
      "outputs": [
        {
          "output_type": "stream",
          "name": "stderr",
          "text": [
            "WARNING:absl:Found untraced functions such as _jit_compiled_convolution_op, _update_step_xla while saving (showing 2 of 2). These functions will not be directly callable after loading.\n",
            "WARNING:absl:Found untraced functions such as _jit_compiled_convolution_op, _update_step_xla while saving (showing 2 of 2). These functions will not be directly callable after loading.\n",
            "WARNING:absl:Found untraced functions such as _jit_compiled_convolution_op, _update_step_xla while saving (showing 2 of 2). These functions will not be directly callable after loading.\n",
            "WARNING:absl:Found untraced functions such as _jit_compiled_convolution_op, _update_step_xla while saving (showing 2 of 2). These functions will not be directly callable after loading.\n",
            "WARNING:absl:Found untraced functions such as _jit_compiled_convolution_op, _update_step_xla while saving (showing 2 of 2). These functions will not be directly callable after loading.\n",
            "WARNING:absl:Found untraced functions such as _jit_compiled_convolution_op, _update_step_xla while saving (showing 2 of 2). These functions will not be directly callable after loading.\n",
            "WARNING:absl:Found untraced functions such as _jit_compiled_convolution_op, _update_step_xla while saving (showing 2 of 2). These functions will not be directly callable after loading.\n",
            "WARNING:absl:Found untraced functions such as _jit_compiled_convolution_op, _update_step_xla while saving (showing 2 of 2). These functions will not be directly callable after loading.\n",
            "WARNING:absl:Found untraced functions such as _jit_compiled_convolution_op, _update_step_xla while saving (showing 2 of 2). These functions will not be directly callable after loading.\n",
            "WARNING:absl:Found untraced functions such as _jit_compiled_convolution_op, _update_step_xla while saving (showing 2 of 2). These functions will not be directly callable after loading.\n",
            "WARNING:absl:Found untraced functions such as _jit_compiled_convolution_op, _update_step_xla while saving (showing 2 of 2). These functions will not be directly callable after loading.\n",
            "WARNING:absl:Found untraced functions such as _jit_compiled_convolution_op, _update_step_xla while saving (showing 2 of 2). These functions will not be directly callable after loading.\n",
            "WARNING:absl:Found untraced functions such as _jit_compiled_convolution_op, _update_step_xla while saving (showing 2 of 2). These functions will not be directly callable after loading.\n",
            "WARNING:absl:Found untraced functions such as _jit_compiled_convolution_op, _update_step_xla while saving (showing 2 of 2). These functions will not be directly callable after loading.\n",
            "WARNING:absl:Found untraced functions such as _jit_compiled_convolution_op, _update_step_xla while saving (showing 2 of 2). These functions will not be directly callable after loading.\n",
            "WARNING:absl:Found untraced functions such as _jit_compiled_convolution_op, _update_step_xla while saving (showing 2 of 2). These functions will not be directly callable after loading.\n",
            "WARNING:absl:Found untraced functions such as _jit_compiled_convolution_op, _update_step_xla while saving (showing 2 of 2). These functions will not be directly callable after loading.\n",
            "WARNING:absl:Found untraced functions such as _jit_compiled_convolution_op, _update_step_xla while saving (showing 2 of 2). These functions will not be directly callable after loading.\n",
            "WARNING:absl:Found untraced functions such as _jit_compiled_convolution_op, _update_step_xla while saving (showing 2 of 2). These functions will not be directly callable after loading.\n",
            "WARNING:absl:Found untraced functions such as _jit_compiled_convolution_op, _update_step_xla while saving (showing 2 of 2). These functions will not be directly callable after loading.\n",
            "WARNING:absl:Found untraced functions such as _jit_compiled_convolution_op, _update_step_xla while saving (showing 2 of 2). These functions will not be directly callable after loading.\n",
            "WARNING:absl:Found untraced functions such as _jit_compiled_convolution_op, _update_step_xla while saving (showing 2 of 2). These functions will not be directly callable after loading.\n",
            "WARNING:absl:Found untraced functions such as _jit_compiled_convolution_op, _update_step_xla while saving (showing 2 of 2). These functions will not be directly callable after loading.\n",
            "WARNING:absl:Found untraced functions such as _jit_compiled_convolution_op, _update_step_xla while saving (showing 2 of 2). These functions will not be directly callable after loading.\n",
            "WARNING:absl:Found untraced functions such as _jit_compiled_convolution_op, _update_step_xla while saving (showing 2 of 2). These functions will not be directly callable after loading.\n",
            "WARNING:absl:Found untraced functions such as _jit_compiled_convolution_op, _update_step_xla while saving (showing 2 of 2). These functions will not be directly callable after loading.\n",
            "WARNING:absl:Found untraced functions such as _jit_compiled_convolution_op, _update_step_xla while saving (showing 2 of 2). These functions will not be directly callable after loading.\n",
            "WARNING:absl:Found untraced functions such as _jit_compiled_convolution_op, _update_step_xla while saving (showing 2 of 2). These functions will not be directly callable after loading.\n",
            "WARNING:absl:Found untraced functions such as _jit_compiled_convolution_op, _update_step_xla while saving (showing 2 of 2). These functions will not be directly callable after loading.\n",
            "WARNING:absl:Found untraced functions such as _jit_compiled_convolution_op, _update_step_xla while saving (showing 2 of 2). These functions will not be directly callable after loading.\n",
            "WARNING:absl:Found untraced functions such as _jit_compiled_convolution_op, _update_step_xla while saving (showing 2 of 2). These functions will not be directly callable after loading.\n",
            "WARNING:absl:Found untraced functions such as _jit_compiled_convolution_op, _update_step_xla while saving (showing 2 of 2). These functions will not be directly callable after loading.\n",
            "WARNING:absl:Found untraced functions such as _jit_compiled_convolution_op, _update_step_xla while saving (showing 2 of 2). These functions will not be directly callable after loading.\n"
          ]
        },
        {
          "output_type": "execute_result",
          "data": {
            "text/plain": [
              "<keras.callbacks.History at 0x7fa607490f40>"
            ]
          },
          "metadata": {},
          "execution_count": 77
        }
      ]
    },
    {
      "cell_type": "code",
      "source": [
        "model_4.summary()"
      ],
      "metadata": {
        "colab": {
          "base_uri": "https://localhost:8080/"
        },
        "id": "kjXQDH7PDd79",
        "outputId": "ddd33c8c-3a1d-46a8-f36f-c63cfbbb2b3d"
      },
      "execution_count": 78,
      "outputs": [
        {
          "output_type": "stream",
          "name": "stdout",
          "text": [
            "Model: \"model_4_conv1D\"\n",
            "_________________________________________________________________\n",
            " Layer (type)                Output Shape              Param #   \n",
            "=================================================================\n",
            " lambda_1 (Lambda)           (None, 1, 7)              0         \n",
            "                                                                 \n",
            " conv1d (Conv1D)             (None, 1, 128)            4608      \n",
            "                                                                 \n",
            " dense_6 (Dense)             (None, 1, 1)              129       \n",
            "                                                                 \n",
            "=================================================================\n",
            "Total params: 4,737\n",
            "Trainable params: 4,737\n",
            "Non-trainable params: 0\n",
            "_________________________________________________________________\n"
          ]
        }
      ]
    },
    {
      "cell_type": "code",
      "source": [
        "# Load in best performing Conv1D model and evaluate it on the test data\n",
        "model_4 = tf.keras.models.load_model(\"model_experiments/model_4_conv1D\")\n",
        "model_4.evaluate(test_windows, test_labels)"
      ],
      "metadata": {
        "colab": {
          "base_uri": "https://localhost:8080/"
        },
        "id": "zSwCtJiXDf3F",
        "outputId": "a2fb577e-ec96-4eb8-f3d0-8054115feea8"
      },
      "execution_count": 79,
      "outputs": [
        {
          "output_type": "stream",
          "name": "stdout",
          "text": [
            "20/20 [==============================] - 0s 3ms/step - loss: 839.5252\n"
          ]
        },
        {
          "output_type": "execute_result",
          "data": {
            "text/plain": [
              "839.5252075195312"
            ]
          },
          "metadata": {},
          "execution_count": 79
        }
      ]
    },
    {
      "cell_type": "code",
      "source": [
        "# Make predictions\n",
        "model_4_preds = make_preds(model_4, test_windows)\n",
        "model_4_preds[:10]\n",
        "     "
      ],
      "metadata": {
        "colab": {
          "base_uri": "https://localhost:8080/"
        },
        "id": "KaAKNay7Dh7G",
        "outputId": "0852da75-3d1e-4b2c-9b70-1aae173bfada"
      },
      "execution_count": 80,
      "outputs": [
        {
          "output_type": "stream",
          "name": "stdout",
          "text": [
            "20/20 [==============================] - 0s 2ms/step\n"
          ]
        },
        {
          "output_type": "execute_result",
          "data": {
            "text/plain": [
              "<tf.Tensor: shape=(10,), dtype=float32, numpy=\n",
              "array([33025.59 , 33502.133, 33448.58 , 34076.754, 33381.305, 32752.463,\n",
              "       32727.291, 31879.229, 31386.818, 31325.953], dtype=float32)>"
            ]
          },
          "metadata": {},
          "execution_count": 80
        }
      ]
    },
    {
      "cell_type": "code",
      "source": [
        "\n",
        "# Evaluate predictions\n",
        "model_4_results = evaluate_preds(y_true=tf.squeeze(test_labels),\n",
        "                                 y_pred=model_4_preds)\n",
        "model_4_results"
      ],
      "metadata": {
        "colab": {
          "base_uri": "https://localhost:8080/"
        },
        "id": "1p5Jg5B9Dj8X",
        "outputId": "d3a02bf2-51f5-4a7c-e7da-96fae6cce6eb"
      },
      "execution_count": 81,
      "outputs": [
        {
          "output_type": "execute_result",
          "data": {
            "text/plain": [
              "{'mae': 839.52527,\n",
              " 'mse': 1580854.6,\n",
              " 'rmse': 1257.3204,\n",
              " 'mape': 2.4313927,\n",
              " 'mase': 1.0405687}"
            ]
          },
          "metadata": {},
          "execution_count": 81
        }
      ]
    },
    {
      "cell_type": "code",
      "source": [],
      "metadata": {
        "id": "nouA5wtkDmYG"
      },
      "execution_count": null,
      "outputs": []
    }
  ]
}